{
 "cells": [
  {
   "cell_type": "code",
   "execution_count": null,
   "metadata": {},
   "outputs": [],
   "source": [
    "#Your job to do: \n",
    "#• Hired to deliver actionable insight to support your client (NGO)\n",
    "\n",
    "#Clients wants:\n",
    "#• Use previous postcard mail solicitation for donations to improve outcome in next campaign\n",
    "\n",
    "#You want:\n",
    "#•\tDetermine which individuals in their mailing database have characteristics similar to those of your most profitable donors\n",
    "\n",
    "#Goal: \n",
    "#•By soliciting only these people, your client can spend less money on solicitation effort and more money on charitable concerns\n",
    "\n",
    "\n"
   ]
  },
  {
   "cell_type": "code",
   "execution_count": 1,
   "metadata": {},
   "outputs": [
    {
     "name": "stderr",
     "output_type": "stream",
     "text": [
      "C:\\ProgramData\\Anaconda3\\lib\\site-packages\\sklearn\\ensemble\\weight_boosting.py:29: DeprecationWarning: numpy.core.umath_tests is an internal NumPy module and should not be imported. It will be removed in a future NumPy release.\n",
      "  from numpy.core.umath_tests import inner1d\n"
     ]
    }
   ],
   "source": [
    "#Data Preparation and Analysis Library\n",
    "import numpy as np\n",
    "import pandas as pd\n",
    "\n",
    "#Data visualisations Library\n",
    "import matplotlib.pyplot as plt\n",
    "import seaborn as sns\n",
    "%matplotlib inline\n",
    "from seaborn import countplot\n",
    "from matplotlib.pyplot import figure, show\n",
    "\n",
    "#Libary to selecting the most important independent variables/predictors to predict the target\n",
    "import sklearn.feature_selection\n",
    "\n",
    "#ML Algorithms/Models Library\n",
    "from sklearn.linear_model import LogisticRegression\n",
    "from sklearn.ensemble import RandomForestClassifier\n",
    "from sklearn.neighbors import KNeighborsClassifier\n",
    "from sklearn import tree\n",
    "from sklearn.svm import SVC\n",
    "\n",
    "#Libary to split data into traning set and testing set\n",
    "from sklearn.model_selection import train_test_split\n",
    "\n",
    "# Libary is used for evaluating the performance of our model\n",
    "from sklearn.metrics import roc_curve, roc_auc_score, accuracy_score"
   ]
  },
  {
   "cell_type": "markdown",
   "metadata": {},
   "source": [
    "# Read or Load The Data Sets From Data Source"
   ]
  },
  {
   "cell_type": "code",
   "execution_count": 2,
   "metadata": {},
   "outputs": [],
   "source": [
    "# Historical data, containing previous donor details\n",
    "Donors_hist_data = pd.read_csv('Donor Raw Data_ML with Python.csv')"
   ]
  },
  {
   "cell_type": "code",
   "execution_count": 3,
   "metadata": {},
   "outputs": [],
   "source": [
    " # Prospective Donors -this is a list of new contact\n",
    "Donors_prosp_data = pd.read_csv('Prospective Donor_ML with Python.csv')"
   ]
  },
  {
   "cell_type": "code",
   "execution_count": 4,
   "metadata": {},
   "outputs": [
    {
     "data": {
      "text/html": [
       "<div>\n",
       "<style scoped>\n",
       "    .dataframe tbody tr th:only-of-type {\n",
       "        vertical-align: middle;\n",
       "    }\n",
       "\n",
       "    .dataframe tbody tr th {\n",
       "        vertical-align: top;\n",
       "    }\n",
       "\n",
       "    .dataframe thead th {\n",
       "        text-align: right;\n",
       "    }\n",
       "</style>\n",
       "<table border=\"1\" class=\"dataframe\">\n",
       "  <thead>\n",
       "    <tr style=\"text-align: right;\">\n",
       "      <th></th>\n",
       "      <th>TARGET_B</th>\n",
       "      <th>TARGET_D</th>\n",
       "      <th>CONTROL_NUMBER</th>\n",
       "      <th>MONTHS_SINCE_ORIGIN</th>\n",
       "      <th>DONOR_AGE</th>\n",
       "      <th>IN_HOUSE</th>\n",
       "      <th>URBANICITY</th>\n",
       "      <th>SES</th>\n",
       "      <th>CLUSTER_CODE</th>\n",
       "      <th>HOME_OWNER</th>\n",
       "      <th>...</th>\n",
       "      <th>LIFETIME_GIFT_RANGE</th>\n",
       "      <th>LIFETIME_MAX_GIFT_AMT</th>\n",
       "      <th>LIFETIME_MIN_GIFT_AMT</th>\n",
       "      <th>LAST_GIFT_AMT</th>\n",
       "      <th>CARD_PROM_12</th>\n",
       "      <th>NUMBER_PROM_12</th>\n",
       "      <th>MONTHS_SINCE_LAST_GIFT</th>\n",
       "      <th>MONTHS_SINCE_FIRST_GIFT</th>\n",
       "      <th>FILE_AVG_GIFT</th>\n",
       "      <th>FILE_CARD_GIFT</th>\n",
       "    </tr>\n",
       "  </thead>\n",
       "  <tbody>\n",
       "    <tr>\n",
       "      <th>0</th>\n",
       "      <td>0</td>\n",
       "      <td>NaN</td>\n",
       "      <td>5</td>\n",
       "      <td>101</td>\n",
       "      <td>87.0</td>\n",
       "      <td>0</td>\n",
       "      <td>?</td>\n",
       "      <td>?</td>\n",
       "      <td>.</td>\n",
       "      <td>H</td>\n",
       "      <td>...</td>\n",
       "      <td>15.0</td>\n",
       "      <td>20.0</td>\n",
       "      <td>5.0</td>\n",
       "      <td>15.0</td>\n",
       "      <td>5</td>\n",
       "      <td>12</td>\n",
       "      <td>26</td>\n",
       "      <td>92</td>\n",
       "      <td>8.49</td>\n",
       "      <td>7</td>\n",
       "    </tr>\n",
       "    <tr>\n",
       "      <th>1</th>\n",
       "      <td>1</td>\n",
       "      <td>10.0</td>\n",
       "      <td>12</td>\n",
       "      <td>137</td>\n",
       "      <td>79.0</td>\n",
       "      <td>0</td>\n",
       "      <td>R</td>\n",
       "      <td>2</td>\n",
       "      <td>45</td>\n",
       "      <td>H</td>\n",
       "      <td>...</td>\n",
       "      <td>20.0</td>\n",
       "      <td>25.0</td>\n",
       "      <td>5.0</td>\n",
       "      <td>17.0</td>\n",
       "      <td>7</td>\n",
       "      <td>21</td>\n",
       "      <td>7</td>\n",
       "      <td>122</td>\n",
       "      <td>14.72</td>\n",
       "      <td>12</td>\n",
       "    </tr>\n",
       "    <tr>\n",
       "      <th>2</th>\n",
       "      <td>0</td>\n",
       "      <td>NaN</td>\n",
       "      <td>37</td>\n",
       "      <td>113</td>\n",
       "      <td>75.0</td>\n",
       "      <td>0</td>\n",
       "      <td>S</td>\n",
       "      <td>1</td>\n",
       "      <td>11</td>\n",
       "      <td>H</td>\n",
       "      <td>...</td>\n",
       "      <td>23.0</td>\n",
       "      <td>28.0</td>\n",
       "      <td>5.0</td>\n",
       "      <td>19.0</td>\n",
       "      <td>11</td>\n",
       "      <td>32</td>\n",
       "      <td>6</td>\n",
       "      <td>105</td>\n",
       "      <td>16.75</td>\n",
       "      <td>16</td>\n",
       "    </tr>\n",
       "    <tr>\n",
       "      <th>3</th>\n",
       "      <td>0</td>\n",
       "      <td>NaN</td>\n",
       "      <td>38</td>\n",
       "      <td>92</td>\n",
       "      <td>NaN</td>\n",
       "      <td>0</td>\n",
       "      <td>U</td>\n",
       "      <td>2</td>\n",
       "      <td>04</td>\n",
       "      <td>H</td>\n",
       "      <td>...</td>\n",
       "      <td>14.0</td>\n",
       "      <td>17.0</td>\n",
       "      <td>3.0</td>\n",
       "      <td>15.0</td>\n",
       "      <td>11</td>\n",
       "      <td>33</td>\n",
       "      <td>6</td>\n",
       "      <td>92</td>\n",
       "      <td>11.76</td>\n",
       "      <td>12</td>\n",
       "    </tr>\n",
       "    <tr>\n",
       "      <th>4</th>\n",
       "      <td>0</td>\n",
       "      <td>NaN</td>\n",
       "      <td>41</td>\n",
       "      <td>101</td>\n",
       "      <td>74.0</td>\n",
       "      <td>0</td>\n",
       "      <td>R</td>\n",
       "      <td>2</td>\n",
       "      <td>49</td>\n",
       "      <td>U</td>\n",
       "      <td>...</td>\n",
       "      <td>20.0</td>\n",
       "      <td>25.0</td>\n",
       "      <td>5.0</td>\n",
       "      <td>25.0</td>\n",
       "      <td>6</td>\n",
       "      <td>19</td>\n",
       "      <td>18</td>\n",
       "      <td>92</td>\n",
       "      <td>8.83</td>\n",
       "      <td>3</td>\n",
       "    </tr>\n",
       "  </tbody>\n",
       "</table>\n",
       "<p>5 rows × 50 columns</p>\n",
       "</div>"
      ],
      "text/plain": [
       "   TARGET_B  TARGET_D  CONTROL_NUMBER  MONTHS_SINCE_ORIGIN  DONOR_AGE  \\\n",
       "0         0       NaN               5                  101       87.0   \n",
       "1         1      10.0              12                  137       79.0   \n",
       "2         0       NaN              37                  113       75.0   \n",
       "3         0       NaN              38                   92        NaN   \n",
       "4         0       NaN              41                  101       74.0   \n",
       "\n",
       "   IN_HOUSE URBANICITY SES CLUSTER_CODE HOME_OWNER       ...        \\\n",
       "0         0          ?   ?            .          H       ...         \n",
       "1         0          R   2           45          H       ...         \n",
       "2         0          S   1           11          H       ...         \n",
       "3         0          U   2           04          H       ...         \n",
       "4         0          R   2           49          U       ...         \n",
       "\n",
       "  LIFETIME_GIFT_RANGE  LIFETIME_MAX_GIFT_AMT  LIFETIME_MIN_GIFT_AMT  \\\n",
       "0                15.0                   20.0                    5.0   \n",
       "1                20.0                   25.0                    5.0   \n",
       "2                23.0                   28.0                    5.0   \n",
       "3                14.0                   17.0                    3.0   \n",
       "4                20.0                   25.0                    5.0   \n",
       "\n",
       "  LAST_GIFT_AMT  CARD_PROM_12  NUMBER_PROM_12  MONTHS_SINCE_LAST_GIFT  \\\n",
       "0          15.0             5              12                      26   \n",
       "1          17.0             7              21                       7   \n",
       "2          19.0            11              32                       6   \n",
       "3          15.0            11              33                       6   \n",
       "4          25.0             6              19                      18   \n",
       "\n",
       "   MONTHS_SINCE_FIRST_GIFT  FILE_AVG_GIFT  FILE_CARD_GIFT  \n",
       "0                       92           8.49               7  \n",
       "1                      122          14.72              12  \n",
       "2                      105          16.75              16  \n",
       "3                       92          11.76              12  \n",
       "4                       92           8.83               3  \n",
       "\n",
       "[5 rows x 50 columns]"
      ]
     },
     "execution_count": 4,
     "metadata": {},
     "output_type": "execute_result"
    }
   ],
   "source": [
    "#Head Historical Data\n",
    "Donors_hist_data.head()"
   ]
  },
  {
   "cell_type": "markdown",
   "metadata": {},
   "source": [
    "# Understanding the Data Sets"
   ]
  },
  {
   "cell_type": "code",
   "execution_count": 5,
   "metadata": {},
   "outputs": [
    {
     "name": "stdout",
     "output_type": "stream",
     "text": [
      "<class 'pandas.core.frame.DataFrame'>\n",
      "RangeIndex: 2148 entries, 0 to 2147\n",
      "Data columns (total 48 columns):\n",
      "CONTROL_NUMBER                 2148 non-null int64\n",
      "MONTHS_SINCE_ORIGIN            2148 non-null int64\n",
      "DONOR_AGE                      1619 non-null float64\n",
      "IN_HOUSE                       2148 non-null int64\n",
      "URBANICITY                     2148 non-null object\n",
      "SES                            2148 non-null object\n",
      "CLUSTER_CODE                   2148 non-null object\n",
      "HOME_OWNER                     2148 non-null object\n",
      "DONOR_GENDER                   2148 non-null object\n",
      "INCOME_GROUP                   1667 non-null float64\n",
      "PUBLISHED_PHONE                2148 non-null int64\n",
      "OVERLAY_SOURCE                 2148 non-null object\n",
      "MOR_HIT_RATE                   2148 non-null int64\n",
      "WEALTH_RATING                  1142 non-null float64\n",
      "MEDIAN_HOME_VALUE              2148 non-null int64\n",
      "MEDIAN_HOUSEHOLD_INCOME        2148 non-null int64\n",
      "PCT_OWNER_OCCUPIED             2148 non-null int64\n",
      "PER_CAPITA_INCOME              2148 non-null int64\n",
      "PCT_ATTRIBUTE1                 2148 non-null int64\n",
      "PCT_ATTRIBUTE2                 2148 non-null int64\n",
      "PCT_ATTRIBUTE3                 2148 non-null int64\n",
      "PCT_ATTRIBUTE4                 2148 non-null int64\n",
      "PEP_STAR                       2148 non-null int64\n",
      "RECENT_STAR_STATUS             2148 non-null int64\n",
      "RECENCY_STATUS_96NK            2148 non-null object\n",
      "FREQUENCY_STATUS_97NK          2148 non-null int64\n",
      "RECENT_RESPONSE_PROP           2148 non-null float64\n",
      "RECENT_AVG_GIFT_AMT            2148 non-null float64\n",
      "RECENT_CARD_RESPONSE_PROP      2148 non-null float64\n",
      "RECENT_AVG_CARD_GIFT_AMT       2148 non-null float64\n",
      "RECENT_RESPONSE_COUNT          2148 non-null int64\n",
      "RECENT_CARD_RESPONSE_COUNT     2148 non-null int64\n",
      "MONTHS_SINCE_LAST_PROM_RESP    2122 non-null float64\n",
      "LIFETIME_CARD_PROM             2148 non-null int64\n",
      "LIFETIME_PROM                  2148 non-null int64\n",
      "LIFETIME_GIFT_AMOUNT           2148 non-null float64\n",
      "LIFETIME_GIFT_COUNT            2148 non-null int64\n",
      "LIFETIME_AVG_GIFT_AMT          2148 non-null float64\n",
      "LIFETIME_GIFT_RANGE            2148 non-null float64\n",
      "LIFETIME_MAX_GIFT_AMT          2148 non-null float64\n",
      "LIFETIME_MIN_GIFT_AMT          2148 non-null float64\n",
      "LAST_GIFT_AMT                  2148 non-null float64\n",
      "CARD_PROM_12                   2148 non-null int64\n",
      "NUMBER_PROM_12                 2148 non-null int64\n",
      "MONTHS_SINCE_LAST_GIFT         2148 non-null int64\n",
      "MONTHS_SINCE_FIRST_GIFT        2148 non-null int64\n",
      "FILE_AVG_GIFT                  2148 non-null float64\n",
      "FILE_CARD_GIFT                 2148 non-null int64\n",
      "dtypes: float64(15), int64(26), object(7)\n",
      "memory usage: 805.6+ KB\n"
     ]
    }
   ],
   "source": [
    "#Information of Donors Prospectives Data\n",
    "Donors_prosp_data.info()"
   ]
  },
  {
   "cell_type": "code",
   "execution_count": 6,
   "metadata": {},
   "outputs": [
    {
     "data": {
      "text/html": [
       "<div>\n",
       "<style scoped>\n",
       "    .dataframe tbody tr th:only-of-type {\n",
       "        vertical-align: middle;\n",
       "    }\n",
       "\n",
       "    .dataframe tbody tr th {\n",
       "        vertical-align: top;\n",
       "    }\n",
       "\n",
       "    .dataframe thead th {\n",
       "        text-align: right;\n",
       "    }\n",
       "</style>\n",
       "<table border=\"1\" class=\"dataframe\">\n",
       "  <thead>\n",
       "    <tr style=\"text-align: right;\">\n",
       "      <th></th>\n",
       "      <th>TARGET_B</th>\n",
       "      <th>TARGET_D</th>\n",
       "      <th>CONTROL_NUMBER</th>\n",
       "      <th>MONTHS_SINCE_ORIGIN</th>\n",
       "      <th>DONOR_AGE</th>\n",
       "      <th>IN_HOUSE</th>\n",
       "      <th>URBANICITY</th>\n",
       "      <th>SES</th>\n",
       "      <th>CLUSTER_CODE</th>\n",
       "      <th>HOME_OWNER</th>\n",
       "      <th>...</th>\n",
       "      <th>LIFETIME_GIFT_RANGE</th>\n",
       "      <th>LIFETIME_MAX_GIFT_AMT</th>\n",
       "      <th>LIFETIME_MIN_GIFT_AMT</th>\n",
       "      <th>LAST_GIFT_AMT</th>\n",
       "      <th>CARD_PROM_12</th>\n",
       "      <th>NUMBER_PROM_12</th>\n",
       "      <th>MONTHS_SINCE_LAST_GIFT</th>\n",
       "      <th>MONTHS_SINCE_FIRST_GIFT</th>\n",
       "      <th>FILE_AVG_GIFT</th>\n",
       "      <th>FILE_CARD_GIFT</th>\n",
       "    </tr>\n",
       "  </thead>\n",
       "  <tbody>\n",
       "    <tr>\n",
       "      <th>19367</th>\n",
       "      <td>0</td>\n",
       "      <td>NaN</td>\n",
       "      <td>191687</td>\n",
       "      <td>89</td>\n",
       "      <td>66.0</td>\n",
       "      <td>1</td>\n",
       "      <td>U</td>\n",
       "      <td>1</td>\n",
       "      <td>03</td>\n",
       "      <td>H</td>\n",
       "      <td>...</td>\n",
       "      <td>22.0</td>\n",
       "      <td>25.0</td>\n",
       "      <td>3.0</td>\n",
       "      <td>15.0</td>\n",
       "      <td>6</td>\n",
       "      <td>13</td>\n",
       "      <td>18</td>\n",
       "      <td>81</td>\n",
       "      <td>17.17</td>\n",
       "      <td>3</td>\n",
       "    </tr>\n",
       "    <tr>\n",
       "      <th>19368</th>\n",
       "      <td>0</td>\n",
       "      <td>NaN</td>\n",
       "      <td>191710</td>\n",
       "      <td>137</td>\n",
       "      <td>77.0</td>\n",
       "      <td>1</td>\n",
       "      <td>C</td>\n",
       "      <td>1</td>\n",
       "      <td>24</td>\n",
       "      <td>H</td>\n",
       "      <td>...</td>\n",
       "      <td>9.0</td>\n",
       "      <td>10.0</td>\n",
       "      <td>1.0</td>\n",
       "      <td>10.0</td>\n",
       "      <td>6</td>\n",
       "      <td>13</td>\n",
       "      <td>21</td>\n",
       "      <td>130</td>\n",
       "      <td>7.81</td>\n",
       "      <td>13</td>\n",
       "    </tr>\n",
       "    <tr>\n",
       "      <th>19369</th>\n",
       "      <td>0</td>\n",
       "      <td>NaN</td>\n",
       "      <td>191746</td>\n",
       "      <td>29</td>\n",
       "      <td>NaN</td>\n",
       "      <td>1</td>\n",
       "      <td>S</td>\n",
       "      <td>1</td>\n",
       "      <td>11</td>\n",
       "      <td>U</td>\n",
       "      <td>...</td>\n",
       "      <td>0.0</td>\n",
       "      <td>15.0</td>\n",
       "      <td>15.0</td>\n",
       "      <td>15.0</td>\n",
       "      <td>3</td>\n",
       "      <td>9</td>\n",
       "      <td>23</td>\n",
       "      <td>23</td>\n",
       "      <td>15.00</td>\n",
       "      <td>0</td>\n",
       "    </tr>\n",
       "    <tr>\n",
       "      <th>19370</th>\n",
       "      <td>0</td>\n",
       "      <td>NaN</td>\n",
       "      <td>191775</td>\n",
       "      <td>129</td>\n",
       "      <td>78.0</td>\n",
       "      <td>1</td>\n",
       "      <td>?</td>\n",
       "      <td>?</td>\n",
       "      <td>.</td>\n",
       "      <td>U</td>\n",
       "      <td>...</td>\n",
       "      <td>20.0</td>\n",
       "      <td>25.0</td>\n",
       "      <td>5.0</td>\n",
       "      <td>25.0</td>\n",
       "      <td>7</td>\n",
       "      <td>24</td>\n",
       "      <td>8</td>\n",
       "      <td>129</td>\n",
       "      <td>18.33</td>\n",
       "      <td>11</td>\n",
       "    </tr>\n",
       "    <tr>\n",
       "      <th>19371</th>\n",
       "      <td>1</td>\n",
       "      <td>150.0</td>\n",
       "      <td>191779</td>\n",
       "      <td>29</td>\n",
       "      <td>70.0</td>\n",
       "      <td>0</td>\n",
       "      <td>?</td>\n",
       "      <td>?</td>\n",
       "      <td>.</td>\n",
       "      <td>U</td>\n",
       "      <td>...</td>\n",
       "      <td>0.0</td>\n",
       "      <td>25.0</td>\n",
       "      <td>25.0</td>\n",
       "      <td>25.0</td>\n",
       "      <td>4</td>\n",
       "      <td>9</td>\n",
       "      <td>24</td>\n",
       "      <td>24</td>\n",
       "      <td>25.00</td>\n",
       "      <td>1</td>\n",
       "    </tr>\n",
       "  </tbody>\n",
       "</table>\n",
       "<p>5 rows × 50 columns</p>\n",
       "</div>"
      ],
      "text/plain": [
       "       TARGET_B  TARGET_D  CONTROL_NUMBER  MONTHS_SINCE_ORIGIN  DONOR_AGE  \\\n",
       "19367         0       NaN          191687                   89       66.0   \n",
       "19368         0       NaN          191710                  137       77.0   \n",
       "19369         0       NaN          191746                   29        NaN   \n",
       "19370         0       NaN          191775                  129       78.0   \n",
       "19371         1     150.0          191779                   29       70.0   \n",
       "\n",
       "       IN_HOUSE URBANICITY SES CLUSTER_CODE HOME_OWNER       ...        \\\n",
       "19367         1          U   1           03          H       ...         \n",
       "19368         1          C   1           24          H       ...         \n",
       "19369         1          S   1           11          U       ...         \n",
       "19370         1          ?   ?            .          U       ...         \n",
       "19371         0          ?   ?            .          U       ...         \n",
       "\n",
       "      LIFETIME_GIFT_RANGE  LIFETIME_MAX_GIFT_AMT  LIFETIME_MIN_GIFT_AMT  \\\n",
       "19367                22.0                   25.0                    3.0   \n",
       "19368                 9.0                   10.0                    1.0   \n",
       "19369                 0.0                   15.0                   15.0   \n",
       "19370                20.0                   25.0                    5.0   \n",
       "19371                 0.0                   25.0                   25.0   \n",
       "\n",
       "      LAST_GIFT_AMT  CARD_PROM_12  NUMBER_PROM_12  MONTHS_SINCE_LAST_GIFT  \\\n",
       "19367          15.0             6              13                      18   \n",
       "19368          10.0             6              13                      21   \n",
       "19369          15.0             3               9                      23   \n",
       "19370          25.0             7              24                       8   \n",
       "19371          25.0             4               9                      24   \n",
       "\n",
       "       MONTHS_SINCE_FIRST_GIFT  FILE_AVG_GIFT  FILE_CARD_GIFT  \n",
       "19367                       81          17.17               3  \n",
       "19368                      130           7.81              13  \n",
       "19369                       23          15.00               0  \n",
       "19370                      129          18.33              11  \n",
       "19371                       24          25.00               1  \n",
       "\n",
       "[5 rows x 50 columns]"
      ]
     },
     "execution_count": 6,
     "metadata": {},
     "output_type": "execute_result"
    }
   ],
   "source": [
    "#Tail Historical Data\n",
    "Donors_hist_data.tail()"
   ]
  },
  {
   "cell_type": "code",
   "execution_count": 7,
   "metadata": {},
   "outputs": [
    {
     "data": {
      "text/plain": [
       "(19372, 50)"
      ]
     },
     "execution_count": 7,
     "metadata": {},
     "output_type": "execute_result"
    }
   ],
   "source": [
    "# Shape Historical Data\n",
    "Donors_hist_data.shape"
   ]
  },
  {
   "cell_type": "code",
   "execution_count": 8,
   "metadata": {},
   "outputs": [
    {
     "data": {
      "text/html": [
       "<div>\n",
       "<style scoped>\n",
       "    .dataframe tbody tr th:only-of-type {\n",
       "        vertical-align: middle;\n",
       "    }\n",
       "\n",
       "    .dataframe tbody tr th {\n",
       "        vertical-align: top;\n",
       "    }\n",
       "\n",
       "    .dataframe thead th {\n",
       "        text-align: right;\n",
       "    }\n",
       "</style>\n",
       "<table border=\"1\" class=\"dataframe\">\n",
       "  <thead>\n",
       "    <tr style=\"text-align: right;\">\n",
       "      <th></th>\n",
       "      <th>TARGET_B</th>\n",
       "      <th>TARGET_D</th>\n",
       "      <th>CONTROL_NUMBER</th>\n",
       "      <th>MONTHS_SINCE_ORIGIN</th>\n",
       "      <th>DONOR_AGE</th>\n",
       "      <th>IN_HOUSE</th>\n",
       "      <th>INCOME_GROUP</th>\n",
       "      <th>PUBLISHED_PHONE</th>\n",
       "      <th>MOR_HIT_RATE</th>\n",
       "      <th>WEALTH_RATING</th>\n",
       "      <th>...</th>\n",
       "      <th>LIFETIME_GIFT_RANGE</th>\n",
       "      <th>LIFETIME_MAX_GIFT_AMT</th>\n",
       "      <th>LIFETIME_MIN_GIFT_AMT</th>\n",
       "      <th>LAST_GIFT_AMT</th>\n",
       "      <th>CARD_PROM_12</th>\n",
       "      <th>NUMBER_PROM_12</th>\n",
       "      <th>MONTHS_SINCE_LAST_GIFT</th>\n",
       "      <th>MONTHS_SINCE_FIRST_GIFT</th>\n",
       "      <th>FILE_AVG_GIFT</th>\n",
       "      <th>FILE_CARD_GIFT</th>\n",
       "    </tr>\n",
       "  </thead>\n",
       "  <tbody>\n",
       "    <tr>\n",
       "      <th>count</th>\n",
       "      <td>19372.000000</td>\n",
       "      <td>4843.000000</td>\n",
       "      <td>19372.000000</td>\n",
       "      <td>19372.000000</td>\n",
       "      <td>14577.000000</td>\n",
       "      <td>19372.000000</td>\n",
       "      <td>14980.000000</td>\n",
       "      <td>19372.000000</td>\n",
       "      <td>19372.000000</td>\n",
       "      <td>10562.000000</td>\n",
       "      <td>...</td>\n",
       "      <td>19372.000000</td>\n",
       "      <td>19372.000000</td>\n",
       "      <td>19372.000000</td>\n",
       "      <td>19372.000000</td>\n",
       "      <td>19372.000000</td>\n",
       "      <td>19372.000000</td>\n",
       "      <td>19372.000000</td>\n",
       "      <td>19372.000000</td>\n",
       "      <td>19372.000000</td>\n",
       "      <td>19372.000000</td>\n",
       "    </tr>\n",
       "    <tr>\n",
       "      <th>mean</th>\n",
       "      <td>0.250000</td>\n",
       "      <td>15.624344</td>\n",
       "      <td>96546.225377</td>\n",
       "      <td>73.409973</td>\n",
       "      <td>58.919051</td>\n",
       "      <td>0.073198</td>\n",
       "      <td>3.907543</td>\n",
       "      <td>0.497729</td>\n",
       "      <td>3.361656</td>\n",
       "      <td>5.005397</td>\n",
       "      <td>...</td>\n",
       "      <td>11.587876</td>\n",
       "      <td>19.208808</td>\n",
       "      <td>7.620932</td>\n",
       "      <td>16.584199</td>\n",
       "      <td>5.367128</td>\n",
       "      <td>12.901869</td>\n",
       "      <td>18.191152</td>\n",
       "      <td>69.482088</td>\n",
       "      <td>12.858338</td>\n",
       "      <td>5.273591</td>\n",
       "    </tr>\n",
       "    <tr>\n",
       "      <th>std</th>\n",
       "      <td>0.433024</td>\n",
       "      <td>12.445137</td>\n",
       "      <td>55830.643871</td>\n",
       "      <td>41.255574</td>\n",
       "      <td>16.669382</td>\n",
       "      <td>0.260469</td>\n",
       "      <td>1.864796</td>\n",
       "      <td>0.500008</td>\n",
       "      <td>9.503481</td>\n",
       "      <td>2.815386</td>\n",
       "      <td>...</td>\n",
       "      <td>15.116893</td>\n",
       "      <td>16.101128</td>\n",
       "      <td>7.959786</td>\n",
       "      <td>11.977558</td>\n",
       "      <td>1.264205</td>\n",
       "      <td>4.642072</td>\n",
       "      <td>4.033065</td>\n",
       "      <td>37.568169</td>\n",
       "      <td>8.787758</td>\n",
       "      <td>4.607063</td>\n",
       "    </tr>\n",
       "    <tr>\n",
       "      <th>min</th>\n",
       "      <td>0.000000</td>\n",
       "      <td>1.000000</td>\n",
       "      <td>5.000000</td>\n",
       "      <td>5.000000</td>\n",
       "      <td>0.000000</td>\n",
       "      <td>0.000000</td>\n",
       "      <td>1.000000</td>\n",
       "      <td>0.000000</td>\n",
       "      <td>0.000000</td>\n",
       "      <td>0.000000</td>\n",
       "      <td>...</td>\n",
       "      <td>0.000000</td>\n",
       "      <td>5.000000</td>\n",
       "      <td>0.000000</td>\n",
       "      <td>0.000000</td>\n",
       "      <td>0.000000</td>\n",
       "      <td>2.000000</td>\n",
       "      <td>4.000000</td>\n",
       "      <td>15.000000</td>\n",
       "      <td>1.360000</td>\n",
       "      <td>0.000000</td>\n",
       "    </tr>\n",
       "    <tr>\n",
       "      <th>25%</th>\n",
       "      <td>0.000000</td>\n",
       "      <td>10.000000</td>\n",
       "      <td>48289.000000</td>\n",
       "      <td>29.000000</td>\n",
       "      <td>47.000000</td>\n",
       "      <td>0.000000</td>\n",
       "      <td>2.000000</td>\n",
       "      <td>0.000000</td>\n",
       "      <td>0.000000</td>\n",
       "      <td>3.000000</td>\n",
       "      <td>...</td>\n",
       "      <td>5.000000</td>\n",
       "      <td>12.000000</td>\n",
       "      <td>3.000000</td>\n",
       "      <td>10.000000</td>\n",
       "      <td>5.000000</td>\n",
       "      <td>11.000000</td>\n",
       "      <td>16.000000</td>\n",
       "      <td>33.000000</td>\n",
       "      <td>8.000000</td>\n",
       "      <td>2.000000</td>\n",
       "    </tr>\n",
       "    <tr>\n",
       "      <th>50%</th>\n",
       "      <td>0.000000</td>\n",
       "      <td>13.000000</td>\n",
       "      <td>96937.000000</td>\n",
       "      <td>65.000000</td>\n",
       "      <td>60.000000</td>\n",
       "      <td>0.000000</td>\n",
       "      <td>4.000000</td>\n",
       "      <td>0.000000</td>\n",
       "      <td>0.000000</td>\n",
       "      <td>5.000000</td>\n",
       "      <td>...</td>\n",
       "      <td>10.000000</td>\n",
       "      <td>16.000000</td>\n",
       "      <td>5.000000</td>\n",
       "      <td>15.000000</td>\n",
       "      <td>6.000000</td>\n",
       "      <td>12.000000</td>\n",
       "      <td>18.000000</td>\n",
       "      <td>65.000000</td>\n",
       "      <td>11.200000</td>\n",
       "      <td>4.000000</td>\n",
       "    </tr>\n",
       "    <tr>\n",
       "      <th>75%</th>\n",
       "      <td>0.250000</td>\n",
       "      <td>20.000000</td>\n",
       "      <td>145429.500000</td>\n",
       "      <td>113.000000</td>\n",
       "      <td>73.000000</td>\n",
       "      <td>0.000000</td>\n",
       "      <td>5.000000</td>\n",
       "      <td>1.000000</td>\n",
       "      <td>3.000000</td>\n",
       "      <td>7.000000</td>\n",
       "      <td>...</td>\n",
       "      <td>15.000000</td>\n",
       "      <td>21.000000</td>\n",
       "      <td>10.000000</td>\n",
       "      <td>20.000000</td>\n",
       "      <td>6.000000</td>\n",
       "      <td>13.000000</td>\n",
       "      <td>20.000000</td>\n",
       "      <td>105.000000</td>\n",
       "      <td>15.000000</td>\n",
       "      <td>8.000000</td>\n",
       "    </tr>\n",
       "    <tr>\n",
       "      <th>max</th>\n",
       "      <td>1.000000</td>\n",
       "      <td>200.000000</td>\n",
       "      <td>191779.000000</td>\n",
       "      <td>137.000000</td>\n",
       "      <td>87.000000</td>\n",
       "      <td>1.000000</td>\n",
       "      <td>7.000000</td>\n",
       "      <td>1.000000</td>\n",
       "      <td>241.000000</td>\n",
       "      <td>9.000000</td>\n",
       "      <td>...</td>\n",
       "      <td>997.000000</td>\n",
       "      <td>1000.000000</td>\n",
       "      <td>450.000000</td>\n",
       "      <td>450.000000</td>\n",
       "      <td>17.000000</td>\n",
       "      <td>64.000000</td>\n",
       "      <td>27.000000</td>\n",
       "      <td>260.000000</td>\n",
       "      <td>450.000000</td>\n",
       "      <td>41.000000</td>\n",
       "    </tr>\n",
       "  </tbody>\n",
       "</table>\n",
       "<p>8 rows × 43 columns</p>\n",
       "</div>"
      ],
      "text/plain": [
       "           TARGET_B     TARGET_D  CONTROL_NUMBER  MONTHS_SINCE_ORIGIN  \\\n",
       "count  19372.000000  4843.000000    19372.000000         19372.000000   \n",
       "mean       0.250000    15.624344    96546.225377            73.409973   \n",
       "std        0.433024    12.445137    55830.643871            41.255574   \n",
       "min        0.000000     1.000000        5.000000             5.000000   \n",
       "25%        0.000000    10.000000    48289.000000            29.000000   \n",
       "50%        0.000000    13.000000    96937.000000            65.000000   \n",
       "75%        0.250000    20.000000   145429.500000           113.000000   \n",
       "max        1.000000   200.000000   191779.000000           137.000000   \n",
       "\n",
       "          DONOR_AGE      IN_HOUSE  INCOME_GROUP  PUBLISHED_PHONE  \\\n",
       "count  14577.000000  19372.000000  14980.000000     19372.000000   \n",
       "mean      58.919051      0.073198      3.907543         0.497729   \n",
       "std       16.669382      0.260469      1.864796         0.500008   \n",
       "min        0.000000      0.000000      1.000000         0.000000   \n",
       "25%       47.000000      0.000000      2.000000         0.000000   \n",
       "50%       60.000000      0.000000      4.000000         0.000000   \n",
       "75%       73.000000      0.000000      5.000000         1.000000   \n",
       "max       87.000000      1.000000      7.000000         1.000000   \n",
       "\n",
       "       MOR_HIT_RATE  WEALTH_RATING       ...        LIFETIME_GIFT_RANGE  \\\n",
       "count  19372.000000   10562.000000       ...               19372.000000   \n",
       "mean       3.361656       5.005397       ...                  11.587876   \n",
       "std        9.503481       2.815386       ...                  15.116893   \n",
       "min        0.000000       0.000000       ...                   0.000000   \n",
       "25%        0.000000       3.000000       ...                   5.000000   \n",
       "50%        0.000000       5.000000       ...                  10.000000   \n",
       "75%        3.000000       7.000000       ...                  15.000000   \n",
       "max      241.000000       9.000000       ...                 997.000000   \n",
       "\n",
       "       LIFETIME_MAX_GIFT_AMT  LIFETIME_MIN_GIFT_AMT  LAST_GIFT_AMT  \\\n",
       "count           19372.000000           19372.000000   19372.000000   \n",
       "mean               19.208808               7.620932      16.584199   \n",
       "std                16.101128               7.959786      11.977558   \n",
       "min                 5.000000               0.000000       0.000000   \n",
       "25%                12.000000               3.000000      10.000000   \n",
       "50%                16.000000               5.000000      15.000000   \n",
       "75%                21.000000              10.000000      20.000000   \n",
       "max              1000.000000             450.000000     450.000000   \n",
       "\n",
       "       CARD_PROM_12  NUMBER_PROM_12  MONTHS_SINCE_LAST_GIFT  \\\n",
       "count  19372.000000    19372.000000            19372.000000   \n",
       "mean       5.367128       12.901869               18.191152   \n",
       "std        1.264205        4.642072                4.033065   \n",
       "min        0.000000        2.000000                4.000000   \n",
       "25%        5.000000       11.000000               16.000000   \n",
       "50%        6.000000       12.000000               18.000000   \n",
       "75%        6.000000       13.000000               20.000000   \n",
       "max       17.000000       64.000000               27.000000   \n",
       "\n",
       "       MONTHS_SINCE_FIRST_GIFT  FILE_AVG_GIFT  FILE_CARD_GIFT  \n",
       "count             19372.000000   19372.000000    19372.000000  \n",
       "mean                 69.482088      12.858338        5.273591  \n",
       "std                  37.568169       8.787758        4.607063  \n",
       "min                  15.000000       1.360000        0.000000  \n",
       "25%                  33.000000       8.000000        2.000000  \n",
       "50%                  65.000000      11.200000        4.000000  \n",
       "75%                 105.000000      15.000000        8.000000  \n",
       "max                 260.000000     450.000000       41.000000  \n",
       "\n",
       "[8 rows x 43 columns]"
      ]
     },
     "execution_count": 8,
     "metadata": {},
     "output_type": "execute_result"
    }
   ],
   "source": [
    "# Describe Historical Data \n",
    "Donors_hist_data.describe()"
   ]
  },
  {
   "cell_type": "code",
   "execution_count": 9,
   "metadata": {},
   "outputs": [
    {
     "name": "stdout",
     "output_type": "stream",
     "text": [
      "<class 'pandas.core.frame.DataFrame'>\n",
      "RangeIndex: 19372 entries, 0 to 19371\n",
      "Data columns (total 50 columns):\n",
      "TARGET_B                       19372 non-null int64\n",
      "TARGET_D                       4843 non-null float64\n",
      "CONTROL_NUMBER                 19372 non-null int64\n",
      "MONTHS_SINCE_ORIGIN            19372 non-null int64\n",
      "DONOR_AGE                      14577 non-null float64\n",
      "IN_HOUSE                       19372 non-null int64\n",
      "URBANICITY                     19372 non-null object\n",
      "SES                            19372 non-null object\n",
      "CLUSTER_CODE                   19372 non-null object\n",
      "HOME_OWNER                     19372 non-null object\n",
      "DONOR_GENDER                   19372 non-null object\n",
      "INCOME_GROUP                   14980 non-null float64\n",
      "PUBLISHED_PHONE                19372 non-null int64\n",
      "OVERLAY_SOURCE                 19372 non-null object\n",
      "MOR_HIT_RATE                   19372 non-null int64\n",
      "WEALTH_RATING                  10562 non-null float64\n",
      "MEDIAN_HOME_VALUE              19372 non-null int64\n",
      "MEDIAN_HOUSEHOLD_INCOME        19372 non-null int64\n",
      "PCT_OWNER_OCCUPIED             19372 non-null int64\n",
      "PER_CAPITA_INCOME              19372 non-null int64\n",
      "PCT_ATTRIBUTE1                 19372 non-null int64\n",
      "PCT_ATTRIBUTE2                 19372 non-null int64\n",
      "PCT_ATTRIBUTE3                 19372 non-null int64\n",
      "PCT_ATTRIBUTE4                 19372 non-null int64\n",
      "PEP_STAR                       19372 non-null int64\n",
      "RECENT_STAR_STATUS             19372 non-null int64\n",
      "RECENCY_STATUS_96NK            19372 non-null object\n",
      "FREQUENCY_STATUS_97NK          19372 non-null int64\n",
      "RECENT_RESPONSE_PROP           19372 non-null float64\n",
      "RECENT_AVG_GIFT_AMT            19372 non-null float64\n",
      "RECENT_CARD_RESPONSE_PROP      19372 non-null float64\n",
      "RECENT_AVG_CARD_GIFT_AMT       19372 non-null float64\n",
      "RECENT_RESPONSE_COUNT          19372 non-null int64\n",
      "RECENT_CARD_RESPONSE_COUNT     19372 non-null int64\n",
      "MONTHS_SINCE_LAST_PROM_RESP    19126 non-null float64\n",
      "LIFETIME_CARD_PROM             19372 non-null int64\n",
      "LIFETIME_PROM                  19372 non-null int64\n",
      "LIFETIME_GIFT_AMOUNT           19372 non-null float64\n",
      "LIFETIME_GIFT_COUNT            19372 non-null int64\n",
      "LIFETIME_AVG_GIFT_AMT          19372 non-null float64\n",
      "LIFETIME_GIFT_RANGE            19372 non-null float64\n",
      "LIFETIME_MAX_GIFT_AMT          19372 non-null float64\n",
      "LIFETIME_MIN_GIFT_AMT          19372 non-null float64\n",
      "LAST_GIFT_AMT                  19372 non-null float64\n",
      "CARD_PROM_12                   19372 non-null int64\n",
      "NUMBER_PROM_12                 19372 non-null int64\n",
      "MONTHS_SINCE_LAST_GIFT         19372 non-null int64\n",
      "MONTHS_SINCE_FIRST_GIFT        19372 non-null int64\n",
      "FILE_AVG_GIFT                  19372 non-null float64\n",
      "FILE_CARD_GIFT                 19372 non-null int64\n",
      "dtypes: float64(16), int64(27), object(7)\n",
      "memory usage: 7.4+ MB\n"
     ]
    }
   ],
   "source": [
    "#Information Donors Historical Data \n",
    "Donors_hist_data.info()"
   ]
  },
  {
   "cell_type": "code",
   "execution_count": 10,
   "metadata": {
    "scrolled": true
   },
   "outputs": [
    {
     "data": {
      "text/plain": [
       "TARGET_B                           0\n",
       "TARGET_D                       14529\n",
       "CONTROL_NUMBER                     0\n",
       "MONTHS_SINCE_ORIGIN                0\n",
       "DONOR_AGE                       4795\n",
       "IN_HOUSE                           0\n",
       "URBANICITY                         0\n",
       "SES                                0\n",
       "CLUSTER_CODE                       0\n",
       "HOME_OWNER                         0\n",
       "DONOR_GENDER                       0\n",
       "INCOME_GROUP                    4392\n",
       "PUBLISHED_PHONE                    0\n",
       "OVERLAY_SOURCE                     0\n",
       "MOR_HIT_RATE                       0\n",
       "WEALTH_RATING                   8810\n",
       "MEDIAN_HOME_VALUE                  0\n",
       "MEDIAN_HOUSEHOLD_INCOME            0\n",
       "PCT_OWNER_OCCUPIED                 0\n",
       "PER_CAPITA_INCOME                  0\n",
       "PCT_ATTRIBUTE1                     0\n",
       "PCT_ATTRIBUTE2                     0\n",
       "PCT_ATTRIBUTE3                     0\n",
       "PCT_ATTRIBUTE4                     0\n",
       "PEP_STAR                           0\n",
       "RECENT_STAR_STATUS                 0\n",
       "RECENCY_STATUS_96NK                0\n",
       "FREQUENCY_STATUS_97NK              0\n",
       "RECENT_RESPONSE_PROP               0\n",
       "RECENT_AVG_GIFT_AMT                0\n",
       "RECENT_CARD_RESPONSE_PROP          0\n",
       "RECENT_AVG_CARD_GIFT_AMT           0\n",
       "RECENT_RESPONSE_COUNT              0\n",
       "RECENT_CARD_RESPONSE_COUNT         0\n",
       "MONTHS_SINCE_LAST_PROM_RESP      246\n",
       "LIFETIME_CARD_PROM                 0\n",
       "LIFETIME_PROM                      0\n",
       "LIFETIME_GIFT_AMOUNT               0\n",
       "LIFETIME_GIFT_COUNT                0\n",
       "LIFETIME_AVG_GIFT_AMT              0\n",
       "LIFETIME_GIFT_RANGE                0\n",
       "LIFETIME_MAX_GIFT_AMT              0\n",
       "LIFETIME_MIN_GIFT_AMT              0\n",
       "LAST_GIFT_AMT                      0\n",
       "CARD_PROM_12                       0\n",
       "NUMBER_PROM_12                     0\n",
       "MONTHS_SINCE_LAST_GIFT             0\n",
       "MONTHS_SINCE_FIRST_GIFT            0\n",
       "FILE_AVG_GIFT                      0\n",
       "FILE_CARD_GIFT                     0\n",
       "dtype: int64"
      ]
     },
     "execution_count": 10,
     "metadata": {},
     "output_type": "execute_result"
    }
   ],
   "source": [
    "#Sum of Isnull Values of Donors Historical Data\n",
    "Donors_hist_data.isnull().sum()"
   ]
  },
  {
   "cell_type": "code",
   "execution_count": 11,
   "metadata": {},
   "outputs": [
    {
     "data": {
      "text/plain": [
       "0"
      ]
     },
     "execution_count": 11,
     "metadata": {},
     "output_type": "execute_result"
    }
   ],
   "source": [
    "#Checking for duplicated sum values of Donors Historical Data\n",
    "Donors_hist_data.duplicated().sum()"
   ]
  },
  {
   "cell_type": "code",
   "execution_count": 12,
   "metadata": {},
   "outputs": [
    {
     "data": {
      "text/plain": [
       "Index(['TARGET_B', 'TARGET_D', 'CONTROL_NUMBER', 'MONTHS_SINCE_ORIGIN',\n",
       "       'DONOR_AGE', 'IN_HOUSE', 'URBANICITY', 'SES', 'CLUSTER_CODE',\n",
       "       'HOME_OWNER', 'DONOR_GENDER', 'INCOME_GROUP', 'PUBLISHED_PHONE',\n",
       "       'OVERLAY_SOURCE', 'MOR_HIT_RATE', 'WEALTH_RATING', 'MEDIAN_HOME_VALUE',\n",
       "       'MEDIAN_HOUSEHOLD_INCOME', 'PCT_OWNER_OCCUPIED', 'PER_CAPITA_INCOME',\n",
       "       'PCT_ATTRIBUTE1', 'PCT_ATTRIBUTE2', 'PCT_ATTRIBUTE3', 'PCT_ATTRIBUTE4',\n",
       "       'PEP_STAR', 'RECENT_STAR_STATUS', 'RECENCY_STATUS_96NK',\n",
       "       'FREQUENCY_STATUS_97NK', 'RECENT_RESPONSE_PROP', 'RECENT_AVG_GIFT_AMT',\n",
       "       'RECENT_CARD_RESPONSE_PROP', 'RECENT_AVG_CARD_GIFT_AMT',\n",
       "       'RECENT_RESPONSE_COUNT', 'RECENT_CARD_RESPONSE_COUNT',\n",
       "       'MONTHS_SINCE_LAST_PROM_RESP', 'LIFETIME_CARD_PROM', 'LIFETIME_PROM',\n",
       "       'LIFETIME_GIFT_AMOUNT', 'LIFETIME_GIFT_COUNT', 'LIFETIME_AVG_GIFT_AMT',\n",
       "       'LIFETIME_GIFT_RANGE', 'LIFETIME_MAX_GIFT_AMT', 'LIFETIME_MIN_GIFT_AMT',\n",
       "       'LAST_GIFT_AMT', 'CARD_PROM_12', 'NUMBER_PROM_12',\n",
       "       'MONTHS_SINCE_LAST_GIFT', 'MONTHS_SINCE_FIRST_GIFT', 'FILE_AVG_GIFT',\n",
       "       'FILE_CARD_GIFT'],\n",
       "      dtype='object')"
      ]
     },
     "execution_count": 12,
     "metadata": {},
     "output_type": "execute_result"
    }
   ],
   "source": [
    "#Columns of Donors Historical Data\n",
    "Donors_hist_data.columns"
   ]
  },
  {
   "cell_type": "code",
   "execution_count": 13,
   "metadata": {},
   "outputs": [
    {
     "data": {
      "text/plain": [
       "TARGET_B                           0.250000\n",
       "TARGET_D                          15.624344\n",
       "CONTROL_NUMBER                 96546.225377\n",
       "MONTHS_SINCE_ORIGIN               73.409973\n",
       "DONOR_AGE                         58.919051\n",
       "IN_HOUSE                           0.073198\n",
       "INCOME_GROUP                       3.907543\n",
       "PUBLISHED_PHONE                    0.497729\n",
       "MOR_HIT_RATE                       3.361656\n",
       "WEALTH_RATING                      5.005397\n",
       "MEDIAN_HOME_VALUE               1079.871929\n",
       "MEDIAN_HOUSEHOLD_INCOME          341.970215\n",
       "PCT_OWNER_OCCUPIED                69.698999\n",
       "PER_CAPITA_INCOME              15857.334452\n",
       "PCT_ATTRIBUTE1                     1.029011\n",
       "PCT_ATTRIBUTE2                    30.573921\n",
       "PCT_ATTRIBUTE3                    29.603293\n",
       "PCT_ATTRIBUTE4                    32.852467\n",
       "PEP_STAR                           0.504439\n",
       "RECENT_STAR_STATUS                 0.931138\n",
       "FREQUENCY_STATUS_97NK              1.983998\n",
       "RECENT_RESPONSE_PROP               0.190127\n",
       "RECENT_AVG_GIFT_AMT               15.365396\n",
       "RECENT_CARD_RESPONSE_PROP          0.230808\n",
       "RECENT_AVG_CARD_GIFT_AMT          11.685470\n",
       "RECENT_RESPONSE_COUNT              3.043103\n",
       "RECENT_CARD_RESPONSE_COUNT         1.730539\n",
       "MONTHS_SINCE_LAST_PROM_RESP       19.038900\n",
       "LIFETIME_CARD_PROM                18.668078\n",
       "LIFETIME_PROM                     47.570514\n",
       "LIFETIME_GIFT_AMOUNT             104.425716\n",
       "LIFETIME_GIFT_COUNT                9.979765\n",
       "LIFETIME_AVG_GIFT_AMT             12.858338\n",
       "LIFETIME_GIFT_RANGE               11.587876\n",
       "LIFETIME_MAX_GIFT_AMT             19.208808\n",
       "LIFETIME_MIN_GIFT_AMT              7.620932\n",
       "LAST_GIFT_AMT                     16.584199\n",
       "CARD_PROM_12                       5.367128\n",
       "NUMBER_PROM_12                    12.901869\n",
       "MONTHS_SINCE_LAST_GIFT            18.191152\n",
       "MONTHS_SINCE_FIRST_GIFT           69.482088\n",
       "FILE_AVG_GIFT                     12.858338\n",
       "FILE_CARD_GIFT                     5.273591\n",
       "dtype: float64"
      ]
     },
     "execution_count": 13,
     "metadata": {},
     "output_type": "execute_result"
    }
   ],
   "source": [
    "#Analyzing Donors Historical Data Sets\n",
    "Donors_hist_data.mean()"
   ]
  },
  {
   "cell_type": "code",
   "execution_count": 14,
   "metadata": {},
   "outputs": [
    {
     "data": {
      "text/plain": [
       "CONTROL_NUMBER                 96146.865456\n",
       "MONTHS_SINCE_ORIGIN               73.631285\n",
       "DONOR_AGE                         58.185917\n",
       "IN_HOUSE                           0.067970\n",
       "INCOME_GROUP                       3.902819\n",
       "PUBLISHED_PHONE                    0.493017\n",
       "MOR_HIT_RATE                       3.357076\n",
       "WEALTH_RATING                      4.974606\n",
       "MEDIAN_HOME_VALUE               1028.019088\n",
       "MEDIAN_HOUSEHOLD_INCOME          339.798417\n",
       "PCT_OWNER_OCCUPIED                70.439013\n",
       "PER_CAPITA_INCOME              15514.582402\n",
       "PCT_ATTRIBUTE1                     1.130354\n",
       "PCT_ATTRIBUTE2                    30.445996\n",
       "PCT_ATTRIBUTE3                    30.144786\n",
       "PCT_ATTRIBUTE4                    32.025605\n",
       "PEP_STAR                           0.496276\n",
       "RECENT_STAR_STATUS                 0.811918\n",
       "FREQUENCY_STATUS_97NK              1.986499\n",
       "RECENT_RESPONSE_PROP               0.191590\n",
       "RECENT_AVG_GIFT_AMT               15.072658\n",
       "RECENT_CARD_RESPONSE_PROP          0.229963\n",
       "RECENT_AVG_CARD_GIFT_AMT          11.154842\n",
       "RECENT_RESPONSE_COUNT              3.051676\n",
       "RECENT_CARD_RESPONSE_COUNT         1.722067\n",
       "MONTHS_SINCE_LAST_PROM_RESP       19.077757\n",
       "LIFETIME_CARD_PROM                18.574022\n",
       "LIFETIME_PROM                     47.043762\n",
       "LIFETIME_GIFT_AMOUNT             101.077039\n",
       "LIFETIME_GIFT_COUNT                9.956704\n",
       "LIFETIME_AVG_GIFT_AMT             12.649097\n",
       "LIFETIME_GIFT_RANGE               10.972472\n",
       "LIFETIME_MAX_GIFT_AMT             18.595196\n",
       "LIFETIME_MIN_GIFT_AMT              7.622723\n",
       "LAST_GIFT_AMT                     16.309828\n",
       "CARD_PROM_12                       5.331471\n",
       "NUMBER_PROM_12                    12.702514\n",
       "MONTHS_SINCE_LAST_GIFT            18.378492\n",
       "MONTHS_SINCE_FIRST_GIFT           69.681564\n",
       "FILE_AVG_GIFT                     12.649097\n",
       "FILE_CARD_GIFT                     5.248603\n",
       "dtype: float64"
      ]
     },
     "execution_count": 14,
     "metadata": {},
     "output_type": "execute_result"
    }
   ],
   "source": [
    "#Analyzing Donors Prospective Data Sets\n",
    "Donors_prosp_data.mean()"
   ]
  },
  {
   "cell_type": "code",
   "execution_count": 15,
   "metadata": {},
   "outputs": [
    {
     "data": {
      "text/plain": [
       "CONTROL_NUMBER                    0\n",
       "MONTHS_SINCE_ORIGIN               0\n",
       "DONOR_AGE                       529\n",
       "IN_HOUSE                          0\n",
       "URBANICITY                        0\n",
       "SES                               0\n",
       "CLUSTER_CODE                      0\n",
       "HOME_OWNER                        0\n",
       "DONOR_GENDER                      0\n",
       "INCOME_GROUP                    481\n",
       "PUBLISHED_PHONE                   0\n",
       "OVERLAY_SOURCE                    0\n",
       "MOR_HIT_RATE                      0\n",
       "WEALTH_RATING                  1006\n",
       "MEDIAN_HOME_VALUE                 0\n",
       "MEDIAN_HOUSEHOLD_INCOME           0\n",
       "PCT_OWNER_OCCUPIED                0\n",
       "PER_CAPITA_INCOME                 0\n",
       "PCT_ATTRIBUTE1                    0\n",
       "PCT_ATTRIBUTE2                    0\n",
       "PCT_ATTRIBUTE3                    0\n",
       "PCT_ATTRIBUTE4                    0\n",
       "PEP_STAR                          0\n",
       "RECENT_STAR_STATUS                0\n",
       "RECENCY_STATUS_96NK               0\n",
       "FREQUENCY_STATUS_97NK             0\n",
       "RECENT_RESPONSE_PROP              0\n",
       "RECENT_AVG_GIFT_AMT               0\n",
       "RECENT_CARD_RESPONSE_PROP         0\n",
       "RECENT_AVG_CARD_GIFT_AMT          0\n",
       "RECENT_RESPONSE_COUNT             0\n",
       "RECENT_CARD_RESPONSE_COUNT        0\n",
       "MONTHS_SINCE_LAST_PROM_RESP      26\n",
       "LIFETIME_CARD_PROM                0\n",
       "LIFETIME_PROM                     0\n",
       "LIFETIME_GIFT_AMOUNT              0\n",
       "LIFETIME_GIFT_COUNT               0\n",
       "LIFETIME_AVG_GIFT_AMT             0\n",
       "LIFETIME_GIFT_RANGE               0\n",
       "LIFETIME_MAX_GIFT_AMT             0\n",
       "LIFETIME_MIN_GIFT_AMT             0\n",
       "LAST_GIFT_AMT                     0\n",
       "CARD_PROM_12                      0\n",
       "NUMBER_PROM_12                    0\n",
       "MONTHS_SINCE_LAST_GIFT            0\n",
       "MONTHS_SINCE_FIRST_GIFT           0\n",
       "FILE_AVG_GIFT                     0\n",
       "FILE_CARD_GIFT                    0\n",
       "dtype: int64"
      ]
     },
     "execution_count": 15,
     "metadata": {},
     "output_type": "execute_result"
    }
   ],
   "source": [
    "#Sum of Isnull Values of Donors Prospective Data\n",
    "Donors_prosp_data.isnull().sum()"
   ]
  },
  {
   "cell_type": "markdown",
   "metadata": {},
   "source": [
    "# Cleaning Donors_hist_data"
   ]
  },
  {
   "cell_type": "code",
   "execution_count": 16,
   "metadata": {},
   "outputs": [],
   "source": [
    "#Replacing the following characters ('?' and ' .') with the mode values of associated columns.\n",
    "k = Donors_hist_data['URBANICITY'].mode()\n",
    "k# Replacing \"?\" with mode column value\n",
    "URBANICITY=[]\n",
    "for i in Donors_hist_data['URBANICITY']:    \n",
    "    \n",
    "    if i =='?':\n",
    "        i= 'S'\n",
    "        URBANICITY.append(i)\n",
    "    else:\n",
    "        i=i\n",
    "        URBANICITY.append(i)"
   ]
  },
  {
   "cell_type": "code",
   "execution_count": 17,
   "metadata": {},
   "outputs": [],
   "source": [
    "Donors_hist_data['URBANICITY']= URBANICITY "
   ]
  },
  {
   "cell_type": "code",
   "execution_count": 18,
   "metadata": {},
   "outputs": [
    {
     "data": {
      "text/html": [
       "<div>\n",
       "<style scoped>\n",
       "    .dataframe tbody tr th:only-of-type {\n",
       "        vertical-align: middle;\n",
       "    }\n",
       "\n",
       "    .dataframe tbody tr th {\n",
       "        vertical-align: top;\n",
       "    }\n",
       "\n",
       "    .dataframe thead th {\n",
       "        text-align: right;\n",
       "    }\n",
       "</style>\n",
       "<table border=\"1\" class=\"dataframe\">\n",
       "  <thead>\n",
       "    <tr style=\"text-align: right;\">\n",
       "      <th></th>\n",
       "      <th>TARGET_B</th>\n",
       "      <th>TARGET_D</th>\n",
       "      <th>CONTROL_NUMBER</th>\n",
       "      <th>MONTHS_SINCE_ORIGIN</th>\n",
       "      <th>DONOR_AGE</th>\n",
       "      <th>IN_HOUSE</th>\n",
       "      <th>URBANICITY</th>\n",
       "      <th>SES</th>\n",
       "      <th>CLUSTER_CODE</th>\n",
       "      <th>HOME_OWNER</th>\n",
       "      <th>...</th>\n",
       "      <th>LIFETIME_GIFT_RANGE</th>\n",
       "      <th>LIFETIME_MAX_GIFT_AMT</th>\n",
       "      <th>LIFETIME_MIN_GIFT_AMT</th>\n",
       "      <th>LAST_GIFT_AMT</th>\n",
       "      <th>CARD_PROM_12</th>\n",
       "      <th>NUMBER_PROM_12</th>\n",
       "      <th>MONTHS_SINCE_LAST_GIFT</th>\n",
       "      <th>MONTHS_SINCE_FIRST_GIFT</th>\n",
       "      <th>FILE_AVG_GIFT</th>\n",
       "      <th>FILE_CARD_GIFT</th>\n",
       "    </tr>\n",
       "  </thead>\n",
       "  <tbody>\n",
       "    <tr>\n",
       "      <th>0</th>\n",
       "      <td>0</td>\n",
       "      <td>NaN</td>\n",
       "      <td>5</td>\n",
       "      <td>101</td>\n",
       "      <td>87.0</td>\n",
       "      <td>0</td>\n",
       "      <td>S</td>\n",
       "      <td>?</td>\n",
       "      <td>.</td>\n",
       "      <td>H</td>\n",
       "      <td>...</td>\n",
       "      <td>15.0</td>\n",
       "      <td>20.0</td>\n",
       "      <td>5.0</td>\n",
       "      <td>15.0</td>\n",
       "      <td>5</td>\n",
       "      <td>12</td>\n",
       "      <td>26</td>\n",
       "      <td>92</td>\n",
       "      <td>8.49</td>\n",
       "      <td>7</td>\n",
       "    </tr>\n",
       "    <tr>\n",
       "      <th>1</th>\n",
       "      <td>1</td>\n",
       "      <td>10.0</td>\n",
       "      <td>12</td>\n",
       "      <td>137</td>\n",
       "      <td>79.0</td>\n",
       "      <td>0</td>\n",
       "      <td>R</td>\n",
       "      <td>2</td>\n",
       "      <td>45</td>\n",
       "      <td>H</td>\n",
       "      <td>...</td>\n",
       "      <td>20.0</td>\n",
       "      <td>25.0</td>\n",
       "      <td>5.0</td>\n",
       "      <td>17.0</td>\n",
       "      <td>7</td>\n",
       "      <td>21</td>\n",
       "      <td>7</td>\n",
       "      <td>122</td>\n",
       "      <td>14.72</td>\n",
       "      <td>12</td>\n",
       "    </tr>\n",
       "    <tr>\n",
       "      <th>2</th>\n",
       "      <td>0</td>\n",
       "      <td>NaN</td>\n",
       "      <td>37</td>\n",
       "      <td>113</td>\n",
       "      <td>75.0</td>\n",
       "      <td>0</td>\n",
       "      <td>S</td>\n",
       "      <td>1</td>\n",
       "      <td>11</td>\n",
       "      <td>H</td>\n",
       "      <td>...</td>\n",
       "      <td>23.0</td>\n",
       "      <td>28.0</td>\n",
       "      <td>5.0</td>\n",
       "      <td>19.0</td>\n",
       "      <td>11</td>\n",
       "      <td>32</td>\n",
       "      <td>6</td>\n",
       "      <td>105</td>\n",
       "      <td>16.75</td>\n",
       "      <td>16</td>\n",
       "    </tr>\n",
       "    <tr>\n",
       "      <th>3</th>\n",
       "      <td>0</td>\n",
       "      <td>NaN</td>\n",
       "      <td>38</td>\n",
       "      <td>92</td>\n",
       "      <td>NaN</td>\n",
       "      <td>0</td>\n",
       "      <td>U</td>\n",
       "      <td>2</td>\n",
       "      <td>04</td>\n",
       "      <td>H</td>\n",
       "      <td>...</td>\n",
       "      <td>14.0</td>\n",
       "      <td>17.0</td>\n",
       "      <td>3.0</td>\n",
       "      <td>15.0</td>\n",
       "      <td>11</td>\n",
       "      <td>33</td>\n",
       "      <td>6</td>\n",
       "      <td>92</td>\n",
       "      <td>11.76</td>\n",
       "      <td>12</td>\n",
       "    </tr>\n",
       "    <tr>\n",
       "      <th>4</th>\n",
       "      <td>0</td>\n",
       "      <td>NaN</td>\n",
       "      <td>41</td>\n",
       "      <td>101</td>\n",
       "      <td>74.0</td>\n",
       "      <td>0</td>\n",
       "      <td>R</td>\n",
       "      <td>2</td>\n",
       "      <td>49</td>\n",
       "      <td>U</td>\n",
       "      <td>...</td>\n",
       "      <td>20.0</td>\n",
       "      <td>25.0</td>\n",
       "      <td>5.0</td>\n",
       "      <td>25.0</td>\n",
       "      <td>6</td>\n",
       "      <td>19</td>\n",
       "      <td>18</td>\n",
       "      <td>92</td>\n",
       "      <td>8.83</td>\n",
       "      <td>3</td>\n",
       "    </tr>\n",
       "  </tbody>\n",
       "</table>\n",
       "<p>5 rows × 50 columns</p>\n",
       "</div>"
      ],
      "text/plain": [
       "   TARGET_B  TARGET_D  CONTROL_NUMBER  MONTHS_SINCE_ORIGIN  DONOR_AGE  \\\n",
       "0         0       NaN               5                  101       87.0   \n",
       "1         1      10.0              12                  137       79.0   \n",
       "2         0       NaN              37                  113       75.0   \n",
       "3         0       NaN              38                   92        NaN   \n",
       "4         0       NaN              41                  101       74.0   \n",
       "\n",
       "   IN_HOUSE URBANICITY SES CLUSTER_CODE HOME_OWNER       ...        \\\n",
       "0         0          S   ?            .          H       ...         \n",
       "1         0          R   2           45          H       ...         \n",
       "2         0          S   1           11          H       ...         \n",
       "3         0          U   2           04          H       ...         \n",
       "4         0          R   2           49          U       ...         \n",
       "\n",
       "  LIFETIME_GIFT_RANGE  LIFETIME_MAX_GIFT_AMT  LIFETIME_MIN_GIFT_AMT  \\\n",
       "0                15.0                   20.0                    5.0   \n",
       "1                20.0                   25.0                    5.0   \n",
       "2                23.0                   28.0                    5.0   \n",
       "3                14.0                   17.0                    3.0   \n",
       "4                20.0                   25.0                    5.0   \n",
       "\n",
       "  LAST_GIFT_AMT  CARD_PROM_12  NUMBER_PROM_12  MONTHS_SINCE_LAST_GIFT  \\\n",
       "0          15.0             5              12                      26   \n",
       "1          17.0             7              21                       7   \n",
       "2          19.0            11              32                       6   \n",
       "3          15.0            11              33                       6   \n",
       "4          25.0             6              19                      18   \n",
       "\n",
       "   MONTHS_SINCE_FIRST_GIFT  FILE_AVG_GIFT  FILE_CARD_GIFT  \n",
       "0                       92           8.49               7  \n",
       "1                      122          14.72              12  \n",
       "2                      105          16.75              16  \n",
       "3                       92          11.76              12  \n",
       "4                       92           8.83               3  \n",
       "\n",
       "[5 rows x 50 columns]"
      ]
     },
     "execution_count": 18,
     "metadata": {},
     "output_type": "execute_result"
    }
   ],
   "source": [
    "Donors_hist_data.head()"
   ]
  },
  {
   "cell_type": "code",
   "execution_count": 19,
   "metadata": {},
   "outputs": [
    {
     "data": {
      "text/plain": [
       "0    2\n",
       "dtype: object"
      ]
     },
     "execution_count": 19,
     "metadata": {},
     "output_type": "execute_result"
    }
   ],
   "source": [
    "Donors_hist_data['SES'].mode()"
   ]
  },
  {
   "cell_type": "code",
   "execution_count": 20,
   "metadata": {},
   "outputs": [],
   "source": [
    "# Replacing \"?\" with mode column value\n",
    "SES=[]\n",
    "for i in Donors_hist_data['SES']:\n",
    "    if i=='?':\n",
    "        i='2'\n",
    "        SES.append(i)\n",
    "    else:\n",
    "        i=i\n",
    "        SES.append(i)"
   ]
  },
  {
   "cell_type": "code",
   "execution_count": 21,
   "metadata": {},
   "outputs": [],
   "source": [
    "Donors_hist_data['SES']=SES"
   ]
  },
  {
   "cell_type": "code",
   "execution_count": 22,
   "metadata": {},
   "outputs": [
    {
     "data": {
      "text/html": [
       "<div>\n",
       "<style scoped>\n",
       "    .dataframe tbody tr th:only-of-type {\n",
       "        vertical-align: middle;\n",
       "    }\n",
       "\n",
       "    .dataframe tbody tr th {\n",
       "        vertical-align: top;\n",
       "    }\n",
       "\n",
       "    .dataframe thead th {\n",
       "        text-align: right;\n",
       "    }\n",
       "</style>\n",
       "<table border=\"1\" class=\"dataframe\">\n",
       "  <thead>\n",
       "    <tr style=\"text-align: right;\">\n",
       "      <th></th>\n",
       "      <th>TARGET_B</th>\n",
       "      <th>TARGET_D</th>\n",
       "      <th>CONTROL_NUMBER</th>\n",
       "      <th>MONTHS_SINCE_ORIGIN</th>\n",
       "      <th>DONOR_AGE</th>\n",
       "      <th>IN_HOUSE</th>\n",
       "      <th>URBANICITY</th>\n",
       "      <th>SES</th>\n",
       "      <th>CLUSTER_CODE</th>\n",
       "      <th>HOME_OWNER</th>\n",
       "      <th>...</th>\n",
       "      <th>LIFETIME_GIFT_RANGE</th>\n",
       "      <th>LIFETIME_MAX_GIFT_AMT</th>\n",
       "      <th>LIFETIME_MIN_GIFT_AMT</th>\n",
       "      <th>LAST_GIFT_AMT</th>\n",
       "      <th>CARD_PROM_12</th>\n",
       "      <th>NUMBER_PROM_12</th>\n",
       "      <th>MONTHS_SINCE_LAST_GIFT</th>\n",
       "      <th>MONTHS_SINCE_FIRST_GIFT</th>\n",
       "      <th>FILE_AVG_GIFT</th>\n",
       "      <th>FILE_CARD_GIFT</th>\n",
       "    </tr>\n",
       "  </thead>\n",
       "  <tbody>\n",
       "    <tr>\n",
       "      <th>0</th>\n",
       "      <td>0</td>\n",
       "      <td>NaN</td>\n",
       "      <td>5</td>\n",
       "      <td>101</td>\n",
       "      <td>87.0</td>\n",
       "      <td>0</td>\n",
       "      <td>S</td>\n",
       "      <td>2</td>\n",
       "      <td>.</td>\n",
       "      <td>H</td>\n",
       "      <td>...</td>\n",
       "      <td>15.0</td>\n",
       "      <td>20.0</td>\n",
       "      <td>5.0</td>\n",
       "      <td>15.0</td>\n",
       "      <td>5</td>\n",
       "      <td>12</td>\n",
       "      <td>26</td>\n",
       "      <td>92</td>\n",
       "      <td>8.49</td>\n",
       "      <td>7</td>\n",
       "    </tr>\n",
       "    <tr>\n",
       "      <th>1</th>\n",
       "      <td>1</td>\n",
       "      <td>10.0</td>\n",
       "      <td>12</td>\n",
       "      <td>137</td>\n",
       "      <td>79.0</td>\n",
       "      <td>0</td>\n",
       "      <td>R</td>\n",
       "      <td>2</td>\n",
       "      <td>45</td>\n",
       "      <td>H</td>\n",
       "      <td>...</td>\n",
       "      <td>20.0</td>\n",
       "      <td>25.0</td>\n",
       "      <td>5.0</td>\n",
       "      <td>17.0</td>\n",
       "      <td>7</td>\n",
       "      <td>21</td>\n",
       "      <td>7</td>\n",
       "      <td>122</td>\n",
       "      <td>14.72</td>\n",
       "      <td>12</td>\n",
       "    </tr>\n",
       "    <tr>\n",
       "      <th>2</th>\n",
       "      <td>0</td>\n",
       "      <td>NaN</td>\n",
       "      <td>37</td>\n",
       "      <td>113</td>\n",
       "      <td>75.0</td>\n",
       "      <td>0</td>\n",
       "      <td>S</td>\n",
       "      <td>1</td>\n",
       "      <td>11</td>\n",
       "      <td>H</td>\n",
       "      <td>...</td>\n",
       "      <td>23.0</td>\n",
       "      <td>28.0</td>\n",
       "      <td>5.0</td>\n",
       "      <td>19.0</td>\n",
       "      <td>11</td>\n",
       "      <td>32</td>\n",
       "      <td>6</td>\n",
       "      <td>105</td>\n",
       "      <td>16.75</td>\n",
       "      <td>16</td>\n",
       "    </tr>\n",
       "    <tr>\n",
       "      <th>3</th>\n",
       "      <td>0</td>\n",
       "      <td>NaN</td>\n",
       "      <td>38</td>\n",
       "      <td>92</td>\n",
       "      <td>NaN</td>\n",
       "      <td>0</td>\n",
       "      <td>U</td>\n",
       "      <td>2</td>\n",
       "      <td>04</td>\n",
       "      <td>H</td>\n",
       "      <td>...</td>\n",
       "      <td>14.0</td>\n",
       "      <td>17.0</td>\n",
       "      <td>3.0</td>\n",
       "      <td>15.0</td>\n",
       "      <td>11</td>\n",
       "      <td>33</td>\n",
       "      <td>6</td>\n",
       "      <td>92</td>\n",
       "      <td>11.76</td>\n",
       "      <td>12</td>\n",
       "    </tr>\n",
       "    <tr>\n",
       "      <th>4</th>\n",
       "      <td>0</td>\n",
       "      <td>NaN</td>\n",
       "      <td>41</td>\n",
       "      <td>101</td>\n",
       "      <td>74.0</td>\n",
       "      <td>0</td>\n",
       "      <td>R</td>\n",
       "      <td>2</td>\n",
       "      <td>49</td>\n",
       "      <td>U</td>\n",
       "      <td>...</td>\n",
       "      <td>20.0</td>\n",
       "      <td>25.0</td>\n",
       "      <td>5.0</td>\n",
       "      <td>25.0</td>\n",
       "      <td>6</td>\n",
       "      <td>19</td>\n",
       "      <td>18</td>\n",
       "      <td>92</td>\n",
       "      <td>8.83</td>\n",
       "      <td>3</td>\n",
       "    </tr>\n",
       "  </tbody>\n",
       "</table>\n",
       "<p>5 rows × 50 columns</p>\n",
       "</div>"
      ],
      "text/plain": [
       "   TARGET_B  TARGET_D  CONTROL_NUMBER  MONTHS_SINCE_ORIGIN  DONOR_AGE  \\\n",
       "0         0       NaN               5                  101       87.0   \n",
       "1         1      10.0              12                  137       79.0   \n",
       "2         0       NaN              37                  113       75.0   \n",
       "3         0       NaN              38                   92        NaN   \n",
       "4         0       NaN              41                  101       74.0   \n",
       "\n",
       "   IN_HOUSE URBANICITY SES CLUSTER_CODE HOME_OWNER       ...        \\\n",
       "0         0          S   2            .          H       ...         \n",
       "1         0          R   2           45          H       ...         \n",
       "2         0          S   1           11          H       ...         \n",
       "3         0          U   2           04          H       ...         \n",
       "4         0          R   2           49          U       ...         \n",
       "\n",
       "  LIFETIME_GIFT_RANGE  LIFETIME_MAX_GIFT_AMT  LIFETIME_MIN_GIFT_AMT  \\\n",
       "0                15.0                   20.0                    5.0   \n",
       "1                20.0                   25.0                    5.0   \n",
       "2                23.0                   28.0                    5.0   \n",
       "3                14.0                   17.0                    3.0   \n",
       "4                20.0                   25.0                    5.0   \n",
       "\n",
       "  LAST_GIFT_AMT  CARD_PROM_12  NUMBER_PROM_12  MONTHS_SINCE_LAST_GIFT  \\\n",
       "0          15.0             5              12                      26   \n",
       "1          17.0             7              21                       7   \n",
       "2          19.0            11              32                       6   \n",
       "3          15.0            11              33                       6   \n",
       "4          25.0             6              19                      18   \n",
       "\n",
       "   MONTHS_SINCE_FIRST_GIFT  FILE_AVG_GIFT  FILE_CARD_GIFT  \n",
       "0                       92           8.49               7  \n",
       "1                      122          14.72              12  \n",
       "2                      105          16.75              16  \n",
       "3                       92          11.76              12  \n",
       "4                       92           8.83               3  \n",
       "\n",
       "[5 rows x 50 columns]"
      ]
     },
     "execution_count": 22,
     "metadata": {},
     "output_type": "execute_result"
    }
   ],
   "source": [
    "Donors_hist_data.head()"
   ]
  },
  {
   "cell_type": "code",
   "execution_count": 23,
   "metadata": {},
   "outputs": [
    {
     "data": {
      "text/plain": [
       "0    40\n",
       "dtype: object"
      ]
     },
     "execution_count": 23,
     "metadata": {},
     "output_type": "execute_result"
    }
   ],
   "source": [
    "Donors_hist_data['CLUSTER_CODE'].mode()"
   ]
  },
  {
   "cell_type": "code",
   "execution_count": 24,
   "metadata": {},
   "outputs": [],
   "source": [
    "# Replacing \".\" with mode column value\n",
    "CLUSTER_CODE=[]\n",
    "for i in Donors_hist_data['CLUSTER_CODE']:    \n",
    "    \n",
    "    if i ==' .':\n",
    "        i= '40'\n",
    "        CLUSTER_CODE.append(i)\n",
    "    else:\n",
    "        i=i\n",
    "        CLUSTER_CODE.append(i)"
   ]
  },
  {
   "cell_type": "code",
   "execution_count": 25,
   "metadata": {},
   "outputs": [],
   "source": [
    "Donors_hist_data['CLUSTER_CODE']=CLUSTER_CODE"
   ]
  },
  {
   "cell_type": "code",
   "execution_count": 26,
   "metadata": {},
   "outputs": [
    {
     "data": {
      "text/html": [
       "<div>\n",
       "<style scoped>\n",
       "    .dataframe tbody tr th:only-of-type {\n",
       "        vertical-align: middle;\n",
       "    }\n",
       "\n",
       "    .dataframe tbody tr th {\n",
       "        vertical-align: top;\n",
       "    }\n",
       "\n",
       "    .dataframe thead th {\n",
       "        text-align: right;\n",
       "    }\n",
       "</style>\n",
       "<table border=\"1\" class=\"dataframe\">\n",
       "  <thead>\n",
       "    <tr style=\"text-align: right;\">\n",
       "      <th></th>\n",
       "      <th>TARGET_B</th>\n",
       "      <th>TARGET_D</th>\n",
       "      <th>CONTROL_NUMBER</th>\n",
       "      <th>MONTHS_SINCE_ORIGIN</th>\n",
       "      <th>DONOR_AGE</th>\n",
       "      <th>IN_HOUSE</th>\n",
       "      <th>URBANICITY</th>\n",
       "      <th>SES</th>\n",
       "      <th>CLUSTER_CODE</th>\n",
       "      <th>HOME_OWNER</th>\n",
       "      <th>...</th>\n",
       "      <th>LIFETIME_GIFT_RANGE</th>\n",
       "      <th>LIFETIME_MAX_GIFT_AMT</th>\n",
       "      <th>LIFETIME_MIN_GIFT_AMT</th>\n",
       "      <th>LAST_GIFT_AMT</th>\n",
       "      <th>CARD_PROM_12</th>\n",
       "      <th>NUMBER_PROM_12</th>\n",
       "      <th>MONTHS_SINCE_LAST_GIFT</th>\n",
       "      <th>MONTHS_SINCE_FIRST_GIFT</th>\n",
       "      <th>FILE_AVG_GIFT</th>\n",
       "      <th>FILE_CARD_GIFT</th>\n",
       "    </tr>\n",
       "  </thead>\n",
       "  <tbody>\n",
       "    <tr>\n",
       "      <th>0</th>\n",
       "      <td>0</td>\n",
       "      <td>NaN</td>\n",
       "      <td>5</td>\n",
       "      <td>101</td>\n",
       "      <td>87.0</td>\n",
       "      <td>0</td>\n",
       "      <td>S</td>\n",
       "      <td>2</td>\n",
       "      <td>40</td>\n",
       "      <td>H</td>\n",
       "      <td>...</td>\n",
       "      <td>15.0</td>\n",
       "      <td>20.0</td>\n",
       "      <td>5.0</td>\n",
       "      <td>15.0</td>\n",
       "      <td>5</td>\n",
       "      <td>12</td>\n",
       "      <td>26</td>\n",
       "      <td>92</td>\n",
       "      <td>8.49</td>\n",
       "      <td>7</td>\n",
       "    </tr>\n",
       "    <tr>\n",
       "      <th>1</th>\n",
       "      <td>1</td>\n",
       "      <td>10.0</td>\n",
       "      <td>12</td>\n",
       "      <td>137</td>\n",
       "      <td>79.0</td>\n",
       "      <td>0</td>\n",
       "      <td>R</td>\n",
       "      <td>2</td>\n",
       "      <td>45</td>\n",
       "      <td>H</td>\n",
       "      <td>...</td>\n",
       "      <td>20.0</td>\n",
       "      <td>25.0</td>\n",
       "      <td>5.0</td>\n",
       "      <td>17.0</td>\n",
       "      <td>7</td>\n",
       "      <td>21</td>\n",
       "      <td>7</td>\n",
       "      <td>122</td>\n",
       "      <td>14.72</td>\n",
       "      <td>12</td>\n",
       "    </tr>\n",
       "    <tr>\n",
       "      <th>2</th>\n",
       "      <td>0</td>\n",
       "      <td>NaN</td>\n",
       "      <td>37</td>\n",
       "      <td>113</td>\n",
       "      <td>75.0</td>\n",
       "      <td>0</td>\n",
       "      <td>S</td>\n",
       "      <td>1</td>\n",
       "      <td>11</td>\n",
       "      <td>H</td>\n",
       "      <td>...</td>\n",
       "      <td>23.0</td>\n",
       "      <td>28.0</td>\n",
       "      <td>5.0</td>\n",
       "      <td>19.0</td>\n",
       "      <td>11</td>\n",
       "      <td>32</td>\n",
       "      <td>6</td>\n",
       "      <td>105</td>\n",
       "      <td>16.75</td>\n",
       "      <td>16</td>\n",
       "    </tr>\n",
       "    <tr>\n",
       "      <th>3</th>\n",
       "      <td>0</td>\n",
       "      <td>NaN</td>\n",
       "      <td>38</td>\n",
       "      <td>92</td>\n",
       "      <td>NaN</td>\n",
       "      <td>0</td>\n",
       "      <td>U</td>\n",
       "      <td>2</td>\n",
       "      <td>04</td>\n",
       "      <td>H</td>\n",
       "      <td>...</td>\n",
       "      <td>14.0</td>\n",
       "      <td>17.0</td>\n",
       "      <td>3.0</td>\n",
       "      <td>15.0</td>\n",
       "      <td>11</td>\n",
       "      <td>33</td>\n",
       "      <td>6</td>\n",
       "      <td>92</td>\n",
       "      <td>11.76</td>\n",
       "      <td>12</td>\n",
       "    </tr>\n",
       "    <tr>\n",
       "      <th>4</th>\n",
       "      <td>0</td>\n",
       "      <td>NaN</td>\n",
       "      <td>41</td>\n",
       "      <td>101</td>\n",
       "      <td>74.0</td>\n",
       "      <td>0</td>\n",
       "      <td>R</td>\n",
       "      <td>2</td>\n",
       "      <td>49</td>\n",
       "      <td>U</td>\n",
       "      <td>...</td>\n",
       "      <td>20.0</td>\n",
       "      <td>25.0</td>\n",
       "      <td>5.0</td>\n",
       "      <td>25.0</td>\n",
       "      <td>6</td>\n",
       "      <td>19</td>\n",
       "      <td>18</td>\n",
       "      <td>92</td>\n",
       "      <td>8.83</td>\n",
       "      <td>3</td>\n",
       "    </tr>\n",
       "  </tbody>\n",
       "</table>\n",
       "<p>5 rows × 50 columns</p>\n",
       "</div>"
      ],
      "text/plain": [
       "   TARGET_B  TARGET_D  CONTROL_NUMBER  MONTHS_SINCE_ORIGIN  DONOR_AGE  \\\n",
       "0         0       NaN               5                  101       87.0   \n",
       "1         1      10.0              12                  137       79.0   \n",
       "2         0       NaN              37                  113       75.0   \n",
       "3         0       NaN              38                   92        NaN   \n",
       "4         0       NaN              41                  101       74.0   \n",
       "\n",
       "   IN_HOUSE URBANICITY SES CLUSTER_CODE HOME_OWNER       ...        \\\n",
       "0         0          S   2           40          H       ...         \n",
       "1         0          R   2           45          H       ...         \n",
       "2         0          S   1           11          H       ...         \n",
       "3         0          U   2           04          H       ...         \n",
       "4         0          R   2           49          U       ...         \n",
       "\n",
       "  LIFETIME_GIFT_RANGE  LIFETIME_MAX_GIFT_AMT  LIFETIME_MIN_GIFT_AMT  \\\n",
       "0                15.0                   20.0                    5.0   \n",
       "1                20.0                   25.0                    5.0   \n",
       "2                23.0                   28.0                    5.0   \n",
       "3                14.0                   17.0                    3.0   \n",
       "4                20.0                   25.0                    5.0   \n",
       "\n",
       "  LAST_GIFT_AMT  CARD_PROM_12  NUMBER_PROM_12  MONTHS_SINCE_LAST_GIFT  \\\n",
       "0          15.0             5              12                      26   \n",
       "1          17.0             7              21                       7   \n",
       "2          19.0            11              32                       6   \n",
       "3          15.0            11              33                       6   \n",
       "4          25.0             6              19                      18   \n",
       "\n",
       "   MONTHS_SINCE_FIRST_GIFT  FILE_AVG_GIFT  FILE_CARD_GIFT  \n",
       "0                       92           8.49               7  \n",
       "1                      122          14.72              12  \n",
       "2                      105          16.75              16  \n",
       "3                       92          11.76              12  \n",
       "4                       92           8.83               3  \n",
       "\n",
       "[5 rows x 50 columns]"
      ]
     },
     "execution_count": 26,
     "metadata": {},
     "output_type": "execute_result"
    }
   ],
   "source": [
    "Donors_hist_data.head(5)"
   ]
  },
  {
   "cell_type": "markdown",
   "metadata": {},
   "source": [
    "# Dealing With Missing Values "
   ]
  },
  {
   "cell_type": "code",
   "execution_count": 27,
   "metadata": {},
   "outputs": [
    {
     "data": {
      "text/plain": [
       "<matplotlib.axes._subplots.AxesSubplot at 0x2159d515320>"
      ]
     },
     "execution_count": 27,
     "metadata": {},
     "output_type": "execute_result"
    },
    {
     "data": {
      "image/png": "[encoded data removed]",
      "text/plain": [
       "<Figure size 432x288 with 1 Axes>"
      ]
     },
     "metadata": {
      "needs_background": "light"
     },
     "output_type": "display_data"
    }
   ],
   "source": [
    "# heatmap to show missing values\n",
    "sns.heatmap(Donors_hist_data.isnull(),yticklabels=False,xticklabels=2,cbar=False,cmap='viridis')"
   ]
  },
  {
   "cell_type": "code",
   "execution_count": 28,
   "metadata": {},
   "outputs": [
    {
     "data": {
      "text/plain": [
       "TARGET_B                       2.500000e-01\n",
       "TARGET_D                       1.562434e+01\n",
       "CONTROL_NUMBER                 9.654623e+04\n",
       "MONTHS_SINCE_ORIGIN            7.340997e+01\n",
       "DONOR_AGE                      5.891905e+01\n",
       "IN_HOUSE                       7.319843e-02\n",
       "SES                                     inf\n",
       "CLUSTER_CODE                            inf\n",
       "INCOME_GROUP                   3.907543e+00\n",
       "PUBLISHED_PHONE                4.977287e-01\n",
       "MOR_HIT_RATE                   3.361656e+00\n",
       "WEALTH_RATING                  5.005397e+00\n",
       "MEDIAN_HOME_VALUE              1.079872e+03\n",
       "MEDIAN_HOUSEHOLD_INCOME        3.419702e+02\n",
       "PCT_OWNER_OCCUPIED             6.969900e+01\n",
       "PER_CAPITA_INCOME              1.585733e+04\n",
       "PCT_ATTRIBUTE1                 1.029011e+00\n",
       "PCT_ATTRIBUTE2                 3.057392e+01\n",
       "PCT_ATTRIBUTE3                 2.960329e+01\n",
       "PCT_ATTRIBUTE4                 3.285247e+01\n",
       "PEP_STAR                       5.044394e-01\n",
       "RECENT_STAR_STATUS             9.311377e-01\n",
       "FREQUENCY_STATUS_97NK          1.983998e+00\n",
       "RECENT_RESPONSE_PROP           1.901275e-01\n",
       "RECENT_AVG_GIFT_AMT            1.536540e+01\n",
       "RECENT_CARD_RESPONSE_PROP      2.308077e-01\n",
       "RECENT_AVG_CARD_GIFT_AMT       1.168547e+01\n",
       "RECENT_RESPONSE_COUNT          3.043103e+00\n",
       "RECENT_CARD_RESPONSE_COUNT     1.730539e+00\n",
       "MONTHS_SINCE_LAST_PROM_RESP    1.903890e+01\n",
       "LIFETIME_CARD_PROM             1.866808e+01\n",
       "LIFETIME_PROM                  4.757051e+01\n",
       "LIFETIME_GIFT_AMOUNT           1.044257e+02\n",
       "LIFETIME_GIFT_COUNT            9.979765e+00\n",
       "LIFETIME_AVG_GIFT_AMT          1.285834e+01\n",
       "LIFETIME_GIFT_RANGE            1.158788e+01\n",
       "LIFETIME_MAX_GIFT_AMT          1.920881e+01\n",
       "LIFETIME_MIN_GIFT_AMT          7.620932e+00\n",
       "LAST_GIFT_AMT                  1.658420e+01\n",
       "CARD_PROM_12                   5.367128e+00\n",
       "NUMBER_PROM_12                 1.290187e+01\n",
       "MONTHS_SINCE_LAST_GIFT         1.819115e+01\n",
       "MONTHS_SINCE_FIRST_GIFT        6.948209e+01\n",
       "FILE_AVG_GIFT                  1.285834e+01\n",
       "FILE_CARD_GIFT                 5.273591e+00\n",
       "dtype: float64"
      ]
     },
     "execution_count": 28,
     "metadata": {},
     "output_type": "execute_result"
    }
   ],
   "source": [
    "# 1st step calculate the median\n",
    "#Analyzing Donors Historical Data Sets\n",
    "Donors_hist_data.mean()"
   ]
  },
  {
   "cell_type": "code",
   "execution_count": 29,
   "metadata": {
    "scrolled": true
   },
   "outputs": [
    {
     "data": {
      "text/plain": [
       "CONTROL_NUMBER                 96092.000\n",
       "MONTHS_SINCE_ORIGIN               65.000\n",
       "DONOR_AGE                         59.000\n",
       "IN_HOUSE                           0.000\n",
       "INCOME_GROUP                       4.000\n",
       "PUBLISHED_PHONE                    0.000\n",
       "MOR_HIT_RATE                       0.000\n",
       "WEALTH_RATING                      5.000\n",
       "MEDIAN_HOME_VALUE                738.500\n",
       "MEDIAN_HOUSEHOLD_INCOME          314.000\n",
       "PCT_OWNER_OCCUPIED                76.000\n",
       "PER_CAPITA_INCOME              13810.500\n",
       "PCT_ATTRIBUTE1                     0.000\n",
       "PCT_ATTRIBUTE2                    31.000\n",
       "PCT_ATTRIBUTE3                    30.000\n",
       "PCT_ATTRIBUTE4                    32.000\n",
       "PEP_STAR                           0.000\n",
       "RECENT_STAR_STATUS                 0.000\n",
       "FREQUENCY_STATUS_97NK              2.000\n",
       "RECENT_RESPONSE_PROP               0.167\n",
       "RECENT_AVG_GIFT_AMT               14.000\n",
       "RECENT_CARD_RESPONSE_PROP          0.200\n",
       "RECENT_AVG_CARD_GIFT_AMT          10.000\n",
       "RECENT_RESPONSE_COUNT              2.000\n",
       "RECENT_CARD_RESPONSE_COUNT         1.000\n",
       "MONTHS_SINCE_LAST_PROM_RESP       18.000\n",
       "LIFETIME_CARD_PROM                18.000\n",
       "LIFETIME_PROM                     47.000\n",
       "LIFETIME_GIFT_AMOUNT              76.000\n",
       "LIFETIME_GIFT_COUNT                7.000\n",
       "LIFETIME_AVG_GIFT_AMT             11.290\n",
       "LIFETIME_GIFT_RANGE               10.000\n",
       "LIFETIME_MAX_GIFT_AMT             16.000\n",
       "LIFETIME_MIN_GIFT_AMT              5.000\n",
       "LAST_GIFT_AMT                     15.000\n",
       "CARD_PROM_12                       6.000\n",
       "NUMBER_PROM_12                    12.000\n",
       "MONTHS_SINCE_LAST_GIFT            18.000\n",
       "MONTHS_SINCE_FIRST_GIFT           65.000\n",
       "FILE_AVG_GIFT                     11.290\n",
       "FILE_CARD_GIFT                     4.000\n",
       "dtype: float64"
      ]
     },
     "execution_count": 29,
     "metadata": {},
     "output_type": "execute_result"
    }
   ],
   "source": [
    "# 1st step calculate the median\n",
    "#Analyzing Donors Prospective Data Sets\n",
    "Donors_prosp_data.median()"
   ]
  },
  {
   "cell_type": "code",
   "execution_count": 30,
   "metadata": {
    "scrolled": true
   },
   "outputs": [
    {
     "data": {
      "text/plain": [
       "TARGET_B                           0\n",
       "TARGET_D                       14529\n",
       "CONTROL_NUMBER                     0\n",
       "MONTHS_SINCE_ORIGIN                0\n",
       "DONOR_AGE                       4795\n",
       "IN_HOUSE                           0\n",
       "URBANICITY                         0\n",
       "SES                                0\n",
       "CLUSTER_CODE                       0\n",
       "HOME_OWNER                         0\n",
       "DONOR_GENDER                       0\n",
       "INCOME_GROUP                    4392\n",
       "PUBLISHED_PHONE                    0\n",
       "OVERLAY_SOURCE                     0\n",
       "MOR_HIT_RATE                       0\n",
       "WEALTH_RATING                   8810\n",
       "MEDIAN_HOME_VALUE                  0\n",
       "MEDIAN_HOUSEHOLD_INCOME            0\n",
       "PCT_OWNER_OCCUPIED                 0\n",
       "PER_CAPITA_INCOME                  0\n",
       "PCT_ATTRIBUTE1                     0\n",
       "PCT_ATTRIBUTE2                     0\n",
       "PCT_ATTRIBUTE3                     0\n",
       "PCT_ATTRIBUTE4                     0\n",
       "PEP_STAR                           0\n",
       "RECENT_STAR_STATUS                 0\n",
       "RECENCY_STATUS_96NK                0\n",
       "FREQUENCY_STATUS_97NK              0\n",
       "RECENT_RESPONSE_PROP               0\n",
       "RECENT_AVG_GIFT_AMT                0\n",
       "RECENT_CARD_RESPONSE_PROP          0\n",
       "RECENT_AVG_CARD_GIFT_AMT           0\n",
       "RECENT_RESPONSE_COUNT              0\n",
       "RECENT_CARD_RESPONSE_COUNT         0\n",
       "MONTHS_SINCE_LAST_PROM_RESP      246\n",
       "LIFETIME_CARD_PROM                 0\n",
       "LIFETIME_PROM                      0\n",
       "LIFETIME_GIFT_AMOUNT               0\n",
       "LIFETIME_GIFT_COUNT                0\n",
       "LIFETIME_AVG_GIFT_AMT              0\n",
       "LIFETIME_GIFT_RANGE                0\n",
       "LIFETIME_MAX_GIFT_AMT              0\n",
       "LIFETIME_MIN_GIFT_AMT              0\n",
       "LAST_GIFT_AMT                      0\n",
       "CARD_PROM_12                       0\n",
       "NUMBER_PROM_12                     0\n",
       "MONTHS_SINCE_LAST_GIFT             0\n",
       "MONTHS_SINCE_FIRST_GIFT            0\n",
       "FILE_AVG_GIFT                      0\n",
       "FILE_CARD_GIFT                     0\n",
       "dtype: int64"
      ]
     },
     "execution_count": 30,
     "metadata": {},
     "output_type": "execute_result"
    }
   ],
   "source": [
    "Donors_hist_data.isnull().sum()"
   ]
  },
  {
   "cell_type": "code",
   "execution_count": 31,
   "metadata": {},
   "outputs": [],
   "source": [
    "Donors_hist_data.DONOR_AGE.fillna(value=59, inplace=True)"
   ]
  },
  {
   "cell_type": "code",
   "execution_count": 32,
   "metadata": {},
   "outputs": [],
   "source": [
    "Donors_hist_data.INCOME_GROUP.fillna(value=4, inplace=True)"
   ]
  },
  {
   "cell_type": "code",
   "execution_count": 33,
   "metadata": {},
   "outputs": [],
   "source": [
    "Donors_hist_data.WEALTH_RATING.fillna(value=5, inplace=True)  "
   ]
  },
  {
   "cell_type": "code",
   "execution_count": 34,
   "metadata": {},
   "outputs": [],
   "source": [
    "Donors_hist_data.MONTHS_SINCE_LAST_PROM_RESP.fillna(value =19, inplace=True)"
   ]
  },
  {
   "cell_type": "code",
   "execution_count": 35,
   "metadata": {
    "scrolled": true
   },
   "outputs": [
    {
     "data": {
      "text/plain": [
       "TARGET_B                           0\n",
       "TARGET_D                       14529\n",
       "CONTROL_NUMBER                     0\n",
       "MONTHS_SINCE_ORIGIN                0\n",
       "DONOR_AGE                          0\n",
       "IN_HOUSE                           0\n",
       "URBANICITY                         0\n",
       "SES                                0\n",
       "CLUSTER_CODE                       0\n",
       "HOME_OWNER                         0\n",
       "DONOR_GENDER                       0\n",
       "INCOME_GROUP                       0\n",
       "PUBLISHED_PHONE                    0\n",
       "OVERLAY_SOURCE                     0\n",
       "MOR_HIT_RATE                       0\n",
       "WEALTH_RATING                      0\n",
       "MEDIAN_HOME_VALUE                  0\n",
       "MEDIAN_HOUSEHOLD_INCOME            0\n",
       "PCT_OWNER_OCCUPIED                 0\n",
       "PER_CAPITA_INCOME                  0\n",
       "PCT_ATTRIBUTE1                     0\n",
       "PCT_ATTRIBUTE2                     0\n",
       "PCT_ATTRIBUTE3                     0\n",
       "PCT_ATTRIBUTE4                     0\n",
       "PEP_STAR                           0\n",
       "RECENT_STAR_STATUS                 0\n",
       "RECENCY_STATUS_96NK                0\n",
       "FREQUENCY_STATUS_97NK              0\n",
       "RECENT_RESPONSE_PROP               0\n",
       "RECENT_AVG_GIFT_AMT                0\n",
       "RECENT_CARD_RESPONSE_PROP          0\n",
       "RECENT_AVG_CARD_GIFT_AMT           0\n",
       "RECENT_RESPONSE_COUNT              0\n",
       "RECENT_CARD_RESPONSE_COUNT         0\n",
       "MONTHS_SINCE_LAST_PROM_RESP        0\n",
       "LIFETIME_CARD_PROM                 0\n",
       "LIFETIME_PROM                      0\n",
       "LIFETIME_GIFT_AMOUNT               0\n",
       "LIFETIME_GIFT_COUNT                0\n",
       "LIFETIME_AVG_GIFT_AMT              0\n",
       "LIFETIME_GIFT_RANGE                0\n",
       "LIFETIME_MAX_GIFT_AMT              0\n",
       "LIFETIME_MIN_GIFT_AMT              0\n",
       "LAST_GIFT_AMT                      0\n",
       "CARD_PROM_12                       0\n",
       "NUMBER_PROM_12                     0\n",
       "MONTHS_SINCE_LAST_GIFT             0\n",
       "MONTHS_SINCE_FIRST_GIFT            0\n",
       "FILE_AVG_GIFT                      0\n",
       "FILE_CARD_GIFT                     0\n",
       "dtype: int64"
      ]
     },
     "execution_count": 35,
     "metadata": {},
     "output_type": "execute_result"
    }
   ],
   "source": [
    "#Confirm missing values replaced\n",
    "\n",
    "Donors_hist_data.isnull().sum()"
   ]
  },
  {
   "cell_type": "code",
   "execution_count": 36,
   "metadata": {},
   "outputs": [],
   "source": [
    "#Imputation/replacing of missing values for Donors prospects (Donors_prop_data)"
   ]
  },
  {
   "cell_type": "code",
   "execution_count": 37,
   "metadata": {},
   "outputs": [],
   "source": [
    "Donors_prosp_data.DONOR_AGE.fillna(value=59, inplace=True)"
   ]
  },
  {
   "cell_type": "code",
   "execution_count": 38,
   "metadata": {},
   "outputs": [],
   "source": [
    "Donors_prosp_data.INCOME_GROUP.fillna(value=4, inplace=True)  "
   ]
  },
  {
   "cell_type": "code",
   "execution_count": 39,
   "metadata": {},
   "outputs": [],
   "source": [
    "Donors_prosp_data.WEALTH_RATING.fillna(value=5, inplace=True)"
   ]
  },
  {
   "cell_type": "code",
   "execution_count": 40,
   "metadata": {},
   "outputs": [],
   "source": [
    "Donors_prosp_data.MONTHS_SINCE_LAST_PROM_RESP.fillna(value =19, inplace=True)"
   ]
  },
  {
   "cell_type": "code",
   "execution_count": 41,
   "metadata": {},
   "outputs": [
    {
     "data": {
      "text/plain": [
       "CONTROL_NUMBER                 0\n",
       "MONTHS_SINCE_ORIGIN            0\n",
       "DONOR_AGE                      0\n",
       "IN_HOUSE                       0\n",
       "URBANICITY                     0\n",
       "SES                            0\n",
       "CLUSTER_CODE                   0\n",
       "HOME_OWNER                     0\n",
       "DONOR_GENDER                   0\n",
       "INCOME_GROUP                   0\n",
       "PUBLISHED_PHONE                0\n",
       "OVERLAY_SOURCE                 0\n",
       "MOR_HIT_RATE                   0\n",
       "WEALTH_RATING                  0\n",
       "MEDIAN_HOME_VALUE              0\n",
       "MEDIAN_HOUSEHOLD_INCOME        0\n",
       "PCT_OWNER_OCCUPIED             0\n",
       "PER_CAPITA_INCOME              0\n",
       "PCT_ATTRIBUTE1                 0\n",
       "PCT_ATTRIBUTE2                 0\n",
       "PCT_ATTRIBUTE3                 0\n",
       "PCT_ATTRIBUTE4                 0\n",
       "PEP_STAR                       0\n",
       "RECENT_STAR_STATUS             0\n",
       "RECENCY_STATUS_96NK            0\n",
       "FREQUENCY_STATUS_97NK          0\n",
       "RECENT_RESPONSE_PROP           0\n",
       "RECENT_AVG_GIFT_AMT            0\n",
       "RECENT_CARD_RESPONSE_PROP      0\n",
       "RECENT_AVG_CARD_GIFT_AMT       0\n",
       "RECENT_RESPONSE_COUNT          0\n",
       "RECENT_CARD_RESPONSE_COUNT     0\n",
       "MONTHS_SINCE_LAST_PROM_RESP    0\n",
       "LIFETIME_CARD_PROM             0\n",
       "LIFETIME_PROM                  0\n",
       "LIFETIME_GIFT_AMOUNT           0\n",
       "LIFETIME_GIFT_COUNT            0\n",
       "LIFETIME_AVG_GIFT_AMT          0\n",
       "LIFETIME_GIFT_RANGE            0\n",
       "LIFETIME_MAX_GIFT_AMT          0\n",
       "LIFETIME_MIN_GIFT_AMT          0\n",
       "LAST_GIFT_AMT                  0\n",
       "CARD_PROM_12                   0\n",
       "NUMBER_PROM_12                 0\n",
       "MONTHS_SINCE_LAST_GIFT         0\n",
       "MONTHS_SINCE_FIRST_GIFT        0\n",
       "FILE_AVG_GIFT                  0\n",
       "FILE_CARD_GIFT                 0\n",
       "dtype: int64"
      ]
     },
     "execution_count": 41,
     "metadata": {},
     "output_type": "execute_result"
    }
   ],
   "source": [
    "Donors_prosp_data.isnull().sum()"
   ]
  },
  {
   "cell_type": "code",
   "execution_count": null,
   "metadata": {},
   "outputs": [],
   "source": [
    "# Target_D variable has 14529 missing value, because it records response amount only,\n",
    "# and assumes missing values for none response. Therefore, it will be neccessary to drop this variable.\n",
    "# The alternative is to take none response values to '0' by default, which in turn might sends a wrong message to the model."
   ]
  },
  {
   "cell_type": "code",
   "execution_count": 42,
   "metadata": {},
   "outputs": [],
   "source": [
    "Donors_hist_data.drop(['TARGET_D'], axis=1, inplace=True)"
   ]
  },
  {
   "cell_type": "code",
   "execution_count": 43,
   "metadata": {},
   "outputs": [
    {
     "data": {
      "text/html": [
       "<div>\n",
       "<style scoped>\n",
       "    .dataframe tbody tr th:only-of-type {\n",
       "        vertical-align: middle;\n",
       "    }\n",
       "\n",
       "    .dataframe tbody tr th {\n",
       "        vertical-align: top;\n",
       "    }\n",
       "\n",
       "    .dataframe thead th {\n",
       "        text-align: right;\n",
       "    }\n",
       "</style>\n",
       "<table border=\"1\" class=\"dataframe\">\n",
       "  <thead>\n",
       "    <tr style=\"text-align: right;\">\n",
       "      <th></th>\n",
       "      <th>TARGET_B</th>\n",
       "      <th>CONTROL_NUMBER</th>\n",
       "      <th>MONTHS_SINCE_ORIGIN</th>\n",
       "      <th>DONOR_AGE</th>\n",
       "      <th>IN_HOUSE</th>\n",
       "      <th>URBANICITY</th>\n",
       "      <th>SES</th>\n",
       "      <th>CLUSTER_CODE</th>\n",
       "      <th>HOME_OWNER</th>\n",
       "      <th>DONOR_GENDER</th>\n",
       "      <th>...</th>\n",
       "      <th>LIFETIME_GIFT_RANGE</th>\n",
       "      <th>LIFETIME_MAX_GIFT_AMT</th>\n",
       "      <th>LIFETIME_MIN_GIFT_AMT</th>\n",
       "      <th>LAST_GIFT_AMT</th>\n",
       "      <th>CARD_PROM_12</th>\n",
       "      <th>NUMBER_PROM_12</th>\n",
       "      <th>MONTHS_SINCE_LAST_GIFT</th>\n",
       "      <th>MONTHS_SINCE_FIRST_GIFT</th>\n",
       "      <th>FILE_AVG_GIFT</th>\n",
       "      <th>FILE_CARD_GIFT</th>\n",
       "    </tr>\n",
       "  </thead>\n",
       "  <tbody>\n",
       "    <tr>\n",
       "      <th>19367</th>\n",
       "      <td>0</td>\n",
       "      <td>191687</td>\n",
       "      <td>89</td>\n",
       "      <td>66.0</td>\n",
       "      <td>1</td>\n",
       "      <td>U</td>\n",
       "      <td>1</td>\n",
       "      <td>03</td>\n",
       "      <td>H</td>\n",
       "      <td>F</td>\n",
       "      <td>...</td>\n",
       "      <td>22.0</td>\n",
       "      <td>25.0</td>\n",
       "      <td>3.0</td>\n",
       "      <td>15.0</td>\n",
       "      <td>6</td>\n",
       "      <td>13</td>\n",
       "      <td>18</td>\n",
       "      <td>81</td>\n",
       "      <td>17.17</td>\n",
       "      <td>3</td>\n",
       "    </tr>\n",
       "    <tr>\n",
       "      <th>19368</th>\n",
       "      <td>0</td>\n",
       "      <td>191710</td>\n",
       "      <td>137</td>\n",
       "      <td>77.0</td>\n",
       "      <td>1</td>\n",
       "      <td>C</td>\n",
       "      <td>1</td>\n",
       "      <td>24</td>\n",
       "      <td>H</td>\n",
       "      <td>F</td>\n",
       "      <td>...</td>\n",
       "      <td>9.0</td>\n",
       "      <td>10.0</td>\n",
       "      <td>1.0</td>\n",
       "      <td>10.0</td>\n",
       "      <td>6</td>\n",
       "      <td>13</td>\n",
       "      <td>21</td>\n",
       "      <td>130</td>\n",
       "      <td>7.81</td>\n",
       "      <td>13</td>\n",
       "    </tr>\n",
       "    <tr>\n",
       "      <th>19369</th>\n",
       "      <td>0</td>\n",
       "      <td>191746</td>\n",
       "      <td>29</td>\n",
       "      <td>59.0</td>\n",
       "      <td>1</td>\n",
       "      <td>S</td>\n",
       "      <td>1</td>\n",
       "      <td>11</td>\n",
       "      <td>U</td>\n",
       "      <td>M</td>\n",
       "      <td>...</td>\n",
       "      <td>0.0</td>\n",
       "      <td>15.0</td>\n",
       "      <td>15.0</td>\n",
       "      <td>15.0</td>\n",
       "      <td>3</td>\n",
       "      <td>9</td>\n",
       "      <td>23</td>\n",
       "      <td>23</td>\n",
       "      <td>15.00</td>\n",
       "      <td>0</td>\n",
       "    </tr>\n",
       "    <tr>\n",
       "      <th>19370</th>\n",
       "      <td>0</td>\n",
       "      <td>191775</td>\n",
       "      <td>129</td>\n",
       "      <td>78.0</td>\n",
       "      <td>1</td>\n",
       "      <td>S</td>\n",
       "      <td>2</td>\n",
       "      <td>40</td>\n",
       "      <td>U</td>\n",
       "      <td>M</td>\n",
       "      <td>...</td>\n",
       "      <td>20.0</td>\n",
       "      <td>25.0</td>\n",
       "      <td>5.0</td>\n",
       "      <td>25.0</td>\n",
       "      <td>7</td>\n",
       "      <td>24</td>\n",
       "      <td>8</td>\n",
       "      <td>129</td>\n",
       "      <td>18.33</td>\n",
       "      <td>11</td>\n",
       "    </tr>\n",
       "    <tr>\n",
       "      <th>19371</th>\n",
       "      <td>1</td>\n",
       "      <td>191779</td>\n",
       "      <td>29</td>\n",
       "      <td>70.0</td>\n",
       "      <td>0</td>\n",
       "      <td>S</td>\n",
       "      <td>2</td>\n",
       "      <td>40</td>\n",
       "      <td>U</td>\n",
       "      <td>M</td>\n",
       "      <td>...</td>\n",
       "      <td>0.0</td>\n",
       "      <td>25.0</td>\n",
       "      <td>25.0</td>\n",
       "      <td>25.0</td>\n",
       "      <td>4</td>\n",
       "      <td>9</td>\n",
       "      <td>24</td>\n",
       "      <td>24</td>\n",
       "      <td>25.00</td>\n",
       "      <td>1</td>\n",
       "    </tr>\n",
       "  </tbody>\n",
       "</table>\n",
       "<p>5 rows × 49 columns</p>\n",
       "</div>"
      ],
      "text/plain": [
       "       TARGET_B  CONTROL_NUMBER  MONTHS_SINCE_ORIGIN  DONOR_AGE  IN_HOUSE  \\\n",
       "19367         0          191687                   89       66.0         1   \n",
       "19368         0          191710                  137       77.0         1   \n",
       "19369         0          191746                   29       59.0         1   \n",
       "19370         0          191775                  129       78.0         1   \n",
       "19371         1          191779                   29       70.0         0   \n",
       "\n",
       "      URBANICITY SES CLUSTER_CODE HOME_OWNER DONOR_GENDER       ...        \\\n",
       "19367          U   1           03          H            F       ...         \n",
       "19368          C   1           24          H            F       ...         \n",
       "19369          S   1           11          U            M       ...         \n",
       "19370          S   2           40          U            M       ...         \n",
       "19371          S   2           40          U            M       ...         \n",
       "\n",
       "       LIFETIME_GIFT_RANGE  LIFETIME_MAX_GIFT_AMT LIFETIME_MIN_GIFT_AMT  \\\n",
       "19367                 22.0                   25.0                   3.0   \n",
       "19368                  9.0                   10.0                   1.0   \n",
       "19369                  0.0                   15.0                  15.0   \n",
       "19370                 20.0                   25.0                   5.0   \n",
       "19371                  0.0                   25.0                  25.0   \n",
       "\n",
       "       LAST_GIFT_AMT  CARD_PROM_12  NUMBER_PROM_12  MONTHS_SINCE_LAST_GIFT  \\\n",
       "19367           15.0             6              13                      18   \n",
       "19368           10.0             6              13                      21   \n",
       "19369           15.0             3               9                      23   \n",
       "19370           25.0             7              24                       8   \n",
       "19371           25.0             4               9                      24   \n",
       "\n",
       "       MONTHS_SINCE_FIRST_GIFT  FILE_AVG_GIFT  FILE_CARD_GIFT  \n",
       "19367                       81          17.17               3  \n",
       "19368                      130           7.81              13  \n",
       "19369                       23          15.00               0  \n",
       "19370                      129          18.33              11  \n",
       "19371                       24          25.00               1  \n",
       "\n",
       "[5 rows x 49 columns]"
      ]
     },
     "execution_count": 43,
     "metadata": {},
     "output_type": "execute_result"
    }
   ],
   "source": [
    "Donors_hist_data.tail()"
   ]
  },
  {
   "cell_type": "code",
   "execution_count": 44,
   "metadata": {},
   "outputs": [
    {
     "data": {
      "text/plain": [
       "<matplotlib.axes._subplots.AxesSubplot at 0x2159d8a1438>"
      ]
     },
     "execution_count": 44,
     "metadata": {},
     "output_type": "execute_result"
    },
    {
     "data": {
      "image/png": "[encoded data removed]",
      "text/plain": [
       "<Figure size 432x288 with 1 Axes>"
      ]
     },
     "metadata": {},
     "output_type": "display_data"
    }
   ],
   "source": [
    "# Donors/none Donors in relation to Gender\n",
    "sns.set_style('whitegrid')\n",
    "sns.countplot(x='TARGET_B',hue='DONOR_GENDER',data=Donors_hist_data,palette='RdYlBu_r')"
   ]
  },
  {
   "cell_type": "code",
   "execution_count": 45,
   "metadata": {
    "scrolled": true
   },
   "outputs": [
    {
     "data": {
      "text/plain": [
       "<matplotlib.axes._subplots.AxesSubplot at 0x2159d903e10>"
      ]
     },
     "execution_count": 45,
     "metadata": {},
     "output_type": "execute_result"
    },
    {
     "data": {
      "image/png": "[encoded data removed]",
      "text/plain": [
       "<Figure size 432x288 with 1 Axes>"
      ]
     },
     "metadata": {},
     "output_type": "display_data"
    }
   ],
   "source": [
    "# Donors/none Donors in relation to 5 socio-economic cluster codes\n",
    "sns.set_style('whitegrid')\n",
    "sns.countplot(x='TARGET_B',hue='SES',data=Donors_hist_data,palette='RdYlGn_r')"
   ]
  },
  {
   "cell_type": "code",
   "execution_count": 46,
   "metadata": {},
   "outputs": [
    {
     "data": {
      "text/plain": [
       "<matplotlib.axes._subplots.AxesSubplot at 0x2159ecc4978>"
      ]
     },
     "execution_count": 46,
     "metadata": {},
     "output_type": "execute_result"
    },
    {
     "data": {
      "image/png": "[encoded data removed]",
      "text/plain": [
       "<Figure size 432x288 with 1 Axes>"
      ]
     },
     "metadata": {},
     "output_type": "display_data"
    }
   ],
   "source": [
    "sns.countplot(x='TARGET_B', hue='URBANICITY', data=Donors_hist_data)"
   ]
  },
  {
   "cell_type": "code",
   "execution_count": 47,
   "metadata": {},
   "outputs": [
    {
     "data": {
      "text/plain": [
       "<matplotlib.axes._subplots.AxesSubplot at 0x2159dd00d30>"
      ]
     },
     "execution_count": 47,
     "metadata": {},
     "output_type": "execute_result"
    },
    {
     "data": {
      "image/png": "[encoded data removed]",
      "text/plain": [
       "<Figure size 432x288 with 1 Axes>"
      ]
     },
     "metadata": {},
     "output_type": "display_data"
    }
   ],
   "source": [
    "sns.countplot(x='SES', data=Donors_hist_data)"
   ]
  },
  {
   "cell_type": "code",
   "execution_count": 48,
   "metadata": {},
   "outputs": [
    {
     "data": {
      "text/plain": [
       "<matplotlib.axes._subplots.AxesSubplot at 0x2159dcef748>"
      ]
     },
     "execution_count": 48,
     "metadata": {},
     "output_type": "execute_result"
    },
    {
     "data": {
      "image/png": "[encoded data removed]",
      "text/plain": [
       "<Figure size 432x288 with 1 Axes>"
      ]
     },
     "metadata": {},
     "output_type": "display_data"
    }
   ],
   "source": [
    "sns.countplot(x='INCOME_GROUP', hue='TARGET_B', data=Donors_hist_data)"
   ]
  },
  {
   "cell_type": "code",
   "execution_count": 49,
   "metadata": {},
   "outputs": [
    {
     "data": {
      "text/plain": [
       "array([[<matplotlib.axes._subplots.AxesSubplot object at 0x000002159E4C1860>]],\n",
       "      dtype=object)"
      ]
     },
     "execution_count": 49,
     "metadata": {},
     "output_type": "execute_result"
    },
    {
     "data": {
      "image/png": "[encoded data removed]",
      "text/plain": [
       "<Figure size 432x288 with 1 Axes>"
      ]
     },
     "metadata": {},
     "output_type": "display_data"
    }
   ],
   "source": [
    "Donors_hist_data.hist(column='DONOR_AGE', grid=True, bins=10)"
   ]
  },
  {
   "cell_type": "code",
   "execution_count": 50,
   "metadata": {},
   "outputs": [
    {
     "data": {
      "text/plain": [
       "<matplotlib.axes._subplots.AxesSubplot at 0x2159e5aac88>"
      ]
     },
     "execution_count": 50,
     "metadata": {},
     "output_type": "execute_result"
    },
    {
     "data": {
      "image/png": "[encoded data removed]",
      "text/plain": [
       "<Figure size 432x288 with 1 Axes>"
      ]
     },
     "metadata": {},
     "output_type": "display_data"
    }
   ],
   "source": [
    "sns.countplot(x='CLUSTER_CODE', data=Donors_hist_data)"
   ]
  },
  {
   "cell_type": "markdown",
   "metadata": {},
   "source": [
    "# Tranforming Donor_hist_data Set Categorical Variables to Numeric using Label Encoding"
   ]
  },
  {
   "cell_type": "code",
   "execution_count": 51,
   "metadata": {},
   "outputs": [],
   "source": [
    "Donors_hist_data_encoded = pd.get_dummies(Donors_hist_data, columns = ['URBANICITY','SES','CLUSTER_CODE','HOME_OWNER','DONOR_GENDER',\n",
    "'OVERLAY_SOURCE','RECENCY_STATUS_96NK'], drop_first = False)"
   ]
  },
  {
   "cell_type": "code",
   "execution_count": 52,
   "metadata": {},
   "outputs": [
    {
     "data": {
      "text/html": [
       "<div>\n",
       "<style scoped>\n",
       "    .dataframe tbody tr th:only-of-type {\n",
       "        vertical-align: middle;\n",
       "    }\n",
       "\n",
       "    .dataframe tbody tr th {\n",
       "        vertical-align: top;\n",
       "    }\n",
       "\n",
       "    .dataframe thead th {\n",
       "        text-align: right;\n",
       "    }\n",
       "</style>\n",
       "<table border=\"1\" class=\"dataframe\">\n",
       "  <thead>\n",
       "    <tr style=\"text-align: right;\">\n",
       "      <th></th>\n",
       "      <th>TARGET_B</th>\n",
       "      <th>CONTROL_NUMBER</th>\n",
       "      <th>MONTHS_SINCE_ORIGIN</th>\n",
       "      <th>DONOR_AGE</th>\n",
       "      <th>IN_HOUSE</th>\n",
       "      <th>INCOME_GROUP</th>\n",
       "      <th>PUBLISHED_PHONE</th>\n",
       "      <th>MOR_HIT_RATE</th>\n",
       "      <th>WEALTH_RATING</th>\n",
       "      <th>MEDIAN_HOME_VALUE</th>\n",
       "      <th>...</th>\n",
       "      <th>OVERLAY_SOURCE_B</th>\n",
       "      <th>OVERLAY_SOURCE_M</th>\n",
       "      <th>OVERLAY_SOURCE_N</th>\n",
       "      <th>OVERLAY_SOURCE_P</th>\n",
       "      <th>RECENCY_STATUS_96NK_A</th>\n",
       "      <th>RECENCY_STATUS_96NK_E</th>\n",
       "      <th>RECENCY_STATUS_96NK_F</th>\n",
       "      <th>RECENCY_STATUS_96NK_L</th>\n",
       "      <th>RECENCY_STATUS_96NK_N</th>\n",
       "      <th>RECENCY_STATUS_96NK_S</th>\n",
       "    </tr>\n",
       "  </thead>\n",
       "  <tbody>\n",
       "    <tr>\n",
       "      <th>0</th>\n",
       "      <td>0</td>\n",
       "      <td>5</td>\n",
       "      <td>101</td>\n",
       "      <td>87.0</td>\n",
       "      <td>0</td>\n",
       "      <td>2.0</td>\n",
       "      <td>0</td>\n",
       "      <td>0</td>\n",
       "      <td>5.0</td>\n",
       "      <td>554</td>\n",
       "      <td>...</td>\n",
       "      <td>0</td>\n",
       "      <td>0</td>\n",
       "      <td>0</td>\n",
       "      <td>1</td>\n",
       "      <td>1</td>\n",
       "      <td>0</td>\n",
       "      <td>0</td>\n",
       "      <td>0</td>\n",
       "      <td>0</td>\n",
       "      <td>0</td>\n",
       "    </tr>\n",
       "    <tr>\n",
       "      <th>1</th>\n",
       "      <td>1</td>\n",
       "      <td>12</td>\n",
       "      <td>137</td>\n",
       "      <td>79.0</td>\n",
       "      <td>0</td>\n",
       "      <td>7.0</td>\n",
       "      <td>0</td>\n",
       "      <td>0</td>\n",
       "      <td>3.0</td>\n",
       "      <td>334</td>\n",
       "      <td>...</td>\n",
       "      <td>0</td>\n",
       "      <td>0</td>\n",
       "      <td>0</td>\n",
       "      <td>1</td>\n",
       "      <td>0</td>\n",
       "      <td>0</td>\n",
       "      <td>0</td>\n",
       "      <td>0</td>\n",
       "      <td>0</td>\n",
       "      <td>1</td>\n",
       "    </tr>\n",
       "    <tr>\n",
       "      <th>2</th>\n",
       "      <td>0</td>\n",
       "      <td>37</td>\n",
       "      <td>113</td>\n",
       "      <td>75.0</td>\n",
       "      <td>0</td>\n",
       "      <td>5.0</td>\n",
       "      <td>0</td>\n",
       "      <td>0</td>\n",
       "      <td>9.0</td>\n",
       "      <td>2388</td>\n",
       "      <td>...</td>\n",
       "      <td>0</td>\n",
       "      <td>0</td>\n",
       "      <td>0</td>\n",
       "      <td>1</td>\n",
       "      <td>0</td>\n",
       "      <td>0</td>\n",
       "      <td>0</td>\n",
       "      <td>0</td>\n",
       "      <td>0</td>\n",
       "      <td>1</td>\n",
       "    </tr>\n",
       "    <tr>\n",
       "      <th>3</th>\n",
       "      <td>0</td>\n",
       "      <td>38</td>\n",
       "      <td>92</td>\n",
       "      <td>59.0</td>\n",
       "      <td>0</td>\n",
       "      <td>6.0</td>\n",
       "      <td>1</td>\n",
       "      <td>0</td>\n",
       "      <td>4.0</td>\n",
       "      <td>1688</td>\n",
       "      <td>...</td>\n",
       "      <td>1</td>\n",
       "      <td>0</td>\n",
       "      <td>0</td>\n",
       "      <td>0</td>\n",
       "      <td>1</td>\n",
       "      <td>0</td>\n",
       "      <td>0</td>\n",
       "      <td>0</td>\n",
       "      <td>0</td>\n",
       "      <td>0</td>\n",
       "    </tr>\n",
       "    <tr>\n",
       "      <th>4</th>\n",
       "      <td>0</td>\n",
       "      <td>41</td>\n",
       "      <td>101</td>\n",
       "      <td>74.0</td>\n",
       "      <td>0</td>\n",
       "      <td>2.0</td>\n",
       "      <td>1</td>\n",
       "      <td>8</td>\n",
       "      <td>5.0</td>\n",
       "      <td>514</td>\n",
       "      <td>...</td>\n",
       "      <td>1</td>\n",
       "      <td>0</td>\n",
       "      <td>0</td>\n",
       "      <td>0</td>\n",
       "      <td>1</td>\n",
       "      <td>0</td>\n",
       "      <td>0</td>\n",
       "      <td>0</td>\n",
       "      <td>0</td>\n",
       "      <td>0</td>\n",
       "    </tr>\n",
       "  </tbody>\n",
       "</table>\n",
       "<p>5 rows × 120 columns</p>\n",
       "</div>"
      ],
      "text/plain": [
       "   TARGET_B  CONTROL_NUMBER  MONTHS_SINCE_ORIGIN  DONOR_AGE  IN_HOUSE  \\\n",
       "0         0               5                  101       87.0         0   \n",
       "1         1              12                  137       79.0         0   \n",
       "2         0              37                  113       75.0         0   \n",
       "3         0              38                   92       59.0         0   \n",
       "4         0              41                  101       74.0         0   \n",
       "\n",
       "   INCOME_GROUP  PUBLISHED_PHONE  MOR_HIT_RATE  WEALTH_RATING  \\\n",
       "0           2.0                0             0            5.0   \n",
       "1           7.0                0             0            3.0   \n",
       "2           5.0                0             0            9.0   \n",
       "3           6.0                1             0            4.0   \n",
       "4           2.0                1             8            5.0   \n",
       "\n",
       "   MEDIAN_HOME_VALUE          ...            OVERLAY_SOURCE_B  \\\n",
       "0                554          ...                           0   \n",
       "1                334          ...                           0   \n",
       "2               2388          ...                           0   \n",
       "3               1688          ...                           1   \n",
       "4                514          ...                           1   \n",
       "\n",
       "   OVERLAY_SOURCE_M  OVERLAY_SOURCE_N  OVERLAY_SOURCE_P  \\\n",
       "0                 0                 0                 1   \n",
       "1                 0                 0                 1   \n",
       "2                 0                 0                 1   \n",
       "3                 0                 0                 0   \n",
       "4                 0                 0                 0   \n",
       "\n",
       "   RECENCY_STATUS_96NK_A  RECENCY_STATUS_96NK_E  RECENCY_STATUS_96NK_F  \\\n",
       "0                      1                      0                      0   \n",
       "1                      0                      0                      0   \n",
       "2                      0                      0                      0   \n",
       "3                      1                      0                      0   \n",
       "4                      1                      0                      0   \n",
       "\n",
       "   RECENCY_STATUS_96NK_L  RECENCY_STATUS_96NK_N  RECENCY_STATUS_96NK_S  \n",
       "0                      0                      0                      0  \n",
       "1                      0                      0                      1  \n",
       "2                      0                      0                      1  \n",
       "3                      0                      0                      0  \n",
       "4                      0                      0                      0  \n",
       "\n",
       "[5 rows x 120 columns]"
      ]
     },
     "execution_count": 52,
     "metadata": {},
     "output_type": "execute_result"
    }
   ],
   "source": [
    "Donors_hist_data_encoded.head(5)"
   ]
  },
  {
   "cell_type": "markdown",
   "metadata": {},
   "source": [
    "# Tranforming Donor_prosp_data Set Categorical Variables to Numeric using Label Encoding"
   ]
  },
  {
   "cell_type": "code",
   "execution_count": 53,
   "metadata": {},
   "outputs": [],
   "source": [
    "Donors_prosp_data_encoded = pd.get_dummies(Donors_prosp_data, columns = ['URBANICITY','SES','CLUSTER_CODE','HOME_OWNER','DONOR_GENDER',\n",
    "'OVERLAY_SOURCE','RECENCY_STATUS_96NK'], drop_first = False)"
   ]
  },
  {
   "cell_type": "code",
   "execution_count": 54,
   "metadata": {},
   "outputs": [
    {
     "data": {
      "text/html": [
       "<div>\n",
       "<style scoped>\n",
       "    .dataframe tbody tr th:only-of-type {\n",
       "        vertical-align: middle;\n",
       "    }\n",
       "\n",
       "    .dataframe tbody tr th {\n",
       "        vertical-align: top;\n",
       "    }\n",
       "\n",
       "    .dataframe thead th {\n",
       "        text-align: right;\n",
       "    }\n",
       "</style>\n",
       "<table border=\"1\" class=\"dataframe\">\n",
       "  <thead>\n",
       "    <tr style=\"text-align: right;\">\n",
       "      <th></th>\n",
       "      <th>CONTROL_NUMBER</th>\n",
       "      <th>MONTHS_SINCE_ORIGIN</th>\n",
       "      <th>DONOR_AGE</th>\n",
       "      <th>IN_HOUSE</th>\n",
       "      <th>INCOME_GROUP</th>\n",
       "      <th>PUBLISHED_PHONE</th>\n",
       "      <th>MOR_HIT_RATE</th>\n",
       "      <th>WEALTH_RATING</th>\n",
       "      <th>MEDIAN_HOME_VALUE</th>\n",
       "      <th>MEDIAN_HOUSEHOLD_INCOME</th>\n",
       "      <th>...</th>\n",
       "      <th>OVERLAY_SOURCE_B</th>\n",
       "      <th>OVERLAY_SOURCE_M</th>\n",
       "      <th>OVERLAY_SOURCE_N</th>\n",
       "      <th>OVERLAY_SOURCE_P</th>\n",
       "      <th>RECENCY_STATUS_96NK_A</th>\n",
       "      <th>RECENCY_STATUS_96NK_E</th>\n",
       "      <th>RECENCY_STATUS_96NK_F</th>\n",
       "      <th>RECENCY_STATUS_96NK_L</th>\n",
       "      <th>RECENCY_STATUS_96NK_N</th>\n",
       "      <th>RECENCY_STATUS_96NK_S</th>\n",
       "    </tr>\n",
       "  </thead>\n",
       "  <tbody>\n",
       "    <tr>\n",
       "      <th>0</th>\n",
       "      <td>139</td>\n",
       "      <td>101</td>\n",
       "      <td>59.0</td>\n",
       "      <td>0</td>\n",
       "      <td>4.0</td>\n",
       "      <td>0</td>\n",
       "      <td>0</td>\n",
       "      <td>5.0</td>\n",
       "      <td>655</td>\n",
       "      <td>219</td>\n",
       "      <td>...</td>\n",
       "      <td>0</td>\n",
       "      <td>0</td>\n",
       "      <td>1</td>\n",
       "      <td>0</td>\n",
       "      <td>1</td>\n",
       "      <td>0</td>\n",
       "      <td>0</td>\n",
       "      <td>0</td>\n",
       "      <td>0</td>\n",
       "      <td>0</td>\n",
       "    </tr>\n",
       "    <tr>\n",
       "      <th>1</th>\n",
       "      <td>142</td>\n",
       "      <td>137</td>\n",
       "      <td>59.0</td>\n",
       "      <td>0</td>\n",
       "      <td>4.0</td>\n",
       "      <td>1</td>\n",
       "      <td>0</td>\n",
       "      <td>1.0</td>\n",
       "      <td>475</td>\n",
       "      <td>227</td>\n",
       "      <td>...</td>\n",
       "      <td>0</td>\n",
       "      <td>0</td>\n",
       "      <td>1</td>\n",
       "      <td>0</td>\n",
       "      <td>0</td>\n",
       "      <td>0</td>\n",
       "      <td>0</td>\n",
       "      <td>0</td>\n",
       "      <td>0</td>\n",
       "      <td>1</td>\n",
       "    </tr>\n",
       "    <tr>\n",
       "      <th>2</th>\n",
       "      <td>282</td>\n",
       "      <td>17</td>\n",
       "      <td>30.0</td>\n",
       "      <td>0</td>\n",
       "      <td>6.0</td>\n",
       "      <td>1</td>\n",
       "      <td>11</td>\n",
       "      <td>5.0</td>\n",
       "      <td>1117</td>\n",
       "      <td>544</td>\n",
       "      <td>...</td>\n",
       "      <td>1</td>\n",
       "      <td>0</td>\n",
       "      <td>0</td>\n",
       "      <td>0</td>\n",
       "      <td>0</td>\n",
       "      <td>0</td>\n",
       "      <td>1</td>\n",
       "      <td>0</td>\n",
       "      <td>0</td>\n",
       "      <td>0</td>\n",
       "    </tr>\n",
       "    <tr>\n",
       "      <th>3</th>\n",
       "      <td>368</td>\n",
       "      <td>137</td>\n",
       "      <td>75.0</td>\n",
       "      <td>0</td>\n",
       "      <td>6.0</td>\n",
       "      <td>1</td>\n",
       "      <td>1</td>\n",
       "      <td>7.0</td>\n",
       "      <td>2257</td>\n",
       "      <td>485</td>\n",
       "      <td>...</td>\n",
       "      <td>1</td>\n",
       "      <td>0</td>\n",
       "      <td>0</td>\n",
       "      <td>0</td>\n",
       "      <td>1</td>\n",
       "      <td>0</td>\n",
       "      <td>0</td>\n",
       "      <td>0</td>\n",
       "      <td>0</td>\n",
       "      <td>0</td>\n",
       "    </tr>\n",
       "    <tr>\n",
       "      <th>4</th>\n",
       "      <td>387</td>\n",
       "      <td>5</td>\n",
       "      <td>59.0</td>\n",
       "      <td>0</td>\n",
       "      <td>2.0</td>\n",
       "      <td>0</td>\n",
       "      <td>0</td>\n",
       "      <td>5.0</td>\n",
       "      <td>789</td>\n",
       "      <td>413</td>\n",
       "      <td>...</td>\n",
       "      <td>1</td>\n",
       "      <td>0</td>\n",
       "      <td>0</td>\n",
       "      <td>0</td>\n",
       "      <td>1</td>\n",
       "      <td>0</td>\n",
       "      <td>0</td>\n",
       "      <td>0</td>\n",
       "      <td>0</td>\n",
       "      <td>0</td>\n",
       "    </tr>\n",
       "  </tbody>\n",
       "</table>\n",
       "<p>5 rows × 121 columns</p>\n",
       "</div>"
      ],
      "text/plain": [
       "   CONTROL_NUMBER  MONTHS_SINCE_ORIGIN  DONOR_AGE  IN_HOUSE  INCOME_GROUP  \\\n",
       "0             139                  101       59.0         0           4.0   \n",
       "1             142                  137       59.0         0           4.0   \n",
       "2             282                   17       30.0         0           6.0   \n",
       "3             368                  137       75.0         0           6.0   \n",
       "4             387                    5       59.0         0           2.0   \n",
       "\n",
       "   PUBLISHED_PHONE  MOR_HIT_RATE  WEALTH_RATING  MEDIAN_HOME_VALUE  \\\n",
       "0                0             0            5.0                655   \n",
       "1                1             0            1.0                475   \n",
       "2                1            11            5.0               1117   \n",
       "3                1             1            7.0               2257   \n",
       "4                0             0            5.0                789   \n",
       "\n",
       "   MEDIAN_HOUSEHOLD_INCOME          ...            OVERLAY_SOURCE_B  \\\n",
       "0                      219          ...                           0   \n",
       "1                      227          ...                           0   \n",
       "2                      544          ...                           1   \n",
       "3                      485          ...                           1   \n",
       "4                      413          ...                           1   \n",
       "\n",
       "   OVERLAY_SOURCE_M  OVERLAY_SOURCE_N  OVERLAY_SOURCE_P  \\\n",
       "0                 0                 1                 0   \n",
       "1                 0                 1                 0   \n",
       "2                 0                 0                 0   \n",
       "3                 0                 0                 0   \n",
       "4                 0                 0                 0   \n",
       "\n",
       "   RECENCY_STATUS_96NK_A  RECENCY_STATUS_96NK_E  RECENCY_STATUS_96NK_F  \\\n",
       "0                      1                      0                      0   \n",
       "1                      0                      0                      0   \n",
       "2                      0                      0                      1   \n",
       "3                      1                      0                      0   \n",
       "4                      1                      0                      0   \n",
       "\n",
       "   RECENCY_STATUS_96NK_L  RECENCY_STATUS_96NK_N  RECENCY_STATUS_96NK_S  \n",
       "0                      0                      0                      0  \n",
       "1                      0                      0                      1  \n",
       "2                      0                      0                      0  \n",
       "3                      0                      0                      0  \n",
       "4                      0                      0                      0  \n",
       "\n",
       "[5 rows x 121 columns]"
      ]
     },
     "execution_count": 54,
     "metadata": {},
     "output_type": "execute_result"
    }
   ],
   "source": [
    "Donors_prosp_data_encoded.head(5)"
   ]
  },
  {
   "cell_type": "code",
   "execution_count": 55,
   "metadata": {},
   "outputs": [
    {
     "data": {
      "text/html": [
       "<div>\n",
       "<style scoped>\n",
       "    .dataframe tbody tr th:only-of-type {\n",
       "        vertical-align: middle;\n",
       "    }\n",
       "\n",
       "    .dataframe tbody tr th {\n",
       "        vertical-align: top;\n",
       "    }\n",
       "\n",
       "    .dataframe thead th {\n",
       "        text-align: right;\n",
       "    }\n",
       "</style>\n",
       "<table border=\"1\" class=\"dataframe\">\n",
       "  <thead>\n",
       "    <tr style=\"text-align: right;\">\n",
       "      <th></th>\n",
       "      <th>TARGET_B</th>\n",
       "      <th>CONTROL_NUMBER</th>\n",
       "      <th>MONTHS_SINCE_ORIGIN</th>\n",
       "      <th>DONOR_AGE</th>\n",
       "      <th>IN_HOUSE</th>\n",
       "      <th>INCOME_GROUP</th>\n",
       "      <th>PUBLISHED_PHONE</th>\n",
       "      <th>MOR_HIT_RATE</th>\n",
       "      <th>WEALTH_RATING</th>\n",
       "      <th>MEDIAN_HOME_VALUE</th>\n",
       "      <th>...</th>\n",
       "      <th>OVERLAY_SOURCE_B</th>\n",
       "      <th>OVERLAY_SOURCE_M</th>\n",
       "      <th>OVERLAY_SOURCE_N</th>\n",
       "      <th>OVERLAY_SOURCE_P</th>\n",
       "      <th>RECENCY_STATUS_96NK_A</th>\n",
       "      <th>RECENCY_STATUS_96NK_E</th>\n",
       "      <th>RECENCY_STATUS_96NK_F</th>\n",
       "      <th>RECENCY_STATUS_96NK_L</th>\n",
       "      <th>RECENCY_STATUS_96NK_N</th>\n",
       "      <th>RECENCY_STATUS_96NK_S</th>\n",
       "    </tr>\n",
       "  </thead>\n",
       "  <tbody>\n",
       "    <tr>\n",
       "      <th>0</th>\n",
       "      <td>0</td>\n",
       "      <td>5</td>\n",
       "      <td>101</td>\n",
       "      <td>87.0</td>\n",
       "      <td>0</td>\n",
       "      <td>2.0</td>\n",
       "      <td>0</td>\n",
       "      <td>0</td>\n",
       "      <td>5.0</td>\n",
       "      <td>554</td>\n",
       "      <td>...</td>\n",
       "      <td>0</td>\n",
       "      <td>0</td>\n",
       "      <td>0</td>\n",
       "      <td>1</td>\n",
       "      <td>1</td>\n",
       "      <td>0</td>\n",
       "      <td>0</td>\n",
       "      <td>0</td>\n",
       "      <td>0</td>\n",
       "      <td>0</td>\n",
       "    </tr>\n",
       "    <tr>\n",
       "      <th>1</th>\n",
       "      <td>1</td>\n",
       "      <td>12</td>\n",
       "      <td>137</td>\n",
       "      <td>79.0</td>\n",
       "      <td>0</td>\n",
       "      <td>7.0</td>\n",
       "      <td>0</td>\n",
       "      <td>0</td>\n",
       "      <td>3.0</td>\n",
       "      <td>334</td>\n",
       "      <td>...</td>\n",
       "      <td>0</td>\n",
       "      <td>0</td>\n",
       "      <td>0</td>\n",
       "      <td>1</td>\n",
       "      <td>0</td>\n",
       "      <td>0</td>\n",
       "      <td>0</td>\n",
       "      <td>0</td>\n",
       "      <td>0</td>\n",
       "      <td>1</td>\n",
       "    </tr>\n",
       "    <tr>\n",
       "      <th>2</th>\n",
       "      <td>0</td>\n",
       "      <td>37</td>\n",
       "      <td>113</td>\n",
       "      <td>75.0</td>\n",
       "      <td>0</td>\n",
       "      <td>5.0</td>\n",
       "      <td>0</td>\n",
       "      <td>0</td>\n",
       "      <td>9.0</td>\n",
       "      <td>2388</td>\n",
       "      <td>...</td>\n",
       "      <td>0</td>\n",
       "      <td>0</td>\n",
       "      <td>0</td>\n",
       "      <td>1</td>\n",
       "      <td>0</td>\n",
       "      <td>0</td>\n",
       "      <td>0</td>\n",
       "      <td>0</td>\n",
       "      <td>0</td>\n",
       "      <td>1</td>\n",
       "    </tr>\n",
       "    <tr>\n",
       "      <th>3</th>\n",
       "      <td>0</td>\n",
       "      <td>38</td>\n",
       "      <td>92</td>\n",
       "      <td>59.0</td>\n",
       "      <td>0</td>\n",
       "      <td>6.0</td>\n",
       "      <td>1</td>\n",
       "      <td>0</td>\n",
       "      <td>4.0</td>\n",
       "      <td>1688</td>\n",
       "      <td>...</td>\n",
       "      <td>1</td>\n",
       "      <td>0</td>\n",
       "      <td>0</td>\n",
       "      <td>0</td>\n",
       "      <td>1</td>\n",
       "      <td>0</td>\n",
       "      <td>0</td>\n",
       "      <td>0</td>\n",
       "      <td>0</td>\n",
       "      <td>0</td>\n",
       "    </tr>\n",
       "    <tr>\n",
       "      <th>4</th>\n",
       "      <td>0</td>\n",
       "      <td>41</td>\n",
       "      <td>101</td>\n",
       "      <td>74.0</td>\n",
       "      <td>0</td>\n",
       "      <td>2.0</td>\n",
       "      <td>1</td>\n",
       "      <td>8</td>\n",
       "      <td>5.0</td>\n",
       "      <td>514</td>\n",
       "      <td>...</td>\n",
       "      <td>1</td>\n",
       "      <td>0</td>\n",
       "      <td>0</td>\n",
       "      <td>0</td>\n",
       "      <td>1</td>\n",
       "      <td>0</td>\n",
       "      <td>0</td>\n",
       "      <td>0</td>\n",
       "      <td>0</td>\n",
       "      <td>0</td>\n",
       "    </tr>\n",
       "  </tbody>\n",
       "</table>\n",
       "<p>5 rows × 120 columns</p>\n",
       "</div>"
      ],
      "text/plain": [
       "   TARGET_B  CONTROL_NUMBER  MONTHS_SINCE_ORIGIN  DONOR_AGE  IN_HOUSE  \\\n",
       "0         0               5                  101       87.0         0   \n",
       "1         1              12                  137       79.0         0   \n",
       "2         0              37                  113       75.0         0   \n",
       "3         0              38                   92       59.0         0   \n",
       "4         0              41                  101       74.0         0   \n",
       "\n",
       "   INCOME_GROUP  PUBLISHED_PHONE  MOR_HIT_RATE  WEALTH_RATING  \\\n",
       "0           2.0                0             0            5.0   \n",
       "1           7.0                0             0            3.0   \n",
       "2           5.0                0             0            9.0   \n",
       "3           6.0                1             0            4.0   \n",
       "4           2.0                1             8            5.0   \n",
       "\n",
       "   MEDIAN_HOME_VALUE          ...            OVERLAY_SOURCE_B  \\\n",
       "0                554          ...                           0   \n",
       "1                334          ...                           0   \n",
       "2               2388          ...                           0   \n",
       "3               1688          ...                           1   \n",
       "4                514          ...                           1   \n",
       "\n",
       "   OVERLAY_SOURCE_M  OVERLAY_SOURCE_N  OVERLAY_SOURCE_P  \\\n",
       "0                 0                 0                 1   \n",
       "1                 0                 0                 1   \n",
       "2                 0                 0                 1   \n",
       "3                 0                 0                 0   \n",
       "4                 0                 0                 0   \n",
       "\n",
       "   RECENCY_STATUS_96NK_A  RECENCY_STATUS_96NK_E  RECENCY_STATUS_96NK_F  \\\n",
       "0                      1                      0                      0   \n",
       "1                      0                      0                      0   \n",
       "2                      0                      0                      0   \n",
       "3                      1                      0                      0   \n",
       "4                      1                      0                      0   \n",
       "\n",
       "   RECENCY_STATUS_96NK_L  RECENCY_STATUS_96NK_N  RECENCY_STATUS_96NK_S  \n",
       "0                      0                      0                      0  \n",
       "1                      0                      0                      1  \n",
       "2                      0                      0                      1  \n",
       "3                      0                      0                      0  \n",
       "4                      0                      0                      0  \n",
       "\n",
       "[5 rows x 120 columns]"
      ]
     },
     "execution_count": 55,
     "metadata": {},
     "output_type": "execute_result"
    }
   ],
   "source": [
    "Donors_hist_data_encoded.head(5)"
   ]
  },
  {
   "cell_type": "code",
   "execution_count": 56,
   "metadata": {},
   "outputs": [
    {
     "name": "stdout",
     "output_type": "stream",
     "text": [
      "<class 'pandas.core.frame.DataFrame'>\n",
      "RangeIndex: 19372 entries, 0 to 19371\n",
      "Columns: 120 entries, TARGET_B to RECENCY_STATUS_96NK_S\n",
      "dtypes: float64(15), int64(27), uint8(78)\n",
      "memory usage: 7.6 MB\n"
     ]
    }
   ],
   "source": [
    "Donors_hist_data_encoded.info()"
   ]
  },
  {
   "cell_type": "code",
   "execution_count": 57,
   "metadata": {},
   "outputs": [
    {
     "name": "stdout",
     "output_type": "stream",
     "text": [
      "<class 'pandas.core.frame.DataFrame'>\n",
      "RangeIndex: 2148 entries, 0 to 2147\n",
      "Columns: 121 entries, CONTROL_NUMBER to RECENCY_STATUS_96NK_S\n",
      "dtypes: float64(15), int64(26), uint8(80)\n",
      "memory usage: 855.9 KB\n"
     ]
    }
   ],
   "source": [
    "Donors_prosp_data_encoded.info()"
   ]
  },
  {
   "cell_type": "code",
   "execution_count": 58,
   "metadata": {},
   "outputs": [],
   "source": [
    "# Grab feature_columns for Donors_hist_data_encoded\n",
    "feature_columns = Donors_hist_data_encoded.drop('TARGET_B',axis=1)"
   ]
  },
  {
   "cell_type": "code",
   "execution_count": 59,
   "metadata": {},
   "outputs": [],
   "source": [
    "target=Donors_hist_data_encoded['TARGET_B']"
   ]
  },
  {
   "cell_type": "code",
   "execution_count": 60,
   "metadata": {},
   "outputs": [
    {
     "data": {
      "text/html": [
       "<div>\n",
       "<style scoped>\n",
       "    .dataframe tbody tr th:only-of-type {\n",
       "        vertical-align: middle;\n",
       "    }\n",
       "\n",
       "    .dataframe tbody tr th {\n",
       "        vertical-align: top;\n",
       "    }\n",
       "\n",
       "    .dataframe thead th {\n",
       "        text-align: right;\n",
       "    }\n",
       "</style>\n",
       "<table border=\"1\" class=\"dataframe\">\n",
       "  <thead>\n",
       "    <tr style=\"text-align: right;\">\n",
       "      <th></th>\n",
       "      <th>CONTROL_NUMBER</th>\n",
       "      <th>MONTHS_SINCE_ORIGIN</th>\n",
       "      <th>DONOR_AGE</th>\n",
       "      <th>IN_HOUSE</th>\n",
       "      <th>INCOME_GROUP</th>\n",
       "      <th>PUBLISHED_PHONE</th>\n",
       "      <th>MOR_HIT_RATE</th>\n",
       "      <th>WEALTH_RATING</th>\n",
       "      <th>MEDIAN_HOME_VALUE</th>\n",
       "      <th>MEDIAN_HOUSEHOLD_INCOME</th>\n",
       "      <th>...</th>\n",
       "      <th>OVERLAY_SOURCE_B</th>\n",
       "      <th>OVERLAY_SOURCE_M</th>\n",
       "      <th>OVERLAY_SOURCE_N</th>\n",
       "      <th>OVERLAY_SOURCE_P</th>\n",
       "      <th>RECENCY_STATUS_96NK_A</th>\n",
       "      <th>RECENCY_STATUS_96NK_E</th>\n",
       "      <th>RECENCY_STATUS_96NK_F</th>\n",
       "      <th>RECENCY_STATUS_96NK_L</th>\n",
       "      <th>RECENCY_STATUS_96NK_N</th>\n",
       "      <th>RECENCY_STATUS_96NK_S</th>\n",
       "    </tr>\n",
       "  </thead>\n",
       "  <tbody>\n",
       "    <tr>\n",
       "      <th>0</th>\n",
       "      <td>5</td>\n",
       "      <td>101</td>\n",
       "      <td>87.0</td>\n",
       "      <td>0</td>\n",
       "      <td>2.0</td>\n",
       "      <td>0</td>\n",
       "      <td>0</td>\n",
       "      <td>5.0</td>\n",
       "      <td>554</td>\n",
       "      <td>294</td>\n",
       "      <td>...</td>\n",
       "      <td>0</td>\n",
       "      <td>0</td>\n",
       "      <td>0</td>\n",
       "      <td>1</td>\n",
       "      <td>1</td>\n",
       "      <td>0</td>\n",
       "      <td>0</td>\n",
       "      <td>0</td>\n",
       "      <td>0</td>\n",
       "      <td>0</td>\n",
       "    </tr>\n",
       "    <tr>\n",
       "      <th>1</th>\n",
       "      <td>12</td>\n",
       "      <td>137</td>\n",
       "      <td>79.0</td>\n",
       "      <td>0</td>\n",
       "      <td>7.0</td>\n",
       "      <td>0</td>\n",
       "      <td>0</td>\n",
       "      <td>3.0</td>\n",
       "      <td>334</td>\n",
       "      <td>212</td>\n",
       "      <td>...</td>\n",
       "      <td>0</td>\n",
       "      <td>0</td>\n",
       "      <td>0</td>\n",
       "      <td>1</td>\n",
       "      <td>0</td>\n",
       "      <td>0</td>\n",
       "      <td>0</td>\n",
       "      <td>0</td>\n",
       "      <td>0</td>\n",
       "      <td>1</td>\n",
       "    </tr>\n",
       "  </tbody>\n",
       "</table>\n",
       "<p>2 rows × 119 columns</p>\n",
       "</div>"
      ],
      "text/plain": [
       "   CONTROL_NUMBER  MONTHS_SINCE_ORIGIN  DONOR_AGE  IN_HOUSE  INCOME_GROUP  \\\n",
       "0               5                  101       87.0         0           2.0   \n",
       "1              12                  137       79.0         0           7.0   \n",
       "\n",
       "   PUBLISHED_PHONE  MOR_HIT_RATE  WEALTH_RATING  MEDIAN_HOME_VALUE  \\\n",
       "0                0             0            5.0                554   \n",
       "1                0             0            3.0                334   \n",
       "\n",
       "   MEDIAN_HOUSEHOLD_INCOME          ...            OVERLAY_SOURCE_B  \\\n",
       "0                      294          ...                           0   \n",
       "1                      212          ...                           0   \n",
       "\n",
       "   OVERLAY_SOURCE_M  OVERLAY_SOURCE_N  OVERLAY_SOURCE_P  \\\n",
       "0                 0                 0                 1   \n",
       "1                 0                 0                 1   \n",
       "\n",
       "   RECENCY_STATUS_96NK_A  RECENCY_STATUS_96NK_E  RECENCY_STATUS_96NK_F  \\\n",
       "0                      1                      0                      0   \n",
       "1                      0                      0                      0   \n",
       "\n",
       "   RECENCY_STATUS_96NK_L  RECENCY_STATUS_96NK_N  RECENCY_STATUS_96NK_S  \n",
       "0                      0                      0                      0  \n",
       "1                      0                      0                      1  \n",
       "\n",
       "[2 rows x 119 columns]"
      ]
     },
     "execution_count": 60,
     "metadata": {},
     "output_type": "execute_result"
    }
   ],
   "source": [
    "feature_columns.head(2)"
   ]
  },
  {
   "cell_type": "markdown",
   "metadata": {},
   "source": [
    "# Selection of most important independent variables to predict (TARGET_B)"
   ]
  },
  {
   "cell_type": "code",
   "execution_count": 61,
   "metadata": {},
   "outputs": [],
   "source": [
    "# KBEST to choose only the 8 most important variables from Donors historical records\n",
    "K_Best = sklearn.feature_selection.SelectKBest(k = 25)  # instantiate the KBest algorithm\n",
    "selected_features = K_Best.fit(feature_columns, target) \n",
    "indices_selected = selected_features.get_support(indices=True)\n",
    "\n",
    "chosen_cols = [feature_columns.columns[i] for i in indices_selected]"
   ]
  },
  {
   "cell_type": "code",
   "execution_count": null,
   "metadata": {},
   "outputs": [],
   "source": [
    "# Choosing the most important variables for Donors prospects - New contact list\n",
    "\n",
    "#KBEST to choose only the 8 most important variables\n",
    "#K_Best = sklearn.feature_selection.SelectKBest(k = 25)  # instantiate the KBest algorithm\n",
    "#selected_features = K_Best.fit(feature_columns, target) \n",
    "#indices_selected = selected_features.get_support(indices=True)\n",
    "\n",
    "#chosen_cols_prosp = [feature_columns.columns[i] for i in indices_selected]"
   ]
  },
  {
   "cell_type": "code",
   "execution_count": 62,
   "metadata": {},
   "outputs": [
    {
     "data": {
      "text/plain": [
       "['MONTHS_SINCE_ORIGIN',\n",
       " 'MEDIAN_HOME_VALUE',\n",
       " 'PER_CAPITA_INCOME',\n",
       " 'PEP_STAR',\n",
       " 'FREQUENCY_STATUS_97NK',\n",
       " 'RECENT_RESPONSE_PROP',\n",
       " 'RECENT_AVG_GIFT_AMT',\n",
       " 'RECENT_CARD_RESPONSE_PROP',\n",
       " 'RECENT_RESPONSE_COUNT',\n",
       " 'RECENT_CARD_RESPONSE_COUNT',\n",
       " 'MONTHS_SINCE_LAST_PROM_RESP',\n",
       " 'LIFETIME_CARD_PROM',\n",
       " 'LIFETIME_PROM',\n",
       " 'LIFETIME_GIFT_AMOUNT',\n",
       " 'LIFETIME_GIFT_COUNT',\n",
       " 'LIFETIME_AVG_GIFT_AMT',\n",
       " 'LIFETIME_MIN_GIFT_AMT',\n",
       " 'LAST_GIFT_AMT',\n",
       " 'MONTHS_SINCE_LAST_GIFT',\n",
       " 'MONTHS_SINCE_FIRST_GIFT',\n",
       " 'FILE_AVG_GIFT',\n",
       " 'FILE_CARD_GIFT',\n",
       " 'RECENCY_STATUS_96NK_A',\n",
       " 'RECENCY_STATUS_96NK_F',\n",
       " 'RECENCY_STATUS_96NK_S']"
      ]
     },
     "execution_count": 62,
     "metadata": {},
     "output_type": "execute_result"
    }
   ],
   "source": [
    "chosen_cols"
   ]
  },
  {
   "cell_type": "code",
   "execution_count": 63,
   "metadata": {},
   "outputs": [],
   "source": [
    "X=Donors_hist_data_encoded[chosen_cols]\n",
    "y=target"
   ]
  },
  {
   "cell_type": "code",
   "execution_count": 64,
   "metadata": {},
   "outputs": [
    {
     "data": {
      "text/html": [
       "<div>\n",
       "<style scoped>\n",
       "    .dataframe tbody tr th:only-of-type {\n",
       "        vertical-align: middle;\n",
       "    }\n",
       "\n",
       "    .dataframe tbody tr th {\n",
       "        vertical-align: top;\n",
       "    }\n",
       "\n",
       "    .dataframe thead th {\n",
       "        text-align: right;\n",
       "    }\n",
       "</style>\n",
       "<table border=\"1\" class=\"dataframe\">\n",
       "  <thead>\n",
       "    <tr style=\"text-align: right;\">\n",
       "      <th></th>\n",
       "      <th>MONTHS_SINCE_ORIGIN</th>\n",
       "      <th>MEDIAN_HOME_VALUE</th>\n",
       "      <th>PER_CAPITA_INCOME</th>\n",
       "      <th>PEP_STAR</th>\n",
       "      <th>FREQUENCY_STATUS_97NK</th>\n",
       "      <th>RECENT_RESPONSE_PROP</th>\n",
       "      <th>RECENT_AVG_GIFT_AMT</th>\n",
       "      <th>RECENT_CARD_RESPONSE_PROP</th>\n",
       "      <th>RECENT_RESPONSE_COUNT</th>\n",
       "      <th>RECENT_CARD_RESPONSE_COUNT</th>\n",
       "      <th>...</th>\n",
       "      <th>LIFETIME_AVG_GIFT_AMT</th>\n",
       "      <th>LIFETIME_MIN_GIFT_AMT</th>\n",
       "      <th>LAST_GIFT_AMT</th>\n",
       "      <th>MONTHS_SINCE_LAST_GIFT</th>\n",
       "      <th>MONTHS_SINCE_FIRST_GIFT</th>\n",
       "      <th>FILE_AVG_GIFT</th>\n",
       "      <th>FILE_CARD_GIFT</th>\n",
       "      <th>RECENCY_STATUS_96NK_A</th>\n",
       "      <th>RECENCY_STATUS_96NK_F</th>\n",
       "      <th>RECENCY_STATUS_96NK_S</th>\n",
       "    </tr>\n",
       "  </thead>\n",
       "  <tbody>\n",
       "    <tr>\n",
       "      <th>0</th>\n",
       "      <td>101</td>\n",
       "      <td>554</td>\n",
       "      <td>11855</td>\n",
       "      <td>1</td>\n",
       "      <td>1</td>\n",
       "      <td>0.067</td>\n",
       "      <td>15.00</td>\n",
       "      <td>0.000</td>\n",
       "      <td>1</td>\n",
       "      <td>0</td>\n",
       "      <td>...</td>\n",
       "      <td>8.49</td>\n",
       "      <td>5.0</td>\n",
       "      <td>15.0</td>\n",
       "      <td>26</td>\n",
       "      <td>92</td>\n",
       "      <td>8.49</td>\n",
       "      <td>7</td>\n",
       "      <td>1</td>\n",
       "      <td>0</td>\n",
       "      <td>0</td>\n",
       "    </tr>\n",
       "    <tr>\n",
       "      <th>1</th>\n",
       "      <td>137</td>\n",
       "      <td>334</td>\n",
       "      <td>10385</td>\n",
       "      <td>1</td>\n",
       "      <td>2</td>\n",
       "      <td>0.235</td>\n",
       "      <td>15.00</td>\n",
       "      <td>0.250</td>\n",
       "      <td>4</td>\n",
       "      <td>2</td>\n",
       "      <td>...</td>\n",
       "      <td>14.72</td>\n",
       "      <td>5.0</td>\n",
       "      <td>17.0</td>\n",
       "      <td>7</td>\n",
       "      <td>122</td>\n",
       "      <td>14.72</td>\n",
       "      <td>12</td>\n",
       "      <td>0</td>\n",
       "      <td>0</td>\n",
       "      <td>1</td>\n",
       "    </tr>\n",
       "    <tr>\n",
       "      <th>2</th>\n",
       "      <td>113</td>\n",
       "      <td>2388</td>\n",
       "      <td>30855</td>\n",
       "      <td>1</td>\n",
       "      <td>3</td>\n",
       "      <td>0.409</td>\n",
       "      <td>21.67</td>\n",
       "      <td>0.545</td>\n",
       "      <td>9</td>\n",
       "      <td>6</td>\n",
       "      <td>...</td>\n",
       "      <td>16.75</td>\n",
       "      <td>5.0</td>\n",
       "      <td>19.0</td>\n",
       "      <td>6</td>\n",
       "      <td>105</td>\n",
       "      <td>16.75</td>\n",
       "      <td>16</td>\n",
       "      <td>0</td>\n",
       "      <td>0</td>\n",
       "      <td>1</td>\n",
       "    </tr>\n",
       "    <tr>\n",
       "      <th>3</th>\n",
       "      <td>92</td>\n",
       "      <td>1688</td>\n",
       "      <td>16342</td>\n",
       "      <td>1</td>\n",
       "      <td>3</td>\n",
       "      <td>0.474</td>\n",
       "      <td>13.44</td>\n",
       "      <td>0.400</td>\n",
       "      <td>9</td>\n",
       "      <td>4</td>\n",
       "      <td>...</td>\n",
       "      <td>11.76</td>\n",
       "      <td>3.0</td>\n",
       "      <td>15.0</td>\n",
       "      <td>6</td>\n",
       "      <td>92</td>\n",
       "      <td>11.76</td>\n",
       "      <td>12</td>\n",
       "      <td>1</td>\n",
       "      <td>0</td>\n",
       "      <td>0</td>\n",
       "    </tr>\n",
       "    <tr>\n",
       "      <th>4</th>\n",
       "      <td>101</td>\n",
       "      <td>514</td>\n",
       "      <td>12107</td>\n",
       "      <td>0</td>\n",
       "      <td>1</td>\n",
       "      <td>0.100</td>\n",
       "      <td>17.50</td>\n",
       "      <td>0.111</td>\n",
       "      <td>2</td>\n",
       "      <td>1</td>\n",
       "      <td>...</td>\n",
       "      <td>8.83</td>\n",
       "      <td>5.0</td>\n",
       "      <td>25.0</td>\n",
       "      <td>18</td>\n",
       "      <td>92</td>\n",
       "      <td>8.83</td>\n",
       "      <td>3</td>\n",
       "      <td>1</td>\n",
       "      <td>0</td>\n",
       "      <td>0</td>\n",
       "    </tr>\n",
       "  </tbody>\n",
       "</table>\n",
       "<p>5 rows × 25 columns</p>\n",
       "</div>"
      ],
      "text/plain": [
       "   MONTHS_SINCE_ORIGIN  MEDIAN_HOME_VALUE  PER_CAPITA_INCOME  PEP_STAR  \\\n",
       "0                  101                554              11855         1   \n",
       "1                  137                334              10385         1   \n",
       "2                  113               2388              30855         1   \n",
       "3                   92               1688              16342         1   \n",
       "4                  101                514              12107         0   \n",
       "\n",
       "   FREQUENCY_STATUS_97NK  RECENT_RESPONSE_PROP  RECENT_AVG_GIFT_AMT  \\\n",
       "0                      1                 0.067                15.00   \n",
       "1                      2                 0.235                15.00   \n",
       "2                      3                 0.409                21.67   \n",
       "3                      3                 0.474                13.44   \n",
       "4                      1                 0.100                17.50   \n",
       "\n",
       "   RECENT_CARD_RESPONSE_PROP  RECENT_RESPONSE_COUNT  \\\n",
       "0                      0.000                      1   \n",
       "1                      0.250                      4   \n",
       "2                      0.545                      9   \n",
       "3                      0.400                      9   \n",
       "4                      0.111                      2   \n",
       "\n",
       "   RECENT_CARD_RESPONSE_COUNT          ...            LIFETIME_AVG_GIFT_AMT  \\\n",
       "0                           0          ...                             8.49   \n",
       "1                           2          ...                            14.72   \n",
       "2                           6          ...                            16.75   \n",
       "3                           4          ...                            11.76   \n",
       "4                           1          ...                             8.83   \n",
       "\n",
       "   LIFETIME_MIN_GIFT_AMT  LAST_GIFT_AMT  MONTHS_SINCE_LAST_GIFT  \\\n",
       "0                    5.0           15.0                      26   \n",
       "1                    5.0           17.0                       7   \n",
       "2                    5.0           19.0                       6   \n",
       "3                    3.0           15.0                       6   \n",
       "4                    5.0           25.0                      18   \n",
       "\n",
       "   MONTHS_SINCE_FIRST_GIFT  FILE_AVG_GIFT  FILE_CARD_GIFT  \\\n",
       "0                       92           8.49               7   \n",
       "1                      122          14.72              12   \n",
       "2                      105          16.75              16   \n",
       "3                       92          11.76              12   \n",
       "4                       92           8.83               3   \n",
       "\n",
       "   RECENCY_STATUS_96NK_A  RECENCY_STATUS_96NK_F  RECENCY_STATUS_96NK_S  \n",
       "0                      1                      0                      0  \n",
       "1                      0                      0                      1  \n",
       "2                      0                      0                      1  \n",
       "3                      1                      0                      0  \n",
       "4                      1                      0                      0  \n",
       "\n",
       "[5 rows x 25 columns]"
      ]
     },
     "execution_count": 64,
     "metadata": {},
     "output_type": "execute_result"
    }
   ],
   "source": [
    "X.head()"
   ]
  },
  {
   "cell_type": "code",
   "execution_count": 65,
   "metadata": {},
   "outputs": [
    {
     "data": {
      "text/plain": [
       "0    0\n",
       "1    1\n",
       "2    0\n",
       "3    0\n",
       "4    0\n",
       "Name: TARGET_B, dtype: int64"
      ]
     },
     "execution_count": 65,
     "metadata": {},
     "output_type": "execute_result"
    }
   ],
   "source": [
    "y.head()"
   ]
  },
  {
   "cell_type": "markdown",
   "metadata": {},
   "source": [
    "# Train Test Split"
   ]
  },
  {
   "cell_type": "code",
   "execution_count": 66,
   "metadata": {},
   "outputs": [],
   "source": [
    "X_train, X_test, y_train, y_test = train_test_split(X, y, test_size=0.33, random_state=42)"
   ]
  },
  {
   "cell_type": "markdown",
   "metadata": {},
   "source": [
    "# Building a Model - Decision Tree"
   ]
  },
  {
   "cell_type": "code",
   "execution_count": 67,
   "metadata": {},
   "outputs": [],
   "source": [
    "DTree = tree.DecisionTreeClassifier() # instantiating the algorithm"
   ]
  },
  {
   "cell_type": "code",
   "execution_count": 68,
   "metadata": {},
   "outputs": [
    {
     "data": {
      "text/plain": [
       "DecisionTreeClassifier(class_weight=None, criterion='gini', max_depth=None,\n",
       "            max_features=None, max_leaf_nodes=None,\n",
       "            min_impurity_decrease=0.0, min_impurity_split=None,\n",
       "            min_samples_leaf=1, min_samples_split=2,\n",
       "            min_weight_fraction_leaf=0.0, presort=False, random_state=None,\n",
       "            splitter='best')"
      ]
     },
     "execution_count": 68,
     "metadata": {},
     "output_type": "execute_result"
    }
   ],
   "source": [
    "DTree.fit(X_train,y_train)"
   ]
  },
  {
   "cell_type": "code",
   "execution_count": 69,
   "metadata": {},
   "outputs": [],
   "source": [
    "# Using the model to predict X_test with out y_test (TARGET_D)\n",
    "DTree_pred = DTree.predict(X_test)"
   ]
  },
  {
   "cell_type": "code",
   "execution_count": 70,
   "metadata": {},
   "outputs": [
    {
     "data": {
      "text/plain": [
       "array([1, 0, 0, ..., 0, 0, 1], dtype=int64)"
      ]
     },
     "execution_count": 70,
     "metadata": {},
     "output_type": "execute_result"
    }
   ],
   "source": [
    "DTree_pred"
   ]
  },
  {
   "cell_type": "markdown",
   "metadata": {},
   "source": [
    "# Evaluating the model by comparing y_test(TARGET_B) and predicted values(DTree_pred)"
   ]
  },
  {
   "cell_type": "code",
   "execution_count": 71,
   "metadata": {},
   "outputs": [],
   "source": [
    "DTree_Score = accuracy_score(y_test, DTree_pred)"
   ]
  },
  {
   "cell_type": "code",
   "execution_count": 72,
   "metadata": {},
   "outputs": [
    {
     "name": "stdout",
     "output_type": "stream",
     "text": [
      "the accuracy of the Dec Tree model is :  0.6259971844204599\n"
     ]
    }
   ],
   "source": [
    "print(\"the accuracy of the Dec Tree model is : \", DTree_Score)"
   ]
  },
  {
   "cell_type": "code",
   "execution_count": 73,
   "metadata": {},
   "outputs": [],
   "source": [
    "from sklearn.metrics import classification_report,confusion_matrix"
   ]
  },
  {
   "cell_type": "code",
   "execution_count": 74,
   "metadata": {},
   "outputs": [
    {
     "name": "stdout",
     "output_type": "stream",
     "text": [
      "             precision    recall  f1-score   support\n",
      "\n",
      "          0       0.76      0.73      0.75      4796\n",
      "          1       0.28      0.31      0.29      1597\n",
      "\n",
      "avg / total       0.64      0.63      0.63      6393\n",
      "\n"
     ]
    }
   ],
   "source": [
    "print(classification_report(y_test,DTree_pred))"
   ]
  },
  {
   "cell_type": "code",
   "execution_count": 75,
   "metadata": {},
   "outputs": [
    {
     "name": "stdout",
     "output_type": "stream",
     "text": [
      "[[3508 1288]\n",
      " [1103  494]]\n"
     ]
    }
   ],
   "source": [
    "print(confusion_matrix(y_test,DTree_pred))"
   ]
  },
  {
   "cell_type": "code",
   "execution_count": null,
   "metadata": {},
   "outputs": [],
   "source": [
    "#pd.crosstab(y_test['TARGET_B'], DTree_pred, rownames= ['Actual'], colnames= ['Predicted'])"
   ]
  },
  {
   "cell_type": "markdown",
   "metadata": {},
   "source": [
    "# Random Forest"
   ]
  },
  {
   "cell_type": "code",
   "execution_count": 76,
   "metadata": {},
   "outputs": [],
   "source": [
    "# instantiating the algorithm\n",
    "randForest = RandomForestClassifier(n_estimators= 23, min_samples_split=15, max_depth=7, max_features= 5) "
   ]
  },
  {
   "cell_type": "code",
   "execution_count": 77,
   "metadata": {},
   "outputs": [
    {
     "data": {
      "text/plain": [
       "RandomForestClassifier(bootstrap=True, class_weight=None, criterion='gini',\n",
       "            max_depth=7, max_features=5, max_leaf_nodes=None,\n",
       "            min_impurity_decrease=0.0, min_impurity_split=None,\n",
       "            min_samples_leaf=1, min_samples_split=15,\n",
       "            min_weight_fraction_leaf=0.0, n_estimators=23, n_jobs=1,\n",
       "            oob_score=False, random_state=None, verbose=0,\n",
       "            warm_start=False)"
      ]
     },
     "execution_count": 77,
     "metadata": {},
     "output_type": "execute_result"
    }
   ],
   "source": [
    "randForest.fit(X_train, y_train)"
   ]
  },
  {
   "cell_type": "code",
   "execution_count": 78,
   "metadata": {},
   "outputs": [],
   "source": [
    "# Using the model to predict the test data without Loan_Status.\n",
    "\n",
    "RandFor_Pred = randForest.predict(X_test)"
   ]
  },
  {
   "cell_type": "markdown",
   "metadata": {},
   "source": [
    "# Model Evaluation"
   ]
  },
  {
   "cell_type": "code",
   "execution_count": 79,
   "metadata": {},
   "outputs": [],
   "source": [
    "RandFor_Score = accuracy_score(y_test, RandFor_Pred)"
   ]
  },
  {
   "cell_type": "code",
   "execution_count": 80,
   "metadata": {},
   "outputs": [
    {
     "name": "stdout",
     "output_type": "stream",
     "text": [
      "Accuracy of Random Forest Model is : 0.7506647896136399\n"
     ]
    }
   ],
   "source": [
    "print(\"Accuracy of Random Forest Model is :\", RandFor_Score)"
   ]
  },
  {
   "cell_type": "code",
   "execution_count": 81,
   "metadata": {},
   "outputs": [
    {
     "name": "stdout",
     "output_type": "stream",
     "text": [
      "             precision    recall  f1-score   support\n",
      "\n",
      "          0       0.75      1.00      0.86      4796\n",
      "          1       0.54      0.01      0.02      1597\n",
      "\n",
      "avg / total       0.70      0.75      0.65      6393\n",
      "\n"
     ]
    }
   ],
   "source": [
    "print(classification_report(y_test,RandFor_Pred))"
   ]
  },
  {
   "cell_type": "code",
   "execution_count": 82,
   "metadata": {},
   "outputs": [
    {
     "name": "stdout",
     "output_type": "stream",
     "text": [
      "[[4779   17]\n",
      " [1577   20]]\n"
     ]
    }
   ],
   "source": [
    "print(confusion_matrix(y_test,RandFor_Pred))"
   ]
  },
  {
   "cell_type": "markdown",
   "metadata": {},
   "source": [
    "# Most important and independent features/variables influencing the prediction"
   ]
  },
  {
   "cell_type": "code",
   "execution_count": 83,
   "metadata": {},
   "outputs": [],
   "source": [
    "# Most importance features/independent variables/predictors influencing prediction\n",
    "feature_importances = pd.DataFrame(randForest.feature_importances_,\n",
    "                                   index = X_train.columns,\n",
    "                                    columns=['importance']).sort_values('importance', ascending=False)"
   ]
  },
  {
   "cell_type": "code",
   "execution_count": 84,
   "metadata": {},
   "outputs": [
    {
     "data": {
      "text/html": [
       "<div>\n",
       "<style scoped>\n",
       "    .dataframe tbody tr th:only-of-type {\n",
       "        vertical-align: middle;\n",
       "    }\n",
       "\n",
       "    .dataframe tbody tr th {\n",
       "        vertical-align: top;\n",
       "    }\n",
       "\n",
       "    .dataframe thead th {\n",
       "        text-align: right;\n",
       "    }\n",
       "</style>\n",
       "<table border=\"1\" class=\"dataframe\">\n",
       "  <thead>\n",
       "    <tr style=\"text-align: right;\">\n",
       "      <th></th>\n",
       "      <th>importance</th>\n",
       "    </tr>\n",
       "  </thead>\n",
       "  <tbody>\n",
       "    <tr>\n",
       "      <th>MEDIAN_HOME_VALUE</th>\n",
       "      <td>0.091907</td>\n",
       "    </tr>\n",
       "    <tr>\n",
       "      <th>LAST_GIFT_AMT</th>\n",
       "      <td>0.071019</td>\n",
       "    </tr>\n",
       "    <tr>\n",
       "      <th>MONTHS_SINCE_LAST_GIFT</th>\n",
       "      <td>0.066452</td>\n",
       "    </tr>\n",
       "    <tr>\n",
       "      <th>LIFETIME_PROM</th>\n",
       "      <td>0.064054</td>\n",
       "    </tr>\n",
       "    <tr>\n",
       "      <th>FREQUENCY_STATUS_97NK</th>\n",
       "      <td>0.061812</td>\n",
       "    </tr>\n",
       "  </tbody>\n",
       "</table>\n",
       "</div>"
      ],
      "text/plain": [
       "                        importance\n",
       "MEDIAN_HOME_VALUE         0.091907\n",
       "LAST_GIFT_AMT             0.071019\n",
       "MONTHS_SINCE_LAST_GIFT    0.066452\n",
       "LIFETIME_PROM             0.064054\n",
       "FREQUENCY_STATUS_97NK     0.061812"
      ]
     },
     "execution_count": 84,
     "metadata": {},
     "output_type": "execute_result"
    }
   ],
   "source": [
    "feature_importances.head()"
   ]
  },
  {
   "cell_type": "code",
   "execution_count": 85,
   "metadata": {},
   "outputs": [
    {
     "name": "stderr",
     "output_type": "stream",
     "text": [
      "C:\\ProgramData\\Anaconda3\\lib\\site-packages\\ipykernel_launcher.py:17: DeprecationWarning: \n",
      ".ix is deprecated. Please use\n",
      ".loc for label based indexing or\n",
      ".iloc for positional indexing\n",
      "\n",
      "See the documentation here:\n",
      "http://pandas.pydata.org/pandas-docs/stable/indexing.html#ix-indexer-is-deprecated\n",
      "C:\\ProgramData\\Anaconda3\\lib\\site-packages\\ipykernel_launcher.py:18: DeprecationWarning: \n",
      ".ix is deprecated. Please use\n",
      ".loc for label based indexing or\n",
      ".iloc for positional indexing\n",
      "\n",
      "See the documentation here:\n",
      "http://pandas.pydata.org/pandas-docs/stable/indexing.html#ix-indexer-is-deprecated\n"
     ]
    },
    {
     "data": {
      "image/png": "[encoded data removed]",
      "text/plain": [
       "<Figure size 432x288 with 1 Axes>"
      ]
     },
     "metadata": {},
     "output_type": "display_data"
    }
   ],
   "source": [
    "#import matplotlib.pyplot as plt\n",
    "#import numpy as np\n",
    "#import pandas as pd\n",
    "#from sklearn.ensemble import RandomForestClassifier\n",
    "\n",
    "#clf = RandomForestClassifier()\n",
    "#randForest.fit(X_train.values, RandFor_Pred.values.ravel())\n",
    "\n",
    "importance = randForest.feature_importances_\n",
    "importance = pd.DataFrame(importance, index=X_train.columns, \n",
    "                          columns=[\"Importance\"])\n",
    "\n",
    "importance[\"Std\"] = np.std([tree.feature_importances_\n",
    "                            for tree in randForest.estimators_], axis=0)\n",
    "\n",
    "x = range(importance.shape[0])\n",
    "y = importance.ix[:, 0]\n",
    "yerr = importance.ix[:, 1]\n",
    "\n",
    "plt.bar(x, y, yerr=yerr, align=\"center\")\n",
    "\n",
    "plt.show()"
   ]
  },
  {
   "cell_type": "code",
   "execution_count": 86,
   "metadata": {},
   "outputs": [
    {
     "name": "stdout",
     "output_type": "stream",
     "text": [
      "Feature ranking:\n",
      "1. feature 1 (0.091907)\n",
      "2. feature 17 (0.071019)\n",
      "3. feature 18 (0.066452)\n",
      "4. feature 12 (0.064054)\n",
      "5. feature 4 (0.061812)\n",
      "6. feature 20 (0.060222)\n",
      "7. feature 2 (0.059768)\n",
      "8. feature 5 (0.049636)\n",
      "9. feature 7 (0.047528)\n",
      "10. feature 6 (0.046554)\n",
      "11. feature 15 (0.044764)\n",
      "12. feature 9 (0.041295)\n",
      "13. feature 13 (0.041084)\n",
      "14. feature 19 (0.037611)\n",
      "15. feature 21 (0.037332)\n",
      "16. feature 10 (0.036457)\n",
      "17. feature 11 (0.036349)\n",
      "18. feature 14 (0.035796)\n",
      "19. feature 3 (0.020449)\n",
      "20. feature 16 (0.018155)\n",
      "21. feature 0 (0.015066)\n",
      "22. feature 8 (0.011889)\n",
      "23. feature 24 (0.002538)\n",
      "24. feature 23 (0.001247)\n",
      "25. feature 22 (0.001016)\n"
     ]
    },
    {
     "data": {
      "image/png": "[encoded data removed]",
      "text/plain": [
       "<Figure size 432x288 with 1 Axes>"
      ]
     },
     "metadata": {},
     "output_type": "display_data"
    }
   ],
   "source": [
    "importances = randForest.feature_importances_\n",
    "std = np.std([tree.feature_importances_ for tree in randForest.estimators_],\n",
    "             axis=0)\n",
    "indices = np.argsort(importances)[::-1]\n",
    "\n",
    "# Print the feature ranking\n",
    "print(\"Feature ranking:\")\n",
    "\n",
    "for f in range(X.shape[1]):\n",
    "    print(\"%d. feature %d (%f)\" % (f + 1, indices[f], importances[indices[f]]))\n",
    "\n",
    "# Plot the feature importances of the forest\n",
    "plt.figure()\n",
    "plt.title(\"Feature importances\")\n",
    "plt.bar(range(X.shape[1]), importances[indices],\n",
    "       color=\"r\", yerr=std[indices], align=\"center\")\n",
    "plt.xticks(range(X.shape[1]), indices)\n",
    "plt.xlim([-1, X.shape[1]])\n",
    "plt.show()"
   ]
  },
  {
   "cell_type": "markdown",
   "metadata": {},
   "source": [
    "# Building a Logistic Regression Model"
   ]
  },
  {
   "cell_type": "code",
   "execution_count": 87,
   "metadata": {},
   "outputs": [],
   "source": [
    "from sklearn.metrics import classification_report,confusion_matrix"
   ]
  },
  {
   "cell_type": "code",
   "execution_count": 88,
   "metadata": {},
   "outputs": [],
   "source": [
    "Logreg_m = LogisticRegression() # Instantiating the algorithm"
   ]
  },
  {
   "cell_type": "code",
   "execution_count": 89,
   "metadata": {},
   "outputs": [
    {
     "data": {
      "text/plain": [
       "LogisticRegression(C=1.0, class_weight=None, dual=False, fit_intercept=True,\n",
       "          intercept_scaling=1, max_iter=100, multi_class='ovr', n_jobs=1,\n",
       "          penalty='l2', random_state=None, solver='liblinear', tol=0.0001,\n",
       "          verbose=0, warm_start=False)"
      ]
     },
     "execution_count": 89,
     "metadata": {},
     "output_type": "execute_result"
    }
   ],
   "source": [
    "Logreg_m.fit(X_train,y_train)# Training the model"
   ]
  },
  {
   "cell_type": "code",
   "execution_count": 90,
   "metadata": {},
   "outputs": [],
   "source": [
    "Logreg_m_pred=Logreg_m.predict(X_test) # Predicting the test sets data  (X_test) without the dependent variable-TARGET_B"
   ]
  },
  {
   "cell_type": "code",
   "execution_count": 91,
   "metadata": {},
   "outputs": [
    {
     "data": {
      "text/plain": [
       "array([0, 0, 0, ..., 0, 0, 0], dtype=int64)"
      ]
     },
     "execution_count": 91,
     "metadata": {},
     "output_type": "execute_result"
    }
   ],
   "source": [
    "Logreg_m_pred # Show predicted values"
   ]
  },
  {
   "cell_type": "code",
   "execution_count": 92,
   "metadata": {},
   "outputs": [],
   "source": [
    "# determine accuracy score by comparing actual(y_test) and predicted (Logreg_m_pred)\n",
    "LogReg_Score = accuracy_score(y_test, Logreg_m_pred)"
   ]
  },
  {
   "cell_type": "code",
   "execution_count": 93,
   "metadata": {},
   "outputs": [
    {
     "data": {
      "text/plain": [
       "0.7520725793837009"
      ]
     },
     "execution_count": 93,
     "metadata": {},
     "output_type": "execute_result"
    }
   ],
   "source": [
    "LogReg_Score"
   ]
  },
  {
   "cell_type": "code",
   "execution_count": 94,
   "metadata": {},
   "outputs": [
    {
     "name": "stdout",
     "output_type": "stream",
     "text": [
      "             precision    recall  f1-score   support\n",
      "\n",
      "          0       0.75      1.00      0.86      4796\n",
      "          1       0.67      0.02      0.03      1597\n",
      "\n",
      "avg / total       0.73      0.75      0.65      6393\n",
      "\n"
     ]
    }
   ],
   "source": [
    "print(classification_report(y_test,Logreg_m_pred))"
   ]
  },
  {
   "cell_type": "code",
   "execution_count": 95,
   "metadata": {},
   "outputs": [
    {
     "name": "stdout",
     "output_type": "stream",
     "text": [
      "[[4784   12]\n",
      " [1573   24]]\n"
     ]
    }
   ],
   "source": [
    "print(confusion_matrix(y_test,Logreg_m_pred))"
   ]
  },
  {
   "cell_type": "markdown",
   "metadata": {},
   "source": [
    "# KNeighbors "
   ]
  },
  {
   "cell_type": "code",
   "execution_count": 96,
   "metadata": {},
   "outputs": [],
   "source": [
    "KNN = KNeighborsClassifier(n_neighbors= 5) # instantiating the algorithm"
   ]
  },
  {
   "cell_type": "code",
   "execution_count": 97,
   "metadata": {},
   "outputs": [
    {
     "data": {
      "text/plain": [
       "KNeighborsClassifier(algorithm='auto', leaf_size=30, metric='minkowski',\n",
       "           metric_params=None, n_jobs=1, n_neighbors=5, p=2,\n",
       "           weights='uniform')"
      ]
     },
     "execution_count": 97,
     "metadata": {},
     "output_type": "execute_result"
    }
   ],
   "source": [
    "KNN.fit(X_train, y_train)"
   ]
  },
  {
   "cell_type": "code",
   "execution_count": 98,
   "metadata": {},
   "outputs": [],
   "source": [
    "KNN_pred = KNN.predict(X_test)"
   ]
  },
  {
   "cell_type": "code",
   "execution_count": 99,
   "metadata": {},
   "outputs": [
    {
     "data": {
      "text/plain": [
       "array([0, 0, 1, ..., 0, 0, 0], dtype=int64)"
      ]
     },
     "execution_count": 99,
     "metadata": {},
     "output_type": "execute_result"
    }
   ],
   "source": [
    "KNN_pred"
   ]
  },
  {
   "cell_type": "code",
   "execution_count": 100,
   "metadata": {},
   "outputs": [],
   "source": [
    "from sklearn.metrics import confusion_matrix,classification_report"
   ]
  },
  {
   "cell_type": "code",
   "execution_count": 101,
   "metadata": {},
   "outputs": [],
   "source": [
    "# determine accuracy score by comparing actual(y_test) and predicted (Logreg_m_pred)\n",
    "KNN_score = accuracy_score(y_test, KNN_pred)"
   ]
  },
  {
   "cell_type": "code",
   "execution_count": 102,
   "metadata": {},
   "outputs": [
    {
     "data": {
      "text/plain": [
       "0.7043641482871891"
      ]
     },
     "execution_count": 102,
     "metadata": {},
     "output_type": "execute_result"
    }
   ],
   "source": [
    "KNN_score"
   ]
  },
  {
   "cell_type": "code",
   "execution_count": 103,
   "metadata": {},
   "outputs": [
    {
     "name": "stdout",
     "output_type": "stream",
     "text": [
      "             precision    recall  f1-score   support\n",
      "\n",
      "          0       0.75      0.90      0.82      4796\n",
      "          1       0.28      0.11      0.16      1597\n",
      "\n",
      "avg / total       0.63      0.70      0.66      6393\n",
      "\n"
     ]
    }
   ],
   "source": [
    "print(classification_report(y_test,KNN_pred))"
   ]
  },
  {
   "cell_type": "code",
   "execution_count": 104,
   "metadata": {},
   "outputs": [
    {
     "name": "stdout",
     "output_type": "stream",
     "text": [
      "[[4323  473]\n",
      " [1417  180]]\n"
     ]
    }
   ],
   "source": [
    "print(confusion_matrix(y_test,KNN_pred))"
   ]
  },
  {
   "cell_type": "markdown",
   "metadata": {},
   "source": [
    "# Build Support Vector Machine"
   ]
  },
  {
   "cell_type": "code",
   "execution_count": 105,
   "metadata": {},
   "outputs": [],
   "source": [
    "model=SVC()"
   ]
  },
  {
   "cell_type": "code",
   "execution_count": 106,
   "metadata": {},
   "outputs": [
    {
     "data": {
      "text/plain": [
       "SVC(C=1.0, cache_size=200, class_weight=None, coef0=0.0,\n",
       "  decision_function_shape='ovr', degree=3, gamma='auto', kernel='rbf',\n",
       "  max_iter=-1, probability=False, random_state=None, shrinking=True,\n",
       "  tol=0.001, verbose=False)"
      ]
     },
     "execution_count": 106,
     "metadata": {},
     "output_type": "execute_result"
    }
   ],
   "source": [
    "model.fit(X_train,y_train)"
   ]
  },
  {
   "cell_type": "code",
   "execution_count": 107,
   "metadata": {},
   "outputs": [],
   "source": [
    "SVC_pred=model.predict(X_test)"
   ]
  },
  {
   "cell_type": "code",
   "execution_count": 108,
   "metadata": {},
   "outputs": [
    {
     "data": {
      "text/plain": [
       "array([0, 0, 0, ..., 0, 0, 0], dtype=int64)"
      ]
     },
     "execution_count": 108,
     "metadata": {},
     "output_type": "execute_result"
    }
   ],
   "source": [
    "SVC_pred"
   ]
  },
  {
   "cell_type": "code",
   "execution_count": 109,
   "metadata": {},
   "outputs": [
    {
     "data": {
      "text/plain": [
       "0.750195526356953"
      ]
     },
     "execution_count": 109,
     "metadata": {},
     "output_type": "execute_result"
    }
   ],
   "source": [
    "SVC_score = accuracy_score(y_test, SVC_pred)\n",
    "SVC_score"
   ]
  },
  {
   "cell_type": "code",
   "execution_count": 110,
   "metadata": {},
   "outputs": [
    {
     "name": "stdout",
     "output_type": "stream",
     "text": [
      "             precision    recall  f1-score   support\n",
      "\n",
      "          0       0.75      1.00      0.86      4796\n",
      "          1       0.00      0.00      0.00      1597\n",
      "\n",
      "avg / total       0.56      0.75      0.64      6393\n",
      "\n"
     ]
    },
    {
     "name": "stderr",
     "output_type": "stream",
     "text": [
      "C:\\ProgramData\\Anaconda3\\lib\\site-packages\\sklearn\\metrics\\classification.py:1135: UndefinedMetricWarning: Precision and F-score are ill-defined and being set to 0.0 in labels with no predicted samples.\n",
      "  'precision', 'predicted', average, warn_for)\n"
     ]
    }
   ],
   "source": [
    "print(classification_report(y_test,SVC_pred))"
   ]
  },
  {
   "cell_type": "code",
   "execution_count": 111,
   "metadata": {},
   "outputs": [],
   "source": [
    "param_grid = {'C': [0.1,1, 10, 100, 1000], 'gamma': [1,0.1,0.01,0.001,0.0001], 'kernel': ['rbf']} "
   ]
  },
  {
   "cell_type": "code",
   "execution_count": 112,
   "metadata": {},
   "outputs": [],
   "source": [
    "from sklearn.model_selection import GridSearchCV"
   ]
  },
  {
   "cell_type": "code",
   "execution_count": 113,
   "metadata": {},
   "outputs": [],
   "source": [
    "grid = GridSearchCV(SVC(),param_grid,refit=True,verbose=3)"
   ]
  },
  {
   "cell_type": "code",
   "execution_count": 114,
   "metadata": {},
   "outputs": [
    {
     "name": "stdout",
     "output_type": "stream",
     "text": [
      "Fitting 3 folds for each of 25 candidates, totalling 75 fits\n",
      "[CV] C=0.1, gamma=1, kernel=rbf ......................................\n",
      "[CV]  C=0.1, gamma=1, kernel=rbf, score=0.7499422232493644, total=  28.9s\n",
      "[CV] C=0.1, gamma=1, kernel=rbf ......................................\n"
     ]
    },
    {
     "name": "stderr",
     "output_type": "stream",
     "text": [
      "[Parallel(n_jobs=1)]: Done   1 out of   1 | elapsed:   41.5s remaining:    0.0s\n"
     ]
    },
    {
     "name": "stdout",
     "output_type": "stream",
     "text": [
      "[CV]  C=0.1, gamma=1, kernel=rbf, score=0.7498844197873324, total=  28.8s\n",
      "[CV] C=0.1, gamma=1, kernel=rbf ......................................\n"
     ]
    },
    {
     "name": "stderr",
     "output_type": "stream",
     "text": [
      "[Parallel(n_jobs=1)]: Done   2 out of   2 | elapsed:  1.4min remaining:    0.0s\n"
     ]
    },
    {
     "name": "stdout",
     "output_type": "stream",
     "text": [
      "[CV]  C=0.1, gamma=1, kernel=rbf, score=0.7498844197873324, total=  28.9s\n",
      "[CV] C=0.1, gamma=0.1, kernel=rbf ....................................\n",
      "[CV]  C=0.1, gamma=0.1, kernel=rbf, score=0.7499422232493644, total=  29.3s\n",
      "[CV] C=0.1, gamma=0.1, kernel=rbf ....................................\n",
      "[CV]  C=0.1, gamma=0.1, kernel=rbf, score=0.7498844197873324, total=  29.0s\n",
      "[CV] C=0.1, gamma=0.1, kernel=rbf ....................................\n",
      "[CV]  C=0.1, gamma=0.1, kernel=rbf, score=0.7498844197873324, total=  29.3s\n",
      "[CV] C=0.1, gamma=0.01, kernel=rbf ...................................\n",
      "[CV]  C=0.1, gamma=0.01, kernel=rbf, score=0.7499422232493644, total=  31.6s\n",
      "[CV] C=0.1, gamma=0.01, kernel=rbf ...................................\n",
      "[CV]  C=0.1, gamma=0.01, kernel=rbf, score=0.7498844197873324, total=  31.6s\n",
      "[CV] C=0.1, gamma=0.01, kernel=rbf ...................................\n",
      "[CV]  C=0.1, gamma=0.01, kernel=rbf, score=0.7498844197873324, total=  31.4s\n",
      "[CV] C=0.1, gamma=0.001, kernel=rbf ..................................\n",
      "[CV]  C=0.1, gamma=0.001, kernel=rbf, score=0.7499422232493644, total=  29.0s\n",
      "[CV] C=0.1, gamma=0.001, kernel=rbf ..................................\n",
      "[CV]  C=0.1, gamma=0.001, kernel=rbf, score=0.7498844197873324, total=  28.5s\n",
      "[CV] C=0.1, gamma=0.001, kernel=rbf ..................................\n",
      "[CV]  C=0.1, gamma=0.001, kernel=rbf, score=0.7498844197873324, total=  29.1s\n",
      "[CV] C=0.1, gamma=0.0001, kernel=rbf .................................\n",
      "[CV]  C=0.1, gamma=0.0001, kernel=rbf, score=0.7499422232493644, total=  17.0s\n",
      "[CV] C=0.1, gamma=0.0001, kernel=rbf .................................\n",
      "[CV]  C=0.1, gamma=0.0001, kernel=rbf, score=0.7498844197873324, total=  20.4s\n",
      "[CV] C=0.1, gamma=0.0001, kernel=rbf .................................\n",
      "[CV]  C=0.1, gamma=0.0001, kernel=rbf, score=0.7498844197873324, total=  20.9s\n",
      "[CV] C=1, gamma=1, kernel=rbf ........................................\n",
      "[CV]  C=1, gamma=1, kernel=rbf, score=0.7499422232493644, total=  31.5s\n",
      "[CV] C=1, gamma=1, kernel=rbf ........................................\n",
      "[CV]  C=1, gamma=1, kernel=rbf, score=0.7498844197873324, total=  31.6s\n",
      "[CV] C=1, gamma=1, kernel=rbf ........................................\n",
      "[CV]  C=1, gamma=1, kernel=rbf, score=0.7498844197873324, total=  31.3s\n",
      "[CV] C=1, gamma=0.1, kernel=rbf ......................................\n",
      "[CV]  C=1, gamma=0.1, kernel=rbf, score=0.7499422232493644, total=  31.9s\n",
      "[CV] C=1, gamma=0.1, kernel=rbf ......................................\n",
      "[CV]  C=1, gamma=0.1, kernel=rbf, score=0.7498844197873324, total=  31.7s\n",
      "[CV] C=1, gamma=0.1, kernel=rbf ......................................\n",
      "[CV]  C=1, gamma=0.1, kernel=rbf, score=0.7498844197873324, total=  31.6s\n",
      "[CV] C=1, gamma=0.01, kernel=rbf .....................................\n",
      "[CV]  C=1, gamma=0.01, kernel=rbf, score=0.7497111162468223, total=  33.1s\n",
      "[CV] C=1, gamma=0.01, kernel=rbf .....................................\n",
      "[CV]  C=1, gamma=0.01, kernel=rbf, score=0.7498844197873324, total=  33.1s\n",
      "[CV] C=1, gamma=0.01, kernel=rbf .....................................\n",
      "[CV]  C=1, gamma=0.01, kernel=rbf, score=0.7498844197873324, total=  33.1s\n",
      "[CV] C=1, gamma=0.001, kernel=rbf ....................................\n",
      "[CV]  C=1, gamma=0.001, kernel=rbf, score=0.7487866882366536, total=  25.7s\n",
      "[CV] C=1, gamma=0.001, kernel=rbf ....................................\n",
      "[CV]  C=1, gamma=0.001, kernel=rbf, score=0.7487286176606565, total=  25.6s\n",
      "[CV] C=1, gamma=0.001, kernel=rbf ....................................\n",
      "[CV]  C=1, gamma=0.001, kernel=rbf, score=0.7484974572353214, total=  25.7s\n",
      "[CV] C=1, gamma=0.0001, kernel=rbf ...................................\n",
      "[CV]  C=1, gamma=0.0001, kernel=rbf, score=0.7383868731222556, total=  17.5s\n",
      "[CV] C=1, gamma=0.0001, kernel=rbf ...................................\n",
      "[CV]  C=1, gamma=0.0001, kernel=rbf, score=0.7369394359685622, total=  22.6s\n",
      "[CV] C=1, gamma=0.0001, kernel=rbf ...................................\n",
      "[CV]  C=1, gamma=0.0001, kernel=rbf, score=0.7380952380952381, total=  22.3s\n",
      "[CV] C=10, gamma=1, kernel=rbf .......................................\n",
      "[CV]  C=10, gamma=1, kernel=rbf, score=0.7499422232493644, total=  27.7s\n",
      "[CV] C=10, gamma=1, kernel=rbf .......................................\n",
      "[CV]  C=10, gamma=1, kernel=rbf, score=0.7498844197873324, total=  26.1s\n",
      "[CV] C=10, gamma=1, kernel=rbf .......................................\n",
      "[CV]  C=10, gamma=1, kernel=rbf, score=0.7498844197873324, total=  16.8s\n",
      "[CV] C=10, gamma=0.1, kernel=rbf .....................................\n",
      "[CV]  C=10, gamma=0.1, kernel=rbf, score=0.7499422232493644, total=  15.3s\n",
      "[CV] C=10, gamma=0.1, kernel=rbf .....................................\n",
      "[CV]  C=10, gamma=0.1, kernel=rbf, score=0.7496532593619972, total=  15.2s\n",
      "[CV] C=10, gamma=0.1, kernel=rbf .....................................\n",
      "[CV]  C=10, gamma=0.1, kernel=rbf, score=0.7498844197873324, total=  14.7s\n",
      "[CV] C=10, gamma=0.01, kernel=rbf ....................................\n",
      "[CV]  C=10, gamma=0.01, kernel=rbf, score=0.7497111162468223, total=  28.6s\n",
      "[CV] C=10, gamma=0.01, kernel=rbf ....................................\n",
      "[CV]  C=10, gamma=0.01, kernel=rbf, score=0.7496532593619972, total=  27.8s\n",
      "[CV] C=10, gamma=0.01, kernel=rbf ....................................\n",
      "[CV]  C=10, gamma=0.01, kernel=rbf, score=0.7498844197873324, total=  28.9s\n",
      "[CV] C=10, gamma=0.001, kernel=rbf ...................................\n",
      "[CV]  C=10, gamma=0.001, kernel=rbf, score=0.7416223711578461, total=  35.8s\n",
      "[CV] C=10, gamma=0.001, kernel=rbf ...................................\n",
      "[CV]  C=10, gamma=0.001, kernel=rbf, score=0.7383263985205732, total=  36.8s\n",
      "[CV] C=10, gamma=0.001, kernel=rbf ...................................\n",
      "[CV]  C=10, gamma=0.001, kernel=rbf, score=0.7411003236245954, total=  37.2s\n",
      "[CV] C=10, gamma=0.0001, kernel=rbf ..................................\n",
      "[CV]  C=10, gamma=0.0001, kernel=rbf, score=0.678992373468916, total=  26.3s\n",
      "[CV] C=10, gamma=0.0001, kernel=rbf ..................................\n",
      "[CV]  C=10, gamma=0.0001, kernel=rbf, score=0.6756819232547387, total=  27.0s\n",
      "[CV] C=10, gamma=0.0001, kernel=rbf ..................................\n",
      "[CV]  C=10, gamma=0.0001, kernel=rbf, score=0.6805362921867776, total=  26.2s\n",
      "[CV] C=100, gamma=1, kernel=rbf ......................................\n",
      "[CV]  C=100, gamma=1, kernel=rbf, score=0.7499422232493644, total=  27.5s\n",
      "[CV] C=100, gamma=1, kernel=rbf ......................................\n",
      "[CV]  C=100, gamma=1, kernel=rbf, score=0.7498844197873324, total=  26.1s\n",
      "[CV] C=100, gamma=1, kernel=rbf ......................................\n",
      "[CV]  C=100, gamma=1, kernel=rbf, score=0.7498844197873324, total=  27.3s\n",
      "[CV] C=100, gamma=0.1, kernel=rbf ....................................\n",
      "[CV]  C=100, gamma=0.1, kernel=rbf, score=0.7499422232493644, total=  27.9s\n",
      "[CV] C=100, gamma=0.1, kernel=rbf ....................................\n",
      "[CV]  C=100, gamma=0.1, kernel=rbf, score=0.7496532593619972, total=  26.7s\n",
      "[CV] C=100, gamma=0.1, kernel=rbf ....................................\n",
      "[CV]  C=100, gamma=0.1, kernel=rbf, score=0.7498844197873324, total=  27.6s\n",
      "[CV] C=100, gamma=0.01, kernel=rbf ...................................\n",
      "[CV]  C=100, gamma=0.01, kernel=rbf, score=0.7497111162468223, total=  46.9s\n",
      "[CV] C=100, gamma=0.01, kernel=rbf ...................................\n",
      "[CV]  C=100, gamma=0.01, kernel=rbf, score=0.7496532593619972, total=  15.1s\n",
      "[CV] C=100, gamma=0.01, kernel=rbf ...................................\n",
      "[CV]  C=100, gamma=0.01, kernel=rbf, score=0.7498844197873324, total=  15.9s\n",
      "[CV] C=100, gamma=0.001, kernel=rbf ..................................\n",
      "[CV]  C=100, gamma=0.001, kernel=rbf, score=0.7418534781603883, total=  19.5s\n",
      "[CV] C=100, gamma=0.001, kernel=rbf ..................................\n",
      "[CV]  C=100, gamma=0.001, kernel=rbf, score=0.7380952380952381, total=  36.2s\n",
      "[CV] C=100, gamma=0.001, kernel=rbf ..................................\n",
      "[CV]  C=100, gamma=0.001, kernel=rbf, score=0.7408691631992603, total=  36.9s\n",
      "[CV] C=100, gamma=0.0001, kernel=rbf .................................\n",
      "[CV]  C=100, gamma=0.0001, kernel=rbf, score=0.6648948463138433, total=  27.7s\n",
      "[CV] C=100, gamma=0.0001, kernel=rbf .................................\n"
     ]
    },
    {
     "name": "stdout",
     "output_type": "stream",
     "text": [
      "[CV]  C=100, gamma=0.0001, kernel=rbf, score=0.66458622283865, total=  29.3s\n",
      "[CV] C=100, gamma=0.0001, kernel=rbf .................................\n",
      "[CV]  C=100, gamma=0.0001, kernel=rbf, score=0.6664355062413315, total=  28.7s\n",
      "[CV] C=1000, gamma=1, kernel=rbf .....................................\n",
      "[CV]  C=1000, gamma=1, kernel=rbf, score=0.7499422232493644, total=  27.9s\n",
      "[CV] C=1000, gamma=1, kernel=rbf .....................................\n",
      "[CV]  C=1000, gamma=1, kernel=rbf, score=0.7498844197873324, total=  26.0s\n",
      "[CV] C=1000, gamma=1, kernel=rbf .....................................\n",
      "[CV]  C=1000, gamma=1, kernel=rbf, score=0.7498844197873324, total=  27.6s\n",
      "[CV] C=1000, gamma=0.1, kernel=rbf ...................................\n",
      "[CV]  C=1000, gamma=0.1, kernel=rbf, score=0.7499422232493644, total=  27.8s\n",
      "[CV] C=1000, gamma=0.1, kernel=rbf ...................................\n",
      "[CV]  C=1000, gamma=0.1, kernel=rbf, score=0.7496532593619972, total=  26.4s\n",
      "[CV] C=1000, gamma=0.1, kernel=rbf ...................................\n",
      "[CV]  C=1000, gamma=0.1, kernel=rbf, score=0.7498844197873324, total=  27.9s\n",
      "[CV] C=1000, gamma=0.01, kernel=rbf ..................................\n",
      "[CV]  C=1000, gamma=0.01, kernel=rbf, score=0.7497111162468223, total=  31.3s\n",
      "[CV] C=1000, gamma=0.01, kernel=rbf ..................................\n",
      "[CV]  C=1000, gamma=0.01, kernel=rbf, score=0.7496532593619972, total=  27.9s\n",
      "[CV] C=1000, gamma=0.01, kernel=rbf ..................................\n",
      "[CV]  C=1000, gamma=0.01, kernel=rbf, score=0.7498844197873324, total=  28.8s\n",
      "[CV] C=1000, gamma=0.001, kernel=rbf .................................\n",
      "[CV]  C=1000, gamma=0.001, kernel=rbf, score=0.7418534781603883, total=  34.5s\n",
      "[CV] C=1000, gamma=0.001, kernel=rbf .................................\n",
      "[CV]  C=1000, gamma=0.001, kernel=rbf, score=0.7380952380952381, total=  22.5s\n",
      "[CV] C=1000, gamma=0.001, kernel=rbf .................................\n",
      "[CV]  C=1000, gamma=0.001, kernel=rbf, score=0.7408691631992603, total=  21.9s\n",
      "[CV] C=1000, gamma=0.0001, kernel=rbf ................................\n",
      "[CV]  C=1000, gamma=0.0001, kernel=rbf, score=0.6625837762884216, total=  25.9s\n",
      "[CV] C=1000, gamma=0.0001, kernel=rbf ................................\n",
      "[CV]  C=1000, gamma=0.0001, kernel=rbf, score=0.6662043458159963, total=  30.5s\n",
      "[CV] C=1000, gamma=0.0001, kernel=rbf ................................\n",
      "[CV]  C=1000, gamma=0.0001, kernel=rbf, score=0.6659731853906611, total=  29.1s\n"
     ]
    },
    {
     "name": "stderr",
     "output_type": "stream",
     "text": [
      "[Parallel(n_jobs=1)]: Done  75 out of  75 | elapsed: 75.9min finished\n"
     ]
    },
    {
     "data": {
      "text/plain": [
       "GridSearchCV(cv=None, error_score='raise',\n",
       "       estimator=SVC(C=1.0, cache_size=200, class_weight=None, coef0=0.0,\n",
       "  decision_function_shape='ovr', degree=3, gamma='auto', kernel='rbf',\n",
       "  max_iter=-1, probability=False, random_state=None, shrinking=True,\n",
       "  tol=0.001, verbose=False),\n",
       "       fit_params=None, iid=True, n_jobs=1,\n",
       "       param_grid={'C': [0.1, 1, 10, 100, 1000], 'gamma': [1, 0.1, 0.01, 0.001, 0.0001], 'kernel': ['rbf']},\n",
       "       pre_dispatch='2*n_jobs', refit=True, return_train_score='warn',\n",
       "       scoring=None, verbose=3)"
      ]
     },
     "execution_count": 114,
     "metadata": {},
     "output_type": "execute_result"
    }
   ],
   "source": [
    "grid.fit(X_train,y_train)"
   ]
  },
  {
   "cell_type": "code",
   "execution_count": 115,
   "metadata": {},
   "outputs": [
    {
     "data": {
      "text/plain": [
       "{'C': 0.1, 'gamma': 1, 'kernel': 'rbf'}"
      ]
     },
     "execution_count": 115,
     "metadata": {},
     "output_type": "execute_result"
    }
   ],
   "source": [
    "grid.best_params_"
   ]
  },
  {
   "cell_type": "code",
   "execution_count": 116,
   "metadata": {},
   "outputs": [
    {
     "data": {
      "text/plain": [
       "SVC(C=0.1, cache_size=200, class_weight=None, coef0=0.0,\n",
       "  decision_function_shape='ovr', degree=3, gamma=1, kernel='rbf',\n",
       "  max_iter=-1, probability=False, random_state=None, shrinking=True,\n",
       "  tol=0.001, verbose=False)"
      ]
     },
     "execution_count": 116,
     "metadata": {},
     "output_type": "execute_result"
    }
   ],
   "source": [
    "grid.best_estimator_"
   ]
  },
  {
   "cell_type": "code",
   "execution_count": 117,
   "metadata": {},
   "outputs": [],
   "source": [
    "grid_predictions = grid.predict(X_test)"
   ]
  },
  {
   "cell_type": "code",
   "execution_count": 118,
   "metadata": {},
   "outputs": [
    {
     "data": {
      "text/plain": [
       "array([0, 0, 0, ..., 0, 0, 0], dtype=int64)"
      ]
     },
     "execution_count": 118,
     "metadata": {},
     "output_type": "execute_result"
    }
   ],
   "source": [
    "grid_predictions"
   ]
  },
  {
   "cell_type": "code",
   "execution_count": 119,
   "metadata": {},
   "outputs": [
    {
     "name": "stdout",
     "output_type": "stream",
     "text": [
      "             precision    recall  f1-score   support\n",
      "\n",
      "          0       0.75      1.00      0.86      4796\n",
      "          1       0.00      0.00      0.00      1597\n",
      "\n",
      "avg / total       0.56      0.75      0.64      6393\n",
      "\n"
     ]
    },
    {
     "name": "stderr",
     "output_type": "stream",
     "text": [
      "C:\\ProgramData\\Anaconda3\\lib\\site-packages\\sklearn\\metrics\\classification.py:1135: UndefinedMetricWarning: Precision and F-score are ill-defined and being set to 0.0 in labels with no predicted samples.\n",
      "  'precision', 'predicted', average, warn_for)\n"
     ]
    }
   ],
   "source": [
    "print(classification_report(y_test,grid_predictions))"
   ]
  },
  {
   "cell_type": "code",
   "execution_count": 120,
   "metadata": {},
   "outputs": [
    {
     "name": "stdout",
     "output_type": "stream",
     "text": [
      "[[4796    0]\n",
      " [1597    0]]\n"
     ]
    }
   ],
   "source": [
    "print(confusion_matrix(y_test,grid_predictions))"
   ]
  },
  {
   "cell_type": "markdown",
   "metadata": {},
   "source": [
    "# Making a finalised model and predict Donors prospects to reach out to"
   ]
  },
  {
   "cell_type": "code",
   "execution_count": 121,
   "metadata": {},
   "outputs": [],
   "source": [
    "X_new = ['MONTHS_SINCE_ORIGIN', 'MEDIAN_HOME_VALUE', 'PER_CAPITA_INCOME', 'PEP_STAR', 'FREQUENCY_STATUS_97NK', 'RECENT_RESPONSE_PROP', 'RECENT_AVG_GIFT_AMT', 'RECENT_CARD_RESPONSE_PROP', 'RECENT_RESPONSE_COUNT', 'RECENT_CARD_RESPONSE_COUNT', 'MONTHS_SINCE_LAST_PROM_RESP', 'LIFETIME_CARD_PROM', 'LIFETIME_PROM', 'LIFETIME_GIFT_AMOUNT', 'LIFETIME_GIFT_COUNT', 'LIFETIME_AVG_GIFT_AMT', 'LIFETIME_MIN_GIFT_AMT', 'LAST_GIFT_AMT', 'MONTHS_SINCE_LAST_GIFT', 'MONTHS_SINCE_FIRST_GIFT', 'FILE_AVG_GIFT', 'FILE_CARD_GIFT', 'RECENCY_STATUS_96NK_A', 'RECENCY_STATUS_96NK_F', 'RECENCY_STATUS_96NK_S']\n",
    "\n",
    "Xnew=Donors_prosp_data_encoded[X_new]\n",
    "#Xnew=Donors_prosp_data_encoded[chosen_cols]"
   ]
  },
  {
   "cell_type": "code",
   "execution_count": 122,
   "metadata": {},
   "outputs": [
    {
     "data": {
      "text/html": [
       "<div>\n",
       "<style scoped>\n",
       "    .dataframe tbody tr th:only-of-type {\n",
       "        vertical-align: middle;\n",
       "    }\n",
       "\n",
       "    .dataframe tbody tr th {\n",
       "        vertical-align: top;\n",
       "    }\n",
       "\n",
       "    .dataframe thead th {\n",
       "        text-align: right;\n",
       "    }\n",
       "</style>\n",
       "<table border=\"1\" class=\"dataframe\">\n",
       "  <thead>\n",
       "    <tr style=\"text-align: right;\">\n",
       "      <th></th>\n",
       "      <th>MONTHS_SINCE_ORIGIN</th>\n",
       "      <th>MEDIAN_HOME_VALUE</th>\n",
       "      <th>PER_CAPITA_INCOME</th>\n",
       "      <th>PEP_STAR</th>\n",
       "      <th>FREQUENCY_STATUS_97NK</th>\n",
       "      <th>RECENT_RESPONSE_PROP</th>\n",
       "      <th>RECENT_AVG_GIFT_AMT</th>\n",
       "      <th>RECENT_CARD_RESPONSE_PROP</th>\n",
       "      <th>RECENT_RESPONSE_COUNT</th>\n",
       "      <th>RECENT_CARD_RESPONSE_COUNT</th>\n",
       "      <th>...</th>\n",
       "      <th>LIFETIME_AVG_GIFT_AMT</th>\n",
       "      <th>LIFETIME_MIN_GIFT_AMT</th>\n",
       "      <th>LAST_GIFT_AMT</th>\n",
       "      <th>MONTHS_SINCE_LAST_GIFT</th>\n",
       "      <th>MONTHS_SINCE_FIRST_GIFT</th>\n",
       "      <th>FILE_AVG_GIFT</th>\n",
       "      <th>FILE_CARD_GIFT</th>\n",
       "      <th>RECENCY_STATUS_96NK_A</th>\n",
       "      <th>RECENCY_STATUS_96NK_F</th>\n",
       "      <th>RECENCY_STATUS_96NK_S</th>\n",
       "    </tr>\n",
       "  </thead>\n",
       "  <tbody>\n",
       "    <tr>\n",
       "      <th>0</th>\n",
       "      <td>101</td>\n",
       "      <td>655</td>\n",
       "      <td>12671</td>\n",
       "      <td>0</td>\n",
       "      <td>1</td>\n",
       "      <td>0.071</td>\n",
       "      <td>21.00</td>\n",
       "      <td>0.000</td>\n",
       "      <td>1</td>\n",
       "      <td>0</td>\n",
       "      <td>...</td>\n",
       "      <td>14.71</td>\n",
       "      <td>5.0</td>\n",
       "      <td>21.0</td>\n",
       "      <td>26</td>\n",
       "      <td>90</td>\n",
       "      <td>14.71</td>\n",
       "      <td>2</td>\n",
       "      <td>1</td>\n",
       "      <td>0</td>\n",
       "      <td>0</td>\n",
       "    </tr>\n",
       "    <tr>\n",
       "      <th>1</th>\n",
       "      <td>137</td>\n",
       "      <td>475</td>\n",
       "      <td>10221</td>\n",
       "      <td>1</td>\n",
       "      <td>2</td>\n",
       "      <td>0.350</td>\n",
       "      <td>10.00</td>\n",
       "      <td>0.500</td>\n",
       "      <td>7</td>\n",
       "      <td>5</td>\n",
       "      <td>...</td>\n",
       "      <td>6.00</td>\n",
       "      <td>2.0</td>\n",
       "      <td>10.0</td>\n",
       "      <td>22</td>\n",
       "      <td>129</td>\n",
       "      <td>6.00</td>\n",
       "      <td>14</td>\n",
       "      <td>0</td>\n",
       "      <td>0</td>\n",
       "      <td>1</td>\n",
       "    </tr>\n",
       "    <tr>\n",
       "      <th>2</th>\n",
       "      <td>17</td>\n",
       "      <td>1117</td>\n",
       "      <td>18212</td>\n",
       "      <td>0</td>\n",
       "      <td>1</td>\n",
       "      <td>0.077</td>\n",
       "      <td>20.00</td>\n",
       "      <td>0.200</td>\n",
       "      <td>1</td>\n",
       "      <td>1</td>\n",
       "      <td>...</td>\n",
       "      <td>8.44</td>\n",
       "      <td>5.0</td>\n",
       "      <td>20.0</td>\n",
       "      <td>20</td>\n",
       "      <td>87</td>\n",
       "      <td>8.44</td>\n",
       "      <td>1</td>\n",
       "      <td>0</td>\n",
       "      <td>1</td>\n",
       "      <td>0</td>\n",
       "    </tr>\n",
       "    <tr>\n",
       "      <th>3</th>\n",
       "      <td>137</td>\n",
       "      <td>2257</td>\n",
       "      <td>17885</td>\n",
       "      <td>1</td>\n",
       "      <td>1</td>\n",
       "      <td>0.333</td>\n",
       "      <td>8.83</td>\n",
       "      <td>0.444</td>\n",
       "      <td>6</td>\n",
       "      <td>4</td>\n",
       "      <td>...</td>\n",
       "      <td>6.50</td>\n",
       "      <td>5.0</td>\n",
       "      <td>10.0</td>\n",
       "      <td>19</td>\n",
       "      <td>129</td>\n",
       "      <td>6.50</td>\n",
       "      <td>22</td>\n",
       "      <td>1</td>\n",
       "      <td>0</td>\n",
       "      <td>0</td>\n",
       "    </tr>\n",
       "    <tr>\n",
       "      <th>4</th>\n",
       "      <td>5</td>\n",
       "      <td>789</td>\n",
       "      <td>14123</td>\n",
       "      <td>0</td>\n",
       "      <td>3</td>\n",
       "      <td>0.278</td>\n",
       "      <td>5.40</td>\n",
       "      <td>0.222</td>\n",
       "      <td>5</td>\n",
       "      <td>2</td>\n",
       "      <td>...</td>\n",
       "      <td>5.83</td>\n",
       "      <td>3.0</td>\n",
       "      <td>5.0</td>\n",
       "      <td>18</td>\n",
       "      <td>85</td>\n",
       "      <td>5.83</td>\n",
       "      <td>2</td>\n",
       "      <td>1</td>\n",
       "      <td>0</td>\n",
       "      <td>0</td>\n",
       "    </tr>\n",
       "  </tbody>\n",
       "</table>\n",
       "<p>5 rows × 25 columns</p>\n",
       "</div>"
      ],
      "text/plain": [
       "   MONTHS_SINCE_ORIGIN  MEDIAN_HOME_VALUE  PER_CAPITA_INCOME  PEP_STAR  \\\n",
       "0                  101                655              12671         0   \n",
       "1                  137                475              10221         1   \n",
       "2                   17               1117              18212         0   \n",
       "3                  137               2257              17885         1   \n",
       "4                    5                789              14123         0   \n",
       "\n",
       "   FREQUENCY_STATUS_97NK  RECENT_RESPONSE_PROP  RECENT_AVG_GIFT_AMT  \\\n",
       "0                      1                 0.071                21.00   \n",
       "1                      2                 0.350                10.00   \n",
       "2                      1                 0.077                20.00   \n",
       "3                      1                 0.333                 8.83   \n",
       "4                      3                 0.278                 5.40   \n",
       "\n",
       "   RECENT_CARD_RESPONSE_PROP  RECENT_RESPONSE_COUNT  \\\n",
       "0                      0.000                      1   \n",
       "1                      0.500                      7   \n",
       "2                      0.200                      1   \n",
       "3                      0.444                      6   \n",
       "4                      0.222                      5   \n",
       "\n",
       "   RECENT_CARD_RESPONSE_COUNT          ...            LIFETIME_AVG_GIFT_AMT  \\\n",
       "0                           0          ...                            14.71   \n",
       "1                           5          ...                             6.00   \n",
       "2                           1          ...                             8.44   \n",
       "3                           4          ...                             6.50   \n",
       "4                           2          ...                             5.83   \n",
       "\n",
       "   LIFETIME_MIN_GIFT_AMT  LAST_GIFT_AMT  MONTHS_SINCE_LAST_GIFT  \\\n",
       "0                    5.0           21.0                      26   \n",
       "1                    2.0           10.0                      22   \n",
       "2                    5.0           20.0                      20   \n",
       "3                    5.0           10.0                      19   \n",
       "4                    3.0            5.0                      18   \n",
       "\n",
       "   MONTHS_SINCE_FIRST_GIFT  FILE_AVG_GIFT  FILE_CARD_GIFT  \\\n",
       "0                       90          14.71               2   \n",
       "1                      129           6.00              14   \n",
       "2                       87           8.44               1   \n",
       "3                      129           6.50              22   \n",
       "4                       85           5.83               2   \n",
       "\n",
       "   RECENCY_STATUS_96NK_A  RECENCY_STATUS_96NK_F  RECENCY_STATUS_96NK_S  \n",
       "0                      1                      0                      0  \n",
       "1                      0                      0                      1  \n",
       "2                      0                      1                      0  \n",
       "3                      1                      0                      0  \n",
       "4                      1                      0                      0  \n",
       "\n",
       "[5 rows x 25 columns]"
      ]
     },
     "execution_count": 122,
     "metadata": {},
     "output_type": "execute_result"
    }
   ],
   "source": [
    "Xnew.head()"
   ]
  },
  {
   "cell_type": "code",
   "execution_count": 123,
   "metadata": {},
   "outputs": [],
   "source": [
    "RandFor_Pred = randForest.predict(Xnew)"
   ]
  },
  {
   "cell_type": "code",
   "execution_count": 124,
   "metadata": {},
   "outputs": [],
   "source": [
    "rand_p=pd.DataFrame(RandFor_Pred, columns=['Predicted Outcome'])"
   ]
  },
  {
   "cell_type": "code",
   "execution_count": 125,
   "metadata": {},
   "outputs": [
    {
     "data": {
      "text/html": [
       "<div>\n",
       "<style scoped>\n",
       "    .dataframe tbody tr th:only-of-type {\n",
       "        vertical-align: middle;\n",
       "    }\n",
       "\n",
       "    .dataframe tbody tr th {\n",
       "        vertical-align: top;\n",
       "    }\n",
       "\n",
       "    .dataframe thead th {\n",
       "        text-align: right;\n",
       "    }\n",
       "</style>\n",
       "<table border=\"1\" class=\"dataframe\">\n",
       "  <thead>\n",
       "    <tr style=\"text-align: right;\">\n",
       "      <th></th>\n",
       "      <th>Predicted Outcome</th>\n",
       "    </tr>\n",
       "  </thead>\n",
       "  <tbody>\n",
       "    <tr>\n",
       "      <th>0</th>\n",
       "      <td>0</td>\n",
       "    </tr>\n",
       "    <tr>\n",
       "      <th>1</th>\n",
       "      <td>0</td>\n",
       "    </tr>\n",
       "    <tr>\n",
       "      <th>2</th>\n",
       "      <td>0</td>\n",
       "    </tr>\n",
       "    <tr>\n",
       "      <th>3</th>\n",
       "      <td>1</td>\n",
       "    </tr>\n",
       "    <tr>\n",
       "      <th>4</th>\n",
       "      <td>0</td>\n",
       "    </tr>\n",
       "  </tbody>\n",
       "</table>\n",
       "</div>"
      ],
      "text/plain": [
       "   Predicted Outcome\n",
       "0                  0\n",
       "1                  0\n",
       "2                  0\n",
       "3                  1\n",
       "4                  0"
      ]
     },
     "execution_count": 125,
     "metadata": {},
     "output_type": "execute_result"
    }
   ],
   "source": [
    "rand_p.head()"
   ]
  },
  {
   "cell_type": "code",
   "execution_count": 126,
   "metadata": {},
   "outputs": [
    {
     "data": {
      "image/png": "[encoded data removed]",
      "text/plain": [
       "<Figure size 864x432 with 1 Axes>"
      ]
     },
     "metadata": {},
     "output_type": "display_data"
    }
   ],
   "source": [
    "# Visualisation of Proportion of likely donors\n",
    "#sns.countplot(x='labelled', data=rand_p)\n",
    "figure(figsize=(12,6))\n",
    "ax = countplot(data=rand_p,x='Predicted Outcome')\n",
    "ax.set_xticklabels([\"None Likely Donors\",\"Likely Donors\"])\n",
    "show()"
   ]
  },
  {
   "cell_type": "code",
   "execution_count": 127,
   "metadata": {},
   "outputs": [],
   "source": [
    "# Compute Proportion of likely donors in (%)\n",
    "outcome_proportions = rand_p.groupby(['Predicted Outcome'])"
   ]
  },
  {
   "cell_type": "code",
   "execution_count": 128,
   "metadata": {},
   "outputs": [
    {
     "data": {
      "text/plain": [
       "Predicted Outcome\n",
       "0    2130\n",
       "1      18\n",
       "dtype: int64"
      ]
     },
     "execution_count": 128,
     "metadata": {},
     "output_type": "execute_result"
    }
   ],
   "source": [
    "outcome_proportions.size()"
   ]
  },
  {
   "cell_type": "code",
   "execution_count": 129,
   "metadata": {},
   "outputs": [
    {
     "data": {
      "text/plain": [
       "0.7977475363679024"
      ]
     },
     "execution_count": 129,
     "metadata": {},
     "output_type": "execute_result"
    }
   ],
   "source": [
    "(17/2131)*100"
   ]
  }
 ],
 "metadata": {
  "kernelspec": {
   "display_name": "Python 3",
   "language": "python",
   "name": "python3"
  },
  "language_info": {
   "codemirror_mode": {
    "name": "ipython",
    "version": 3
   },
   "file_extension": ".py",
   "mimetype": "text/x-python",
   "name": "python",
   "nbconvert_exporter": "python",
   "pygments_lexer": "ipython3",
   "version": "3.7.4"
  }
 },
 "nbformat": 4,
 "nbformat_minor": 2
}
