{
 "cells": [
  {
   "cell_type": "code",
   "execution_count": 68,
   "metadata": {},
   "outputs": [],
   "source": [
    "#work horses of tables (dataframe) and arrays\n",
    "import pandas as pd\n",
    "import numpy as np\n",
    "import matplotlib.pyplot as plt\n",
    "\n",
    "# Machine Learning Algorithm\n",
    "from sklearn.ensemble import RandomForestClassifier\n",
    "\n",
    "# Test and train dataset split\n",
    "from sklearn import model_selection\n",
    "\n",
    "# switch off pandas warning \n",
    "pd.options.mode.chained_assignment = None\n",
    "\n",
    "# used to write the model to a file\n",
    "from sklearn.externals import joblib"
   ]
  },
  {
   "cell_type": "code",
   "execution_count": 70,
   "metadata": {},
   "outputs": [
    {
     "name": "stdout",
     "output_type": "stream",
     "text": [
      "                               0                         1\n",
      "Unnamed: 0                   998                       179\n",
      "row.names                    999                       180\n",
      "pclass                       3rd                       1st\n",
      "survived                       1                         0\n",
      "name        McCarthy, Miss Katie  Millet, Mr Francis Davis\n",
      "age                          NaN                        65\n",
      "embarked                     NaN               Southampton\n",
      "home.dest                    NaN      East Bridgewater, MA\n",
      "room                         NaN                       NaN\n",
      "ticket                       NaN                       NaN\n",
      "boat                         NaN                     (249)\n",
      "sex                       female                      male\n"
     ]
    }
   ],
   "source": [
    "# Read the Titanic_train.csv file here\n",
    "#data is a dataframe \n",
    "data = pd.read_csv('titanic_train.csv')\n",
    "\n",
    "#head\n",
    "print(data.head(2).transpose())"
   ]
  },
  {
   "cell_type": "code",
   "execution_count": 71,
   "metadata": {},
   "outputs": [
    {
     "name": "stdout",
     "output_type": "stream",
     "text": [
      "Index(['Unnamed: 0', 'row.names', 'pclass', 'survived', 'name', 'age',\n",
      "       'embarked', 'home.dest', 'room', 'ticket', 'boat', 'sex'],\n",
      "      dtype='object')\n"
     ]
    }
   ],
   "source": [
    "# columns\n",
    "print(data.columns)"
   ]
  },
  {
   "cell_type": "markdown",
   "metadata": {},
   "source": [
    "For this example, we are only extracting 2 things: Class, age and sex. \n",
    "Do that below\n",
    "\n",
    "The best place to deal with data and missing data is he dataframe BEFORE it becomes an array"
   ]
  },
  {
   "cell_type": "code",
   "execution_count": 73,
   "metadata": {},
   "outputs": [
    {
     "name": "stdout",
     "output_type": "stream",
     "text": [
      "   survived pclass   age     sex room     embarked ticket   boat  \\\n",
      "0         1    3rd   NaN  female  NaN          NaN    NaN    NaN   \n",
      "1         0    1st  65.0    male  NaN  Southampton    NaN  (249)   \n",
      "2         0    2nd  59.0    male  NaN  Southampton    NaN    NaN   \n",
      "3         0    1st  46.0    male  NaN    Cherbourg    NaN  (292)   \n",
      "4         0    3rd   NaN    male  NaN          NaN    NaN    NaN   \n",
      "\n",
      "              home.dest  \n",
      "0                   NaN  \n",
      "1  East Bridgewater, MA  \n",
      "2    Sault St Marie, ON  \n",
      "3         Vancouver, BC  \n",
      "4                   NaN  \n"
     ]
    }
   ],
   "source": [
    "# Extract the pclass, age and sex into a new Dataframe\n",
    "column_list = ['survived','pclass', 'age', 'sex','room', 'embarked','ticket','boat','home.dest']\n",
    "titanic_data = data[column_list]\n",
    "\n",
    "# exactly the same titanic_data = data[['pclass','age','sex']]\n",
    "print(titanic_data.head())"
   ]
  },
  {
   "cell_type": "code",
   "execution_count": 74,
   "metadata": {},
   "outputs": [
    {
     "data": {
      "text/plain": [
       "room\n",
       "A-11            1\n",
       "A-23            1\n",
       "A-36            1\n",
       "B-18            2\n",
       "B-3             1\n",
       "B-5             2\n",
       "B-51/3/5        2\n",
       "B-58/60         1\n",
       "B-82/4          1\n",
       "B-86            1\n",
       "B-?             1\n",
       "C-101           1\n",
       "C-103           1\n",
       "C-104           1\n",
       "C-125           2\n",
       "C-126           1\n",
       "C-148           1\n",
       "C-22            1\n",
       "C-45            1\n",
       "C-49            1\n",
       "C-51            1\n",
       "C-55 (?C-95)    1\n",
       "C-6             1\n",
       "C-7             2\n",
       "C-83            1\n",
       "C-85            2\n",
       "C-87            2\n",
       "C-89            1\n",
       "C-91            1\n",
       "C22             2\n",
       "C26             2\n",
       "D-35            1\n",
       "D-56            1\n",
       "E-101           1\n",
       "E-12            1\n",
       "F-33            4\n",
       "dtype: int64"
      ]
     },
     "execution_count": 74,
     "metadata": {},
     "output_type": "execute_result"
    }
   ],
   "source": [
    "# Room work\n",
    "# step 1 classes in room\n",
    "titanic_data.groupby('room').size()"
   ]
  },
  {
   "cell_type": "code",
   "execution_count": 75,
   "metadata": {},
   "outputs": [
    {
     "name": "stdout",
     "output_type": "stream",
     "text": [
      "E\n"
     ]
    }
   ],
   "source": [
    "# step 2 a function to retrieve the first letter\n",
    "def first_letter(text):\n",
    "    return text[0]\n",
    "        \n",
    "# test\n",
    "t = 'E-101 '\n",
    "print(first_letter(t))"
   ]
  },
  {
   "cell_type": "code",
   "execution_count": 76,
   "metadata": {},
   "outputs": [],
   "source": [
    "# step 3 create a column with this first letter\n",
    "\n",
    "titanic_data['deck'] = titanic_data['room'].apply(lambda r : first_letter(str(r)))\n"
   ]
  },
  {
   "cell_type": "code",
   "execution_count": 77,
   "metadata": {},
   "outputs": [
    {
     "data": {
      "text/plain": [
       "deck\n",
       "A      3\n",
       "B     11\n",
       "C     26\n",
       "D      2\n",
       "E      2\n",
       "F      4\n",
       "n    871\n",
       "dtype: int64"
      ]
     },
     "execution_count": 77,
     "metadata": {},
     "output_type": "execute_result"
    }
   ],
   "source": [
    "titanic_data.groupby('deck').size()"
   ]
  },
  {
   "cell_type": "code",
   "execution_count": 78,
   "metadata": {},
   "outputs": [
    {
     "data": {
      "text/plain": [
       "deck\n",
       "A     3\n",
       "B    11\n",
       "C    26\n",
       "D     2\n",
       "E     2\n",
       "F     4\n",
       "dtype: int64"
      ]
     },
     "execution_count": 78,
     "metadata": {},
     "output_type": "execute_result"
    }
   ],
   "source": [
    "titanic_data['deck'].replace('n',np.nan, inplace = True)\n",
    "titanic_data.groupby('deck').size()"
   ]
  },
  {
   "cell_type": "code",
   "execution_count": 79,
   "metadata": {},
   "outputs": [
    {
     "name": "stdout",
     "output_type": "stream",
     "text": [
      "   survived   age room     embarked ticket   boat             home.dest deck  \\\n",
      "0         1   NaN  NaN          NaN    NaN    NaN                   NaN  NaN   \n",
      "1         0  65.0  NaN  Southampton    NaN  (249)  East Bridgewater, MA  NaN   \n",
      "2         0  59.0  NaN  Southampton    NaN    NaN    Sault St Marie, ON  NaN   \n",
      "3         0  46.0  NaN    Cherbourg    NaN  (292)         Vancouver, BC  NaN   \n",
      "4         0   NaN  NaN          NaN    NaN    NaN                   NaN  NaN   \n",
      "\n",
      "   pclass_2nd  pclass_3rd  sex_male  \n",
      "0           0           1         0  \n",
      "1           0           0         1  \n",
      "2           1           0         1  \n",
      "3           0           0         1  \n",
      "4           0           1         1  \n"
     ]
    }
   ],
   "source": [
    "# When there are no or little missing values: drop_first = true\n",
    "# because I can infer for sure the value of the dropped column\n",
    "\n",
    "expanded_data =pd.get_dummies(titanic_data, columns=['pclass','sex'], drop_first = True)\n",
    "print(expanded_data.head())"
   ]
  },
  {
   "cell_type": "code",
   "execution_count": 80,
   "metadata": {},
   "outputs": [
    {
     "data": {
      "text/plain": [
       "survived       0\n",
       "pclass         0\n",
       "age          480\n",
       "sex            0\n",
       "room         871\n",
       "embarked     348\n",
       "ticket       873\n",
       "boat         686\n",
       "home.dest    388\n",
       "deck         871\n",
       "dtype: int64"
      ]
     },
     "execution_count": 80,
     "metadata": {},
     "output_type": "execute_result"
    }
   ],
   "source": [
    "titanic_data.isna().sum()"
   ]
  },
  {
   "cell_type": "code",
   "execution_count": 81,
   "metadata": {},
   "outputs": [
    {
     "name": "stdout",
     "output_type": "stream",
     "text": [
      "Missing embarked = 37.867247007616974%\n"
     ]
    }
   ],
   "source": [
    "one_column = data['embarked'] # data series \n",
    "\n",
    "missings = one_column.isna().sum()\n",
    "\n",
    "ratio = (missings/len(one_column))\n",
    "\n",
    "print('Missing embarked = {}%'.format(ratio*100))"
   ]
  },
  {
   "cell_type": "code",
   "execution_count": 82,
   "metadata": {},
   "outputs": [
    {
     "name": "stdout",
     "output_type": "stream",
     "text": [
      "   survived   age room ticket   boat                     home.dest  \\\n",
      "0         1   NaN  NaN    NaN    NaN                           NaN   \n",
      "1         0  65.0  NaN    NaN  (249)          East Bridgewater, MA   \n",
      "2         0  59.0  NaN    NaN    NaN            Sault St Marie, ON   \n",
      "3         0  46.0  NaN    NaN  (292)                 Vancouver, BC   \n",
      "4         0   NaN  NaN    NaN    NaN                           NaN   \n",
      "5         1   NaN  NaN    NaN    NaN                Youngstown, OH   \n",
      "6         0   NaN  NaN    NaN    NaN                           NaN   \n",
      "7         1   NaN  NaN    NaN    NaN                           NaN   \n",
      "8         0   NaN  NaN    NaN  (171)                           NaN   \n",
      "9         1  49.0  NaN    NaN      5  Paris, France / New York, NY   \n",
      "\n",
      "   pclass_2nd  pclass_3rd  sex_male  embarked_Cherbourg  embarked_Queenstown  \\\n",
      "0           0           1         0                   0                    0   \n",
      "1           0           0         1                   0                    0   \n",
      "2           1           0         1                   0                    0   \n",
      "3           0           0         1                   1                    0   \n",
      "4           0           1         1                   0                    0   \n",
      "5           0           1         0                   1                    0   \n",
      "6           0           1         0                   0                    0   \n",
      "7           0           1         0                   0                    0   \n",
      "8           0           1         1                   0                    1   \n",
      "9           0           0         1                   1                    0   \n",
      "\n",
      "   embarked_Southampton  deck_A  deck_B  deck_C  deck_D  deck_E  deck_F  \n",
      "0                     0       0       0       0       0       0       0  \n",
      "1                     1       0       0       0       0       0       0  \n",
      "2                     1       0       0       0       0       0       0  \n",
      "3                     0       0       0       0       0       0       0  \n",
      "4                     0       0       0       0       0       0       0  \n",
      "5                     0       0       0       0       0       0       0  \n",
      "6                     0       0       0       0       0       0       0  \n",
      "7                     0       0       0       0       0       0       0  \n",
      "8                     0       0       0       0       0       0       0  \n",
      "9                     0       0       0       0       0       0       0  \n"
     ]
    }
   ],
   "source": [
    "# When there are  a lot of  missing values: drop_first = false\n",
    "# because I cannot infer for sure the value of the dropped column\n",
    "\n",
    "expanded_data =pd.get_dummies(expanded_data, columns=['embarked','deck'], drop_first = False)\n",
    "print(expanded_data.head(10))"
   ]
  },
  {
   "cell_type": "code",
   "execution_count": 83,
   "metadata": {},
   "outputs": [
    {
     "name": "stdout",
     "output_type": "stream",
     "text": [
      "median 29.0\n",
      "mean 31.063591343963555\n"
     ]
    }
   ],
   "source": [
    "# deal with age missing values\n",
    "\n",
    "# 1st step calculate the median for the whole population\n",
    "median_age = titanic_data['age'].median()\n",
    "print('median',median_age)\n",
    "mean_age = titanic_data['age'].mean()\n",
    "print('mean',mean_age)"
   ]
  },
  {
   "cell_type": "code",
   "execution_count": 84,
   "metadata": {},
   "outputs": [
    {
     "name": "stdout",
     "output_type": "stream",
     "text": [
      "   survived   age room ticket   boat             home.dest  pclass_2nd  \\\n",
      "0         1  29.0  NaN    NaN    NaN                   NaN           0   \n",
      "1         0  65.0  NaN    NaN  (249)  East Bridgewater, MA           0   \n",
      "\n",
      "   pclass_3rd  sex_male  embarked_Cherbourg  embarked_Queenstown  \\\n",
      "0           1         0                   0                    0   \n",
      "1           0         1                   0                    0   \n",
      "\n",
      "   embarked_Southampton  deck_A  deck_B  deck_C  deck_D  deck_E  deck_F  \n",
      "0                     0       0       0       0       0       0       0  \n",
      "1                     1       0       0       0       0       0       0  \n"
     ]
    }
   ],
   "source": [
    "# descriptive functions google pandas dataframe descriptive stats\n",
    "\n",
    "# 2nd step to replace NaN by the median\n",
    "\n",
    "expanded_data['age'].fillna(median_age, inplace = True)\n",
    "\n",
    "# equivalent to\n",
    "# titanic_data['age'].replace(np.nan, median_age, inplace = True)\n",
    "print(expanded_data.head(2))"
   ]
  },
  {
   "cell_type": "code",
   "execution_count": 85,
   "metadata": {},
   "outputs": [
    {
     "name": "stdout",
     "output_type": "stream",
     "text": [
      "survivors in our sample 315\n",
      "missing values in target 0\n"
     ]
    }
   ],
   "source": [
    "# Create the expected result dataframe\n",
    "survived_d = expanded_data['survived']\n",
    "\n",
    "print('survivors in our sample',survived_d.sum())\n",
    "print('missing values in target', survived_d.isna().sum())\n",
    "# print(survived_d)\n",
    "\n",
    "### we want zero missing values in the target variable"
   ]
  },
  {
   "cell_type": "code",
   "execution_count": 86,
   "metadata": {},
   "outputs": [
    {
     "data": {
      "text/plain": [
       "Index(['survived', 'age', 'room', 'ticket', 'boat', 'home.dest', 'pclass_2nd',\n",
       "       'pclass_3rd', 'sex_male', 'embarked_Cherbourg', 'embarked_Queenstown',\n",
       "       'embarked_Southampton', 'deck_A', 'deck_B', 'deck_C', 'deck_D',\n",
       "       'deck_E', 'deck_F'],\n",
       "      dtype='object')"
      ]
     },
     "execution_count": 86,
     "metadata": {},
     "output_type": "execute_result"
    }
   ],
   "source": [
    "expanded_data.columns"
   ]
  },
  {
   "cell_type": "code",
   "execution_count": 87,
   "metadata": {},
   "outputs": [
    {
     "name": "stdout",
     "output_type": "stream",
     "text": [
      "735 735\n"
     ]
    }
   ],
   "source": [
    "# Create train/test split\n",
    "\n",
    "# the percentage of the dataset in the test set\n",
    "validation_size = 0.20 #20%\n",
    "\n",
    "# the random seed a we are sampling randomly our data\n",
    "# that is we select the lines in the 2 different set randomly\n",
    "seed = 97\n",
    "\n",
    "# Split-out validation dataset\n",
    "\n",
    "\n",
    "X= expanded_data[[ 'age', 'pclass_2nd','pclass_3rd', 'sex_male',\n",
    "                  'embarked_Cherbourg', 'embarked_Queenstown',\n",
    "                   'embarked_Southampton', 'deck_A', 'deck_B', \n",
    "                  'deck_C', 'deck_D','deck_E', 'deck_F']]\n",
    "\n",
    "# equivalent to\n",
    "# del expanded_data['survived']\n",
    "\n",
    "Y = survived_d\n",
    "X_train, X_test, Y_train, Y_test  =  model_selection.train_test_split(\n",
    "    X, Y, test_size=validation_size, random_state=seed)\n",
    "\n",
    "# we now have X_train and Y_train for preparing models\n",
    "# and  X_validation and Y_validation we can use later\n",
    "\n",
    "print(len(X_train), len(Y_train))"
   ]
  },
  {
   "cell_type": "code",
   "execution_count": 88,
   "metadata": {},
   "outputs": [
    {
     "data": {
      "text/plain": [
       "RandomForestClassifier(bootstrap=True, class_weight=None, criterion='gini',\n",
       "            max_depth=None, max_features='auto', max_leaf_nodes=None,\n",
       "            min_impurity_decrease=0.0, min_impurity_split=None,\n",
       "            min_samples_leaf=1, min_samples_split=2,\n",
       "            min_weight_fraction_leaf=0.0, n_estimators=10, n_jobs=1,\n",
       "            oob_score=False, random_state=None, verbose=0,\n",
       "            warm_start=False)"
      ]
     },
     "execution_count": 88,
     "metadata": {},
     "output_type": "execute_result"
    }
   ],
   "source": [
    "# Create the random forest instance, and train it with training data\n",
    "\n",
    "rf = RandomForestClassifier (n_estimators = 10, criterion ='entropy',max_depth=None, min_samples_split=0.025,\n",
    "                             min_samples_leaf=0.005, random_state=97)\n",
    "\n",
    "rf2 = RandomForestClassifier (n_estimators = 10, criterion ='gini')\n",
    "\n",
    "rf.fit(X_train,Y_train.values.ravel())\n",
    "\n",
    "rf2.fit(X_train,Y_train.values.ravel())"
   ]
  },
  {
   "cell_type": "code",
   "execution_count": 89,
   "metadata": {},
   "outputs": [
    {
     "name": "stdout",
     "output_type": "stream",
     "text": [
      "My first model accuracy is = 84.23913043478261%\n",
      "My second model accuracy is = 83.15217391304348%\n"
     ]
    }
   ],
   "source": [
    "# Get the accuracy of your model\n",
    "\n",
    "accuracy = rf.score(X_test, Y_test)\n",
    "print('My first model accuracy is = {}%'.format(accuracy*100))\n",
    "\n",
    "accuracy = rf2.score(X_test, Y_test)\n",
    "print('My second model accuracy is = {}%'.format(accuracy*100))"
   ]
  },
  {
   "cell_type": "code",
   "execution_count": 90,
   "metadata": {},
   "outputs": [
    {
     "name": "stdout",
     "output_type": "stream",
     "text": [
      "pclass_3rd\n",
      "Feature ranking:\n",
      "1 sex_male 0.4216207717593786\n",
      "2 pclass_3rd 0.2248850245059036\n",
      "3 age 0.1914864316544776\n",
      "4 embarked_Cherbourg 0.0700670604771205\n",
      "5 embarked_Southampton 0.05738738874977197\n",
      "6 pclass_2nd 0.01640668499965688\n",
      "7 embarked_Queenstown 0.012617085872845723\n",
      "8 deck_B 0.003365823515819428\n",
      "9 deck_C 0.0021637284650257277\n",
      "10 deck_F 0.0\n",
      "11 deck_E 0.0\n",
      "12 deck_D 0.0\n",
      "13 deck_A 0.0\n"
     ]
    }
   ],
   "source": [
    "# this is for random forest\n",
    "\n",
    "importances = rf.feature_importances_\n",
    "std = np.std([tree.feature_importances_ for tree in rf.estimators_],\n",
    "             axis=0)\n",
    "indices = np.argsort(importances)[::-1]\n",
    "print(X.columns[indices[1]])\n",
    "# Print the feature ranking\n",
    "print(\"Feature ranking:\")\n",
    "\n",
    "for f in range(X.shape[1]):\n",
    "    #print(\"%d. feature %d (%f)\" % (f + 1, indices[f], importances[indices[f]]))\n",
    "    print( f + 1, X.columns[indices[f]], importances[indices[f]])"
   ]
  },
  {
   "cell_type": "code",
   "execution_count": 91,
   "metadata": {},
   "outputs": [
    {
     "data": {
      "image/png": "[encoded data removed]",
      "text/plain": [
       "<Figure size 432x288 with 1 Axes>"
      ]
     },
     "metadata": {
      "needs_background": "light"
     },
     "output_type": "display_data"
    }
   ],
   "source": [
    "# Plot the feature importances of the forest\n",
    "plt.figure()\n",
    "plt.title(\"Feature importances\")\n",
    "plt.bar(range(X.shape[1]), importances[indices],\n",
    "       color=\"fuchsia\", yerr=std[indices], align=\"center\")\n",
    "plt.xticks(range(X.shape[1]), X.columns[indices],rotation=\"vertical\")\n",
    "plt.xlim([-1, X.shape[1]])\n",
    "plt.show()"
   ]
  },
  {
   "cell_type": "code",
   "execution_count": null,
   "metadata": {},
   "outputs": [],
   "source": [
    "X.columns"
   ]
  },
  {
   "cell_type": "code",
   "execution_count": 31,
   "metadata": {},
   "outputs": [],
   "source": [
    "# Extract single tree\n",
    "estimator = rf.estimators_[5]\n",
    "\n",
    "# specific module needed\n",
    "from sklearn.tree import export_graphviz\n",
    "from sklearn.externals.six import StringIO  \n",
    "# specific library to install\n",
    "import pydot \n",
    "dot_data = StringIO() \n",
    "export_graphviz(estimator, feature_names=X.columns,class_names = ['Perished', 'Survived'],out_file=dot_data,\n",
    "                filled= True,leaves_parallel=False , impurity=True, node_ids=False, proportion=True, rotate=False, \n",
    "                rounded=True, special_characters=False, precision=1) \n",
    "graph = pydot.graph_from_dot_data(dot_data.getvalue()) \n",
    "graph[0].write_pdf(\"titanicTree.pdf\") "
   ]
  },
  {
   "cell_type": "code",
   "execution_count": 35,
   "metadata": {},
   "outputs": [],
   "source": [
    "# Read the Titanic_test.csv file here\n",
    "#data is a dataframe \n",
    "data = pd.read_csv('titanic_test.csv')\n",
    "\n",
    "# Extract the pclass, age and sex into a new Dataframe\n",
    "column_list = ['survived','pclass', 'age', 'sex','room', 'embarked','ticket','boat','home.dest']\n",
    "titanic_test = data[column_list]"
   ]
  },
  {
   "cell_type": "code",
   "execution_count": 36,
   "metadata": {},
   "outputs": [],
   "source": [
    "expanded_test =pd.get_dummies(titanic_test, columns=['pclass','sex'], drop_first = True)\n",
    "expanded_test =pd.get_dummies(expanded_test, columns=['embarked'], drop_first = False)\n"
   ]
  },
  {
   "cell_type": "code",
   "execution_count": 38,
   "metadata": {},
   "outputs": [
    {
     "name": "stdout",
     "output_type": "stream",
     "text": [
      "394 394\n"
     ]
    }
   ],
   "source": [
    "expanded_test['age'].fillna(median_age, inplace = True)\n",
    "'''\n",
    "expanded_test['room'] = expanded_test['room'].isna().astype(int)\n",
    "\n",
    "expanded_test[['ticket','boat','home.dest']] =expanded_test[\n",
    "    ['ticket','boat','home.dest']].isna().astype(int)\n",
    "'''\n",
    "Y = expanded_test['survived']\n",
    "\n",
    "X= expanded_test[['age',  'pclass_2nd', 'pclass_3rd', 'sex_male', 'embarked_Cherbourg', 'embarked_Queenstown',\n",
    "       'embarked_Southampton']]\n",
    "\n",
    "\n",
    "print(len(X), len(Y))\n"
   ]
  },
  {
   "cell_type": "code",
   "execution_count": 39,
   "metadata": {},
   "outputs": [
    {
     "name": "stdout",
     "output_type": "stream",
     "text": [
      "                                                 name  prediction  actual\n",
      "0                                     Cann, Mr Ernest           0       0\n",
      "1    Taylor, Mrs Elmer Zebley (Juliet Cummins Wright)           1       1\n",
      "2                              Kent, Mr Edward Austin           0       0\n",
      "3                           Abelseth, Miss Anna Karen           0       1\n",
      "4                                    Hold, Mr Stephen           0       0\n",
      "5                                   Hickman, Mr Lewis           0       0\n",
      "6                           Norman, Mr Robert Douglas           0       0\n",
      "7                          Kink, Miss Louise Gretchen           0       1\n",
      "8                            Van Impe, Miss Catharine           0       0\n",
      "9                                      Mack, Mrs Mary           1       0\n",
      "10                                 Buckley, Mr Daniel           0       1\n",
      "11                              Natsch, Mr Charles H.           0       0\n",
      "12                            Johnston, Mrs Andrew G.           0       0\n",
      "13                                Ware, Mr William J.           0       0\n",
      "14                   Andrews, Miss Kornelia Theodosia           1       1\n",
      "15       Snyder, Mrs John Pillsbury (Nelle Stevenson)           1       1\n",
      "16   Astor, Mrs John Jacob (Madeleine Talmadge Force)           1       1\n",
      "17                          Payne, Mr Vivian Ponsonby           0       0\n",
      "18                                Thomas, Mr John, Jr           0       0\n",
      "19                                    Buss, Miss Kate           1       1\n",
      "20                                   Pears, Mr Thomas           0       0\n",
      "21                            Allen, Mr William Henry           0       0\n",
      "22                                   Elias, Mr Joseph           0       0\n",
      "23                                 Svensson, Mr Johan           0       0\n",
      "24                          Pears, Mrs Thomas (Edith)           1       1\n",
      "25                                 Oreskovic, Mr Luka           0       0\n",
      "26                        Walker, Mr William Anderson           0       0\n",
      "27                            Vassilios, Mr Catavelas           0       0\n",
      "28                                   Webber, Mr James           0       0\n",
      "29                          Matthews, Mr William John           0       0\n",
      "..                                                ...         ...     ...\n",
      "364                                 Sdycoff, Mr Todor           0       0\n",
      "365           Bishop, Mrs Dickinson H. (Helen Walton)           1       1\n",
      "366                                Moran, Miss Bertha           0       1\n",
      "367                            Sutehall, Mr Henry, Jr           0       0\n",
      "368                                 McCoy, Miss Alice           0       0\n",
      "369                           Salander, Mr Karl Johan           0       0\n",
      "370                           Crease, Mr Ernest James           0       0\n",
      "371                       Theobald, Mr Thomas Leonard           0       0\n",
      "372                                   Blank, Mr Henry           0       1\n",
      "373                  Butt, Major Archibald Willingham           0       0\n",
      "374                                  Staehlin, Dr Max           0       1\n",
      "375                        Chaffee, Mr Herbert Fuller           0       0\n",
      "376                             Vendel, Mr Olof Wdvin           0       0\n",
      "377                                 Lahowd, Mr Sarkis           0       0\n",
      "378                                Wheadon, Mr Edward           0       0\n",
      "379                               Bissetti, Ms Amelia           1       1\n",
      "380                                  Reeves, Mr David           0       0\n",
      "381                                LeRoy, Miss Berthe           1       1\n",
      "382                                     Zievens, Rene           0       0\n",
      "383                                De Mulder, Mr Theo           0       1\n",
      "384                         Shellard, Mr Frederick B.           0       0\n",
      "385                       Allison, Miss Helen Loraine           1       0\n",
      "386                                 Hart, Mr Benjamin           0       0\n",
      "387                                Webber, Miss Susan           1       1\n",
      "388  Kimball, Mrs Edwin Nelson Jr. (Gertrude Parsons)           1       1\n",
      "389        Douglas, Mrs Walter Donald (Mahala Dutton)           1       1\n",
      "390                               O'Keefe, Mr Patrick           0       0\n",
      "391                     Fischer, Mr Eberhard Telander           0       0\n",
      "392                                    Bird, Ms Ellen           1       1\n",
      "393                                Moss, Albert Johan           0       0\n",
      "\n",
      "[394 rows x 3 columns]\n"
     ]
    }
   ],
   "source": [
    "prediction = pd.Series(rf.predict(X))\n",
    "survivors = data[['name']]\n",
    "survivors['prediction']= prediction\n",
    "survivors['actual']=data[['survived']]\n",
    "print(survivors)"
   ]
  },
  {
   "cell_type": "code",
   "execution_count": 40,
   "metadata": {},
   "outputs": [
    {
     "name": "stdout",
     "output_type": "stream",
     "text": [
      "My first model accuracy is = 82.99492385786802%\n"
     ]
    }
   ],
   "source": [
    "accuracy = rf.score(X, Y)\n",
    "print('My first model accuracy is = {}%'.format(accuracy*100))"
   ]
  }
 ],
 "metadata": {
  "kernelspec": {
   "display_name": "Python 3",
   "language": "python",
   "name": "python3"
  },
  "language_info": {
   "codemirror_mode": {
    "name": "ipython",
    "version": 3
   },
   "file_extension": ".py",
   "mimetype": "text/x-python",
   "name": "python",
   "nbconvert_exporter": "python",
   "pygments_lexer": "ipython3",
   "version": "3.7.4"
  }
 },
 "nbformat": 4,
 "nbformat_minor": 1
}
