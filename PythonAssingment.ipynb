{
 "cells": [
  {
   "cell_type": "code",
   "execution_count": 2,
   "metadata": {},
   "outputs": [
    {
     "name": "stdout",
     "output_type": "stream",
     "text": [
      "Python Assignment\n"
     ]
    }
   ],
   "source": [
    "print(\"Python Assignment\") #This is where I will be making my python assignment because it did not let me unzip the file"
   ]
  },
  {
   "cell_type": "code",
   "execution_count": null,
   "metadata": {},
   "outputs": [],
   "source": []
  },
  {
   "cell_type": "code",
   "execution_count": 14,
   "metadata": {},
   "outputs": [
    {
     "ename": "IndentationError",
     "evalue": "expected an indented block (<ipython-input-14-5fcdb89ac11b>, line 9)",
     "output_type": "error",
     "traceback": [
      "\u001b[1;36m  File \u001b[1;32m\"<ipython-input-14-5fcdb89ac11b>\"\u001b[1;36m, line \u001b[1;32m9\u001b[0m\n\u001b[1;33m    print(n, \"\", fibonacci(n))\u001b[0m\n\u001b[1;37m        ^\u001b[0m\n\u001b[1;31mIndentationError\u001b[0m\u001b[1;31m:\u001b[0m expected an indented block\n"
     ]
    }
   ],
   "source": [
    "def fibonacci(n):\n",
    "    if n==1:\n",
    "        return 1\n",
    "    elif n== 2:\n",
    "        return 1\n",
    "    elif n > 2:\n",
    "        return fibonacci(n-1) + fibonacci (n-2) \n",
    "for n in range (1,11):\n",
    "print(n, \"\", fibonacci(n))\n",
    "    "
   ]
  },
  {
   "cell_type": "code",
   "execution_count": 15,
   "metadata": {},
   "outputs": [
    {
     "name": "stdout",
     "output_type": "stream",
     "text": [
      "My name is Michele\n"
     ]
    }
   ],
   "source": [
    "print (\"My name is Michele\")"
   ]
  },
  {
   "cell_type": "code",
   "execution_count": 18,
   "metadata": {},
   "outputs": [],
   "source": [
    "def write_backwards(sentence):\n",
    "    # initialisation\n",
    "    counter= len(sentence)\n",
    "    end_string=''\n",
    "\n",
    "    while counter >= 1:    \n",
    "        end_string = end_string + sentence[counter-1]\n",
    "        counter = counter - 1 #always modify your test variable at then end\n",
    "    \n",
    "    print (end_string)"
   ]
  },
  {
   "cell_type": "code",
   "execution_count": 19,
   "metadata": {},
   "outputs": [
    {
     "name": "stdout",
     "output_type": "stream",
     "text": [
      "elehciM si eman yM\n"
     ]
    }
   ],
   "source": [
    "write_backwards(\"My name is Michele\")"
   ]
  },
  {
   "cell_type": "code",
   "execution_count": 3,
   "metadata": {},
   "outputs": [
    {
     "name": "stdout",
     "output_type": "stream",
     "text": [
      "True\n"
     ]
    }
   ],
   "source": [
    "s= \"Was it a cat I saw?\"\n",
    "\n",
    "# Solutions uses extra space proportional to size of string \"s\"\n",
    "#s = '' .join([i for i in s if i.isalpha()]).replace(\" \", \"\").lower()\n",
    "#print(s == S[::-1])\n",
    "\n",
    "def is_palindrome(s):\n",
    "    i = 0\n",
    "    j = len(s) - 1\n",
    "    while i<j:\n",
    "        while not s[i].isalnum() and i < j:\n",
    "            i += 1\n",
    "        while not s[j].isalnum() and i < j:\n",
    "            j -= 1\n",
    "        \n",
    "        if s[i].lower() != s[j].lower():\n",
    "            return False\n",
    "        \n",
    "        i += 1\n",
    "        j -= 1\n",
    "    return True\n",
    "\n",
    "print (is_palindrome(s))\n"
   ]
  },
  {
   "cell_type": "code",
   "execution_count": null,
   "metadata": {},
   "outputs": [
    {
     "name": "stdout",
     "output_type": "stream",
     "text": [
      "Enter a name : (press only Enter to close)\n",
      "Albert Einstein\n",
      "03/14/1879is the birthday ofAlbert Einstein\n",
      "Enter a name : (press only Enter to close)\n",
      "Benjamin Franklin\n",
      "01/17/1706is the birthday ofBenjamin Franklin\n",
      "Enter a name : (press only Enter to close)\n",
      "Tupac Shakur\n",
      "sorry I do not have birthday info forTupac Shakur\n",
      "What is their birthday?\n"
     ]
    }
   ],
   "source": [
    "#First create a dictionary\n",
    "birthdays= {'Albert Einstein' : '03/14/1879', 'Benjamin Franklin' : '01/17/1706', 'Ada Lovelace' : '12/10/1815'}\n",
    "\n",
    "while True:\n",
    "    print('Enter a name : (press only Enter to close)') \n",
    "    name=input()\n",
    "    if name == '':\n",
    "        break\n",
    "    if name in birthdays:\n",
    "        print(birthdays[name] + 'is the birthday of' + name)\n",
    "    else:\n",
    "        print('sorry I do not have birthday info for' + name)\n",
    "        print('What is their birthday?')\n",
    "        bday=input()\n",
    "        birthdays[name]=bday\n",
    "        print('Birthday Database updated')"
   ]
  },
  {
   "cell_type": "code",
   "execution_count": 2,
   "metadata": {},
   "outputs": [],
   "source": [
    "import requests\n",
    "from bs4 import BeautifulSoup\n",
    "\n",
    "url = 'https://www.nytimes.com/'\n",
    "r = requests.get(url)\n",
    "r_html = r.text\n",
    "\n",
    "soup = BeautifulSoup(r_html, \"lxml\")\n",
    "\n",
    "for titles in soup.find_all(class_=\"story\"):\n",
    "       title = titles.a\n",
    "       print(title.string) "
   ]
  }
 ],
 "metadata": {
  "kernelspec": {
   "display_name": "Python 3",
   "language": "python",
   "name": "python3"
  },
  "language_info": {
   "codemirror_mode": {
    "name": "ipython",
    "version": 3
   },
   "file_extension": ".py",
   "mimetype": "text/x-python",
   "name": "python",
   "nbconvert_exporter": "python",
   "pygments_lexer": "ipython3",
   "version": "3.7.0"
  }
 },
 "nbformat": 4,
 "nbformat_minor": 2
}
